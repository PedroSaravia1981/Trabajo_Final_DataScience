{
 "cells": [
  {
   "cell_type": "markdown",
   "metadata": {
    "id": "vTh6Usob43zi"
   },
   "source": [
    "#Trabajo Final - ¿Cómo prevenir el attrition de clientes de una entidad bancaria?\n",
    "#Curso: DataScience (CoderHouse)\n",
    "#Autor: Pedro Saravia"
   ]
  },
  {
   "cell_type": "markdown",
   "metadata": {
    "id": "342wrlY0qmqQ"
   },
   "source": [
    "# Abstracto\n",
    "Para el desarrollo del proyecto final de la cursada de Data Science en CoderHouse se seleccionó el dataset \"BankChurners\" descargado de la plataforma Kaggle.com (https://www.kaggle.com/datasets/syviaw/bankchurners), el cual contiene un listado de clientes con sus respectivos datos demográficos (genero, edad, estado civil, etc.) y datos sobre su tarjeta de crédito, límite de consumo, nivel de ingresos, meses de inactividad y otros datos sobre el comportamiento de consumo de los mismos.\n",
    "Con el análisis y las visualizaciones obtenidas de estos datos, se pretende realizar recomendaciones a los directivos del banco, en específico a los encargados de marketing, acerca de a qué grupo de clientes conviene dirigir campañas de retención y/o fidelización para evitar su abandono como cliente de la institución, por lo que se podría definir el problema a resolver como uno de \"clasificación\"."
   ]
  },
  {
   "cell_type": "markdown",
   "metadata": {
    "id": "IJIq-69MZ0lp"
   },
   "source": [
    "### Exploración del Dataset BankChurners"
   ]
  },
  {
   "cell_type": "code",
   "execution_count": 1,
   "metadata": {
    "executionInfo": {
     "elapsed": 440,
     "status": "ok",
     "timestamp": 1672625076661,
     "user": {
      "displayName": "Pedro Ignacio Saravia",
      "userId": "08573639063922177054"
     },
     "user_tz": 180
    },
    "id": "e3U4uGRsjthX"
   },
   "outputs": [],
   "source": [
    "# Importación de las librerías necesarias:\n",
    "\n",
    "import numpy as np\n",
    "import pandas as pd\n",
    "from matplotlib import pyplot as plt\n",
    "import seaborn as sns\n",
    "import datetime"
   ]
  },
  {
   "cell_type": "code",
   "execution_count": 2,
   "metadata": {
    "colab": {
     "base_uri": "https://localhost:8080/",
     "height": 386
    },
    "executionInfo": {
     "elapsed": 10,
     "status": "ok",
     "timestamp": 1672625076970,
     "user": {
      "displayName": "Pedro Ignacio Saravia",
      "userId": "08573639063922177054"
     },
     "user_tz": 180
    },
    "id": "wMipmC_Gj9U9",
    "outputId": "fba532a2-4648-4637-aee6-3d1a288fc307"
   },
   "outputs": [
    {
     "data": {
      "text/html": [
       "<div>\n",
       "<style scoped>\n",
       "    .dataframe tbody tr th:only-of-type {\n",
       "        vertical-align: middle;\n",
       "    }\n",
       "\n",
       "    .dataframe tbody tr th {\n",
       "        vertical-align: top;\n",
       "    }\n",
       "\n",
       "    .dataframe thead th {\n",
       "        text-align: right;\n",
       "    }\n",
       "</style>\n",
       "<table border=\"1\" class=\"dataframe\">\n",
       "  <thead>\n",
       "    <tr style=\"text-align: right;\">\n",
       "      <th></th>\n",
       "      <th>CLIENTNUM</th>\n",
       "      <th>Attrition_Flag</th>\n",
       "      <th>Customer_Age</th>\n",
       "      <th>Gender</th>\n",
       "      <th>Dependent_count</th>\n",
       "      <th>Education_Level</th>\n",
       "      <th>Marital_Status</th>\n",
       "      <th>Income_Category</th>\n",
       "      <th>Card_Category</th>\n",
       "      <th>Months_on_book</th>\n",
       "      <th>...</th>\n",
       "      <th>Credit_Limit</th>\n",
       "      <th>Total_Revolving_Bal</th>\n",
       "      <th>Avg_Open_To_Buy</th>\n",
       "      <th>Total_Amt_Chng_Q4_Q1</th>\n",
       "      <th>Total_Trans_Amt</th>\n",
       "      <th>Total_Trans_Ct</th>\n",
       "      <th>Total_Ct_Chng_Q4_Q1</th>\n",
       "      <th>Avg_Utilization_Ratio</th>\n",
       "      <th>Naive_Bayes_Classifier_Attrition_Flag_Card_Category_Contacts_Count_12_mon_Dependent_count_Education_Level_Months_Inactive_12_mon_1</th>\n",
       "      <th>Naive_Bayes_Classifier_Attrition_Flag_Card_Category_Contacts_Count_12_mon_Dependent_count_Education_Level_Months_Inactive_12_mon_2</th>\n",
       "    </tr>\n",
       "  </thead>\n",
       "  <tbody>\n",
       "    <tr>\n",
       "      <th>0</th>\n",
       "      <td>768805383</td>\n",
       "      <td>Existing Customer</td>\n",
       "      <td>45</td>\n",
       "      <td>M</td>\n",
       "      <td>3</td>\n",
       "      <td>High School</td>\n",
       "      <td>Married</td>\n",
       "      <td>$60K - $80K</td>\n",
       "      <td>Blue</td>\n",
       "      <td>39</td>\n",
       "      <td>...</td>\n",
       "      <td>12691.0</td>\n",
       "      <td>777</td>\n",
       "      <td>11914.0</td>\n",
       "      <td>1.335</td>\n",
       "      <td>1144</td>\n",
       "      <td>42</td>\n",
       "      <td>1.625</td>\n",
       "      <td>0.061</td>\n",
       "      <td>0.000093</td>\n",
       "      <td>0.99991</td>\n",
       "    </tr>\n",
       "    <tr>\n",
       "      <th>1</th>\n",
       "      <td>818770008</td>\n",
       "      <td>Existing Customer</td>\n",
       "      <td>49</td>\n",
       "      <td>F</td>\n",
       "      <td>5</td>\n",
       "      <td>Graduate</td>\n",
       "      <td>Single</td>\n",
       "      <td>Less than $40K</td>\n",
       "      <td>Blue</td>\n",
       "      <td>44</td>\n",
       "      <td>...</td>\n",
       "      <td>8256.0</td>\n",
       "      <td>864</td>\n",
       "      <td>7392.0</td>\n",
       "      <td>1.541</td>\n",
       "      <td>1291</td>\n",
       "      <td>33</td>\n",
       "      <td>3.714</td>\n",
       "      <td>0.105</td>\n",
       "      <td>0.000057</td>\n",
       "      <td>0.99994</td>\n",
       "    </tr>\n",
       "    <tr>\n",
       "      <th>2</th>\n",
       "      <td>713982108</td>\n",
       "      <td>Existing Customer</td>\n",
       "      <td>51</td>\n",
       "      <td>M</td>\n",
       "      <td>3</td>\n",
       "      <td>Graduate</td>\n",
       "      <td>Married</td>\n",
       "      <td>$80K - $120K</td>\n",
       "      <td>Blue</td>\n",
       "      <td>36</td>\n",
       "      <td>...</td>\n",
       "      <td>3418.0</td>\n",
       "      <td>0</td>\n",
       "      <td>3418.0</td>\n",
       "      <td>2.594</td>\n",
       "      <td>1887</td>\n",
       "      <td>20</td>\n",
       "      <td>2.333</td>\n",
       "      <td>0.000</td>\n",
       "      <td>0.000021</td>\n",
       "      <td>0.99998</td>\n",
       "    </tr>\n",
       "    <tr>\n",
       "      <th>3</th>\n",
       "      <td>769911858</td>\n",
       "      <td>Existing Customer</td>\n",
       "      <td>40</td>\n",
       "      <td>F</td>\n",
       "      <td>4</td>\n",
       "      <td>High School</td>\n",
       "      <td>Unknown</td>\n",
       "      <td>Less than $40K</td>\n",
       "      <td>Blue</td>\n",
       "      <td>34</td>\n",
       "      <td>...</td>\n",
       "      <td>3313.0</td>\n",
       "      <td>2517</td>\n",
       "      <td>796.0</td>\n",
       "      <td>1.405</td>\n",
       "      <td>1171</td>\n",
       "      <td>20</td>\n",
       "      <td>2.333</td>\n",
       "      <td>0.760</td>\n",
       "      <td>0.000134</td>\n",
       "      <td>0.99987</td>\n",
       "    </tr>\n",
       "    <tr>\n",
       "      <th>4</th>\n",
       "      <td>709106358</td>\n",
       "      <td>Existing Customer</td>\n",
       "      <td>40</td>\n",
       "      <td>M</td>\n",
       "      <td>3</td>\n",
       "      <td>Uneducated</td>\n",
       "      <td>Married</td>\n",
       "      <td>$60K - $80K</td>\n",
       "      <td>Blue</td>\n",
       "      <td>21</td>\n",
       "      <td>...</td>\n",
       "      <td>4716.0</td>\n",
       "      <td>0</td>\n",
       "      <td>4716.0</td>\n",
       "      <td>2.175</td>\n",
       "      <td>816</td>\n",
       "      <td>28</td>\n",
       "      <td>2.500</td>\n",
       "      <td>0.000</td>\n",
       "      <td>0.000022</td>\n",
       "      <td>0.99998</td>\n",
       "    </tr>\n",
       "  </tbody>\n",
       "</table>\n",
       "<p>5 rows × 23 columns</p>\n",
       "</div>"
      ],
      "text/plain": [
       "   CLIENTNUM     Attrition_Flag  Customer_Age Gender  Dependent_count  \\\n",
       "0  768805383  Existing Customer            45      M                3   \n",
       "1  818770008  Existing Customer            49      F                5   \n",
       "2  713982108  Existing Customer            51      M                3   \n",
       "3  769911858  Existing Customer            40      F                4   \n",
       "4  709106358  Existing Customer            40      M                3   \n",
       "\n",
       "  Education_Level Marital_Status Income_Category Card_Category  \\\n",
       "0     High School        Married     $60K - $80K          Blue   \n",
       "1        Graduate         Single  Less than $40K          Blue   \n",
       "2        Graduate        Married    $80K - $120K          Blue   \n",
       "3     High School        Unknown  Less than $40K          Blue   \n",
       "4      Uneducated        Married     $60K - $80K          Blue   \n",
       "\n",
       "   Months_on_book  ...  Credit_Limit  Total_Revolving_Bal  Avg_Open_To_Buy  \\\n",
       "0              39  ...       12691.0                  777          11914.0   \n",
       "1              44  ...        8256.0                  864           7392.0   \n",
       "2              36  ...        3418.0                    0           3418.0   \n",
       "3              34  ...        3313.0                 2517            796.0   \n",
       "4              21  ...        4716.0                    0           4716.0   \n",
       "\n",
       "   Total_Amt_Chng_Q4_Q1  Total_Trans_Amt  Total_Trans_Ct  Total_Ct_Chng_Q4_Q1  \\\n",
       "0                 1.335             1144              42                1.625   \n",
       "1                 1.541             1291              33                3.714   \n",
       "2                 2.594             1887              20                2.333   \n",
       "3                 1.405             1171              20                2.333   \n",
       "4                 2.175              816              28                2.500   \n",
       "\n",
       "   Avg_Utilization_Ratio  \\\n",
       "0                  0.061   \n",
       "1                  0.105   \n",
       "2                  0.000   \n",
       "3                  0.760   \n",
       "4                  0.000   \n",
       "\n",
       "   Naive_Bayes_Classifier_Attrition_Flag_Card_Category_Contacts_Count_12_mon_Dependent_count_Education_Level_Months_Inactive_12_mon_1  \\\n",
       "0                                           0.000093                                                                                    \n",
       "1                                           0.000057                                                                                    \n",
       "2                                           0.000021                                                                                    \n",
       "3                                           0.000134                                                                                    \n",
       "4                                           0.000022                                                                                    \n",
       "\n",
       "   Naive_Bayes_Classifier_Attrition_Flag_Card_Category_Contacts_Count_12_mon_Dependent_count_Education_Level_Months_Inactive_12_mon_2  \n",
       "0                                            0.99991                                                                                   \n",
       "1                                            0.99994                                                                                   \n",
       "2                                            0.99998                                                                                   \n",
       "3                                            0.99987                                                                                   \n",
       "4                                            0.99998                                                                                   \n",
       "\n",
       "[5 rows x 23 columns]"
      ]
     },
     "execution_count": 2,
     "metadata": {},
     "output_type": "execute_result"
    }
   ],
   "source": [
    "# Importación del dataset en cuestión:\n",
    "\n",
    "Sheet_url = 'https://raw.githubusercontent.com/PedroSaravia1981/DataScience_Coderhouse/main/BankChurners.csv'\n",
    "df_creditcards = pd.read_csv(Sheet_url)\n",
    "df_creditcards.head()"
   ]
  },
  {
   "cell_type": "code",
   "execution_count": 3,
   "metadata": {
    "colab": {
     "base_uri": "https://localhost:8080/"
    },
    "executionInfo": {
     "elapsed": 9,
     "status": "ok",
     "timestamp": 1672625076970,
     "user": {
      "displayName": "Pedro Ignacio Saravia",
      "userId": "08573639063922177054"
     },
     "user_tz": 180
    },
    "id": "T0IgfmFZaJlX",
    "outputId": "3f67d91b-d668-47e6-f101-70e362f39c21"
   },
   "outputs": [
    {
     "data": {
      "text/plain": [
       "CLIENTNUM                                                                                                                               int64\n",
       "Attrition_Flag                                                                                                                         object\n",
       "Customer_Age                                                                                                                            int64\n",
       "Gender                                                                                                                                 object\n",
       "Dependent_count                                                                                                                         int64\n",
       "Education_Level                                                                                                                        object\n",
       "Marital_Status                                                                                                                         object\n",
       "Income_Category                                                                                                                        object\n",
       "Card_Category                                                                                                                          object\n",
       "Months_on_book                                                                                                                          int64\n",
       "Total_Relationship_Count                                                                                                                int64\n",
       "Months_Inactive_12_mon                                                                                                                  int64\n",
       "Contacts_Count_12_mon                                                                                                                   int64\n",
       "Credit_Limit                                                                                                                          float64\n",
       "Total_Revolving_Bal                                                                                                                     int64\n",
       "Avg_Open_To_Buy                                                                                                                       float64\n",
       "Total_Amt_Chng_Q4_Q1                                                                                                                  float64\n",
       "Total_Trans_Amt                                                                                                                         int64\n",
       "Total_Trans_Ct                                                                                                                          int64\n",
       "Total_Ct_Chng_Q4_Q1                                                                                                                   float64\n",
       "Avg_Utilization_Ratio                                                                                                                 float64\n",
       "Naive_Bayes_Classifier_Attrition_Flag_Card_Category_Contacts_Count_12_mon_Dependent_count_Education_Level_Months_Inactive_12_mon_1    float64\n",
       "Naive_Bayes_Classifier_Attrition_Flag_Card_Category_Contacts_Count_12_mon_Dependent_count_Education_Level_Months_Inactive_12_mon_2    float64\n",
       "dtype: object"
      ]
     },
     "execution_count": 3,
     "metadata": {},
     "output_type": "execute_result"
    }
   ],
   "source": [
    "# Observación de los tipos de datos que contiene el dataframe\n",
    "df_creditcards.dtypes "
   ]
  },
  {
   "cell_type": "code",
   "execution_count": 4,
   "metadata": {
    "executionInfo": {
     "elapsed": 6,
     "status": "ok",
     "timestamp": 1672625076970,
     "user": {
      "displayName": "Pedro Ignacio Saravia",
      "userId": "08573639063922177054"
     },
     "user_tz": 180
    },
    "id": "r0KiXxmZ2Pek"
   },
   "outputs": [],
   "source": [
    "# Eliminación de columnas que no son necesarias\n",
    "df_creditcards.drop('Naive_Bayes_Classifier_Attrition_Flag_Card_Category_Contacts_Count_12_mon_Dependent_count_Education_Level_Months_Inactive_12_mon_1', inplace=True, axis=1)\n",
    "df_creditcards.drop('Naive_Bayes_Classifier_Attrition_Flag_Card_Category_Contacts_Count_12_mon_Dependent_count_Education_Level_Months_Inactive_12_mon_2', inplace=True, axis=1)"
   ]
  },
  {
   "cell_type": "code",
   "execution_count": 5,
   "metadata": {
    "colab": {
     "base_uri": "https://localhost:8080/"
    },
    "executionInfo": {
     "elapsed": 6,
     "status": "ok",
     "timestamp": 1672625076971,
     "user": {
      "displayName": "Pedro Ignacio Saravia",
      "userId": "08573639063922177054"
     },
     "user_tz": 180
    },
    "id": "SF-Z9aVlbH6A",
    "outputId": "c6c46bc2-e7ff-4fcc-db85-28b9344a4f66"
   },
   "outputs": [
    {
     "data": {
      "text/plain": [
       "(10127, 21)"
      ]
     },
     "execution_count": 5,
     "metadata": {},
     "output_type": "execute_result"
    }
   ],
   "source": [
    "# creamos una copia del dataframe original\n",
    "df = df_creditcards.copy()\n",
    "\n",
    "# obtenenmos la dimension del dataframe:\n",
    "df.shape"
   ]
  },
  {
   "cell_type": "markdown",
   "metadata": {
    "id": "jPbixQfz6ynO"
   },
   "source": [
    "##Resumen de metadata\n",
    "El dataset mencionado cuenta con 10.127 registros. Cada uno representa un cliente del banco y tiene a su vez 21 campos que lo caracterizan y definen su comportamiento de consumo en base a la información relevada por la institución. A continuación describiremos dichos campos:"
   ]
  },
  {
   "cell_type": "markdown",
   "metadata": {
    "id": "JHsUsad662xG"
   },
   "source": [
    "![image.png](data:image/png;base64,iVBORw0KGgoAAAANSUhEUgAABB4AAALCCAYAAAB5ihBdAAAAAXNSR0IArs4c6QAAAARnQU1BAACxjwv8YQUAAAAJcEhZcwAAFxEAABcRAcom8z8AAOx+SURBVHhe7P1r0G1Xed+J7g/GZesD9hd/MGVSXDpqcgSNaboEnRbGCBxZKdlSgSIItjAojYVsuUwCDpBQaXECagJsbUq2DAgkLBXZ0pagFSx1C4UgKW3tkgnXSI5AeweMHNJc7OCOwzkJxydnnflf2s+r8Y79jNucY653XX7/ql/t/c455rhfnvHMyzqEEEIIIYQQQgghhBBCCCGEEEIIIYQQQgghhBBCCCGEEEIIIYQQQgghhObX4WMnPnX41kfff/jYyasAAAAAAAAAALpw64m7Bn7t0PDHH/+933l4ccU1XwYAAAAAAAAA6MJVH/3K4n1HH/3IoWuOnbjvlf/Lv1q87O89AAAAAAAAAADQhTdd9/Difbc8+locDwAAAAAAAADQHRwPAAAAAAAAADAbOB4AAAAAAAAAYDZwPAAAAAAAAADAbOB4AAAAAAAAAIDZwPEAAAAAAAAAALOB4wEAAAAAAAAAZgPHAwDABvC/3PiVxX/5wX9dSHd/9ttuGAAAAACAdaToeHj3Pz2x+Nq///7S2DX9+z/9z4sb/vdvLC76h394WngA2H7e/pFH9jbBsf7Df/zB4ksn/+/l5OJdu86879aTp0qxWHzwk193w/SkNr2f/63ji6889p+W4b71H/4zcy8AAABsPBe89cHF//2f/j9L+6akH/zlf128+h9/buW2GvQj6XgIDd2UuOsGsJvo7nuNPvfVP9+oTfK9X/zTUzlfLB7++n90w/SkNj2r7//vf/3/Ld5+wyNuGAAAAIBNYozjYdW2GvQj6XgIG/W7f/5f9t29/HvD//UUBI4HgN0kdDyEk74clvJEh09DbNKicOP/8Y1lnrXBX4UXvSY9cwKvKk8AAAAAB0HoiDBHQxxm1bYa9MN1PISbilSjA8DuknI8GLEHm4UBAAAAAHLUOB5gc3EdD+HTDrVPNXjfgviT7/y/T3ss+KZPPbY8p/eULxnS+/Tnv7N3d1Seqzv+4P9ahnv9e7+4L774qQth+dTGR3cFFZdJ4b1HkhXu1s/8u8W3/8N/ORXy8XQ39Z10gIOg5HioCaMnI+Jx6L2aYWM2fIpCc0s8Xr2xrXngd/63r+2FsTlD84+e3Prjb/2/ln8rf0o3zLO+YxNfN3WuifOTSi91fWquCsulefWBh/9s+beUyh8AAADAOlHjeJjbVmNfOB+q032Oh7DBVfE1Bqs1tKc4DnM86AN0YSOHeuhr/9H9cF3cAS3dE//uP+1tIGKFd1rVuXLfragtL8CuU+N4uOKaL++N4/iDiLk5IzXOY4Xp5sZ2GJ/FpfknnGMsf2G5Qqdrz7kmzE8qvda5yvKn497cydwGAAAA606r42EuW03CdurPaY6HcLOQavAYNbTuQL71Q3+0dyz84mi4QTDHg6QGNU9VGF6SZ0qZU6ewjiR5HUwK4wrTCDc84XF5wXRc8d9+3zdPHU1vogDgCWocD6nFwxuHOh5+G8LiDOPQMRuzCqtFxRvbFs7i/I/f/8vTHA8mmzMsfGkxk1rnmlx+Uum1zlVx/rRQ5uZOAAAAgHWjh+NBYl+4nnRxPHjEGwY7HjZy6HXKdbTUJidlVHtx5eJXJzOP15QyA+wKNY4Hb1yFx+KnIISNaQsfzkdKJw4vWsZvOGd4+a5ZzEpzTUt+vPTGzFWWP3M6WPi4/uw4AAAAwLqRs4GMHrYa+8KDoZvjwfvGgyk0eFOOh1wjp4znlLEdxmXnSgZ4Ki4AOJ0ax0Npos/JwodjWdL41HcgNJ69dDxnRkhpnJcWs5q5piU/Xnpj5qpU/sK8pNoJAAAAYB3wbMc4TA9bjX3hwdDlGw/hxzs8hQ26CseDd662g0lhvgDgdGocD+GYsw14eCyncA7Qh2bjd/U0ru1DtF46YT5CSgtJ62LmnWvJzxTHg2RzVSp/OB4AAABgU5jD8eCdG2NrwXROczzEdxhLlR02nDqIItTxlMHLEw8Am0+N4yEc6xYmnBdKm/IY/QpF+FSVjdWWOEvjvHUx8+aalvxMcTyEeUnlLzUPAwAAAKwbod3Sy/HAvnB9OM3xoIPhhqFkOIcNFzZ+yuCdw/EgpdK2uHKbgVzaAHA6JcdDON7CSbvHWIvnkJY4SwtJaTGTSnNNS3689MbMValyhXHheAAAAIB1xrOr4jA9bLUxthZMx3U8hI0hqUHsSQahO4/6nXg1augUsIYLG0xaheNBBrd+H1/xhMdT4fl6KcB4Uo4HjSd978XGqxSPqdixGc8teqrBFgyNff1ijsa2/g7Hd7jJDuNUeraAKC/6WaXSBt2oWcxq5pra/NSk1/KrFjgeAAAAYFPp5XhgX7ieuI4H4b1XHUuNrQYKnQyewkaby/HgKTbCVabQoRIr9ngBgE846eekD0HG19bMGaHjIXRihArHa+wsDRXOJ6kNulGzmHnKbfhjhflJpdc6V6XKheMBAAAANoVejgdP7AsPnqTjQWiDcOtn/t3i2//hv5xqgsf17//0Py/uPP6tvcZQOD0BYVLD6sNv1gHmdjwovf/n731lXx6+++f/Zd+dVON17/7C0qsVbmb+w3/8wb7yAECet3/kkaRDQPPD//GH33bHn5GaW8KnG4z33XpyXziNd2+8Ks54bMfxpTboRriY2e8/izFzTU1+UumJlrkqVS4cDwAAALApyG5J7QeNnrYa+8LVknU8rDulTQQAQA+YawAAAADWF2y19QfHAwBAAeYaAAAAgPUFW239wfEAAFCAuQYAAABgfcFWW39wPAAAFGCuAQAAAFhfsNXWn412PAAAAAAAAADAerPneDhy7MTnXv9PvriQ8wEAAAAAAAAAoAf/4Pp/s3jfLSd+U088/PkNd35jcdPdjwEAAAAAAAAAdOF37/j64vCtJ+5avmrx4MN/tnj0sb8AAAAAAAAAAOjC7fd984lvPOB4AAAAAAAAAICe4HgAAAAAAAAAgNnA8QAAAAAAAAAAs4HjAQAAAAAAAABmA8cDAAAAAAAAAMwGjgcAAAAAAAAAmA0cDwBwIDzyte8tfvPvvW3x9Kc/fclLXvo3Fvfc/0U3LAAAAAAAbC44HgBg5cjp8Ld/6bWLZ/21v7Z0Njz4xa/t/f2vH/2uew0AAAAAbCcPfO6Eexy2BxwPALByPnHn/cunHD5047HsMQAAAADYbq5+73WLQ4cOLc569nMXX/7qd9wwPbnh5jsWZz3np5dpiic96YcXr7jk0mzaD5347uLsF75oL58PfvHrbjhIg+MBAFbOOjge/uUffmXx7Of8d8s0f+5vnO+GWXcePvmnixe84H9clsF49aWXuWFTWD28/ap/4p4HAAAAmBM5ArShf9l5F7jna9DTtOe+7PzFj55xRtIpYGHM2XDBhRcvXvnq1y2dELnrhDlHRCks+BQdD8fu+PTi5877m3tG7V/9q2cuLv+1v7t8HFqPRoebhDe95R/tM4BDSpuJaz9wk3tdSGwYK30vXIwe3/7sl7+xvMY2N0Jl+eTdx7NxhmFy5Yux8o5J74M3HNvbEBnaGNkj6F65lV6Yv9RGSgMu3Kiw2YBWpowhY51etdDcs6mOhxjNAdvmeFD+nvff/w+n9SEAAAAAo8bxYM4DOThanqz4zAMPL578Yz++OOfFL1085Sk/heNhJEnHg20MfvGiixcf/dg/23fRe458aLlBkEMi5VDQtVMM2VoDWnf8/qcXvThplGqTFDoeDMX/Ny+4KLnh8DYjusZzfoTH7A5kXC+90gvxrtGxF/3MS5YbCa9tbNOYOg9Qy5g+HaI5Zh0+LlnK5yahNml1PKw7OB4AAACgRMnxoFclxjoNXvf6K5dPSHzstrtxPEwg6XgobXptA7spjof4Lqri/wf/6GrXSSBqHQEtjoce6YV419ixVP0pv7/1tnck8wFQy5g+vY5sSj5rSI37TQbHAwAAwHZz9OP3LJ9EuPKNbzvt2DW/fePi/gcf2fu+grjw5a/a98SCHAN2LiR0EHhp1GBPO+i6Kc4LSDgeUpv1GG1iU5vXdXE8pLBNfaqstY6AFsdDj/RCvGvsmGes27GP//59OB5gMmP69EGhVznCpyvE3/nVKxf/52e/ms2nXjX7xYv+1r7r9ERR/BRYT7w09eTZR276eHHcqk1q503FFaZR67BorRPVr8LYKze/++Gj+14lUzt4a41dl0Pt5l17EO0GAAAA48g5HvQdBv37jGeeufc9Bv0dfojyplvuXJ6TgyD8dsOb3/qOvTDmnJAjw9IoET9FgeNhGq7jodZ4zXGQjoecQ8QIN/VeXr3NSHiNEV9rr6ikHA/6/5T0QrxrwmNxHdrfKecIQAtj+vRBIMeIHG7a8NoxjdPD135kefzyX3ujm09dp82yNqvh5vZf/MG/XjoxdI236Z3CW9/+zuUrJ3ff+7m9Y8pruJHu4XiIqb1ubJ2Y01Ov5ymMHD46bt/2yNVl6xMPB9FuAAAAMJ6c4yE+bs4AORhu/+R9px1POQXsdYlrP3Dz4tLXXr4Xtzj7hecs7vr0Z0+7Js4XjodpJB0PuQ1vDd5GpIVaQ7iH48EzbGs3TbXlHJNeqR1KjocwndDZgOMBetBrDM2JNz+EKN+6+x7n0ytPTO0cVYvVV2pTXDNux+ap5ropdWL1rA8Tx+dK5apJ1ziIdgMAAIBp5BwP3i9d2Eciw6cXco4HO6drRPyLFjoWX2fXhE9W4HiYxlY4HmS0ho/Ulu4KiriMcXq1m6Yxjgf7u5RefE2Md018TPlTOuGmBscD9KDXGJoT5aE0jyjf3jgqXadN7tnDOIo/XDsGLW49xmTcBrXUXDelTkoOgZyzuMXxsOp2AwAAgOnkHA/hMcMcD96TEDnHgxwO7zly/b5zwl7D8NIPnRs4HqbBEw+n/o4347WbprGOh5r0Su3gXRMfs8eO9YizxYXjAXrQawzNSc34TI292JnpYd8tCK8dQ8vmOofyPZfjYUqdrMrxsOp2AwAAgOms0vEQvp5hWFr2dIU5GMKnHcLjOB7G4ToeZIiPMV5Dcga/NsOlDUmtAd3L8SBsA6KnAmo3TWMdD6KUnndNiHdNfEwDTXnUx//sDh+OB+hBrzE0JzXjMzX2ps6BLWyK42FsnazS8bDKdgMAAIDpzO14ELmPS9ovV5jjwdLWtx/0Oobxikt+eRnOXtV4zWVX7HNMQB7X8dDDCM4Z/DUbkloD0nM8xHhGreKP82ebdB2v3TTVbGzEmPRKdaBr4vM1+cbxAD3oNYbmxBsjMSpHnE85R2t+2acXvcZkac5IUXPdlDpZleNh1e0GAAAA01mF48G7xrC0zPFgYUvw5EMbruNB2KYhZcCpcXPGam5DXrMhqTWgezoehBmu73jXNVWbplw5Q8akZ+e8d5FV/95GBccDrIpeY2hOSvODNrXexyVDB0p4fE5Un8pHbtOsX73I1WntvBlTc92UOlmV4+Eg2g0AAACm0dPxkHqdwp5qiJ0F9vpE6roQXrWYRtLxILSJ1U+73XP/F/eOqVHtp91yRnLO+Ftnx4Od+5sXXFTMo6g1csemZz+vF7aBfhZO9e/VD44HWBW9xtDcyBGijWvrz2n+wb96dDnO/s6vXrnv5y2FfgZS1+sjheHYnIJtmpUX+7lJO645V99pieeCGNX7XI4HMbZOpjgeRFwvVievuOTVy+81hOmtut0AAABgGj0cD+HxZzzzzOWrEXpVInQQ2OsW9qqEvTqRSicGx8M0so4HYb99Hn6YS8avfiM9DivjNQyXIzb0tWH2woXEmxwZo144DzNq7Q5neE55CR0oqbugwjYH4fUhcR6npids02HXv+hnXrJvEyW8fMUfUNMGLDwvUmkCpOjRp1eNNqPxPKaNqTay4dwTj1+NK21Uw/EnfvGiixfvff+Hsk8njCUe75ZePOeaAzEM5xE/NTX2OqO1TuJ5KewT8ZyU6i9KM24/zYP/+H99v9sGB9FuAAAAMI5ejget/5e+9vLlORF/HFLoVy3M2SDOfNZZi+uu37+vSoHjYRpFxwMAAAAAAAAAwFhwPAAAAAAAAADAbOB4AAAAAAAAAIDZwPEAAAAAAAAAALOB4wEAAAAAAAAAZgPHAwAAAAAAAADMRuh4+Mtrjp1cAAAAAAAAAAB047aTi8O3nviD5RMPR245+bOHEEIIIYQQQgghhDrpmmMnP7r3qgWOB4QQQgghhBBCCPUUjgeEEEIIIYQQQgjNJhwPCCGEEEIIIYQQmk04HhBCCCGEEEIIITSbcDwghBBCCCGEEEJoNuF4QAghhBBCCCGE0GzC8YAQQgghhBBCCKHZtGmOh5889W+LxlyzjjpnYDFw1fIvhNAYXTagcfSq5V+r0dQ05xj7qTi3Zb5ECCGE0PZqjG0kG+eMx/+LDkK1jofDA2rc7w/8hA4cgMx4/8JAbacZc80q9SMDjw0ojx7hYMLxgNZJpb67rmMOx8Pj8uJc9/kSIYQQQkhqtY0s/EHuZXdeNY6HeIORMp5/aOD3B1INWjpf0nkDSv+O5V+PqxSnd806yer2BwMfcrhgwITjAa2TSn33LQMtm9ep80OtcDw8Li/OVc+Xq2pzhBBCCG2XWm2jpw98b2AVN1ewbxKqcTxYw2ozkTNKS5U8RyNsesPa5q1mEOB4QOuklr5bo1WNZRwPj2sd5hMWZoQQQgiN0Trvi7BvEqpxPOg1C1XcXxnQRiNViaVKnqMRNr1hcTygTRWOh3rhePDFwowQQgihMcLxsIEqOR5sc2FPOaQMaPsGRIxVeOm8ZB1IceuRXz0Oo7/fOSDFHawlTq9TKo3PD9h1emT8hoF4ExXm66kD9536W9w8MGXT1cPxoA+lXD1g9ZXLl/L/qQELF6Lynz2AUI1aHQ/hmBZfGbBXiWrGstTS1zXph2GV3kUDOSdA7ZyQUo80HxrQNaFy85gn5eMNA2E93T8QxuvF2TJf5vJZM1fWtrlUkzZCCCGENl+1tlhos8Q2x6cHzhoIVbJba22Nko3VYt/snEqOh9hgtvdj4tctzh3Qqxg6pw5y9NTf9p536bxkHche6VAj3jiQcjy0xBkb0toc6Hh4nXUgdbSwY1gcCqd/tZlQeOucU+74TnU8WHtY/nL5srRUZtXRLwzYIFVd/87Azg8IVK2WvmvziMbWxQPqe3KAtYzllr5unmads/EaLkgidgK0zAmexqRpi5PGn+pFC5mVKQybmsc8efnQPKq/S07ZVDqt+ayZK2vaXKpNGyGEEEKbrTH7s+MDChPbXvFGP2e31toaNTZWrX2zk8o5Hqxyw4bzjply56TSeetAwjOwPaO4Nk7PuPY2K9bxvPCptNWpxj4pEDoD1ClD5AgIvXVeWbShi72AqXx5d11bNo8IhSr1XetPpTFqKoVr6eupMS5vto1lb8NcOyd4Gptm7MS1eg3rwRv7KYXxxmX5lQE75sWZO9aSzziOVDuV2rwlbYQQQghtrmzNn7o/k7zwqT3PGDunZGOV7JudVc7xkHq6wTawcSOXKrnWyIw7hMnOewZtKc7wGuuM3t0y74unqQ4peZv5FlmnVhwe3kYlrndPcb5S9cTAQGOV67vhBtP6WLzpjDW2L3pjMDfGW8N7c4KnMWmm6iQ+1zL2c/GG8uJMzZet+aydK0tt3pI2QgghhDZXWtdjO8HUuj/zwqccDy22Rq3twf4qoZzjwTMUpZQhXqrk0vmSce2db41zTB5z+bI6SuW5pNQg8JTLh/L9rIHzT3HtgMJa26XKXaoPhFIa03c1WaceNavti2P7uime10rha/I1Nk3Vhx7ps7KkypQb+6GsTUp1KHlxxsd65tObK3P11po2QgghhDZTJTvKO5+zOTx7yLNbW2yNFhurVJ6dVcrxEDaEvZti6F0WOR50LvT4jOk0oUrGtXe+Nc5SpwnLbWVrNaZb5A2ClFLlt/ehPEKjPN78SC3pIxSqte/EH+2JPzZYM3/U9PXSGI/HwZg5IdbYNMP8e1j40txoKuUjlBdnar60/KSoyWer46E1bYQQQghtpkr2i2eL5WwOLz47FtqtLbZGKY+hSjbtzirleLCnGrzKD6k1IqXS+ZJx7Z1vjbO2Y4fnW43pFnmDICUvH/ZYUvzuu+dksDbVoI0/LonxjlrV0ndDhV8eDq8tjeXavl6KJ+UEaJkTYrWmWRNnqNLcaGpZFL0442M98+nNlbn4W9NGCCGE0Gaq9/7Mi8+zW1tsjRYbCxsmoZTjwdu4hvJetyhVcul8ybj2zrfGaeFTdy+9crUa0y3yBkFKcT5yAyC30bGvr4rUT8UgVFJL343ljdvcWG7p65I5Kbz5KzU2WuYETy1pSrXvCUqludFUKksoL07vWK98enNlrs2llrQRQgghtJkaY4vlbA4vfMpurbU1Wmyskn2zs/IcDzWV5VV+qUFK50vGtXd+TJxmAMcdT3HZ5iEM32pMt2gOx4PVicLaRsfC3jlQSgehGtX2XYVTvwt/ocX6aNh3c2O5pa9LNi5TH8ZNha+dEzy1pmnj2as/pVv6BYqUwnzEZZnyqxZT82n5Cs9Z+5Xm75q0EUIIIbS5arXFzEbwbAsvfMpubbE1am0s/Z2zb3ZWnuPBvETeV0JDeYakHbPfNtXvoYYbhdz5nNEqpc63xmmdQcfVIeLfiU11SC9fXh20qHbzJnn5sPT15IL97qyVQ4QbHb1jH54TKv/xAX5bFrXK+q76kMZPzPsH1KcsnPpbPNZaxnJLXw/TtLjs+xL2xE8YvnVO8NQrTe81lNLcGCqM1/IR/8a05MXZMl+25jM1V+bavCVthBBCCG2uWm0xszmOn/o3tr3i8Kk9V4utUWtjSTn7ZmflOR7MSxQayZ68x1jUIPYFUOE1bup8ybhOnR8Tp66JNy7qGJcOxBpjTNcqNQg8efmIy6EBo3fg5WTQ39aGCmcDRR1fA8AGi11bcjQhFCrcaHuEE7C+6xCOUY21Nw3Eyo3l2r5uiuOSw0JeZxtHXvjaOSGlsWmGH920cj1twJSbgzwpXn2IMyyLxn34WpUXZyqdHvlMzZVxnXlrRk3aCCGEENps2ZpfY4uFttW5A+YoELIR4n1Vbs/VYmsobMnGkkr2zU4q9Y0HtF2ywek5FzQw5JSIPXUIIYQQQgghtOlqudmLZhKOh91Q7k6kDUQcDwghhBBCCKFtU+2nBNCMwvGwGzLngh4bunlA78ifP/DmAXusKH4MHCGEEEIIIYQ2VS8Y0Ovltt/xbsKiFQnHQz+V3nmPWXXHt/fsw3eS5IjQe0nPHUAIIYQQQgihbZF9C0zomw3oAIXjASGEEEIIIYQQQrMJxwNCCCGEEEIIIYRm057j4cixk396za0nvyQHBAAAAAAAAABAH05+6/Atj94uD8SX7vnDby8efPjPAAAAAAAAAAC68LF7/mRx+Oijb1u+aqEDjz72FwAAAAAAAAAAXbj9vm8u9r7xgOMBAAAAAAAAAHqC4wEAAAAAAAAAZgPHAwAAAAAAAADMBo4HAAAAAAAAAJgNHA8AAAAAAAAAMBs4HgAAAAAAAABgNnA8AAAAAAAAAMBs4HgAAAAAAACAA+OBz51wj8P2gOMBAAAAAAAADoSr33vd4tChQ4uznv3cxZe/+h03TE9uuPmOxVnP+ellmuJJT/rhxSsuuTSb9kMnvrs4+4Uv2svng1/8uhsO0uB4AIC14F/+4VcWz37Of7d4+tOfvvi5v3G+G6Ynq04PAAAAAE5HjgBt6F923gXu+Roe+dr3Fue+7PzFj55xRtIpYGHM2XDBhRcvXvnq1y2dELnrhDlHRCks+BQdD8fu+PTi5877m0vjXPzVv3rm4vJf+7uLf/3odxd/+5deu/jQjcdOu2bVaAPxvP/+f1h88u7j7nko8/DJP1284AX/4147h6xDG8N6obHv9ZWYZ/21v7b47Je/4caR4toP3LRSR8Cq0wMAAACAvtQ4Hsx5IAdHy5MVn3ng4cWTf+zHF+e8+KWLpzzlp3A8jCTpeFDjaXPxixddvPjox/7Zvovec+RDyw2FHBI4HraTN73lHy3eftU/YVMGSeSs+p9e9OLkuPvEnffjeAAAAACA2Sk5HvSqxFinwetef+XyCYmP3XY3jocJJB0PtvEMA4doU6E7mjgeto+wPqlbSFHreNDTUd75FDgeAAAAAHaHox+/Z/kkwpVvfNtpx6757RsX9z/4yN73FcSFL3/VvicW5BiwcyGhg8BLowZ72kHXTXFeQMLxULthCF+1CB/Vj414c1IYKWeFPFVvffs79967FvbEhfdahzYMYbweykuuHIev/UjyVRILY09/WHy/++Gje3lU2C8+8n8t821x6FiYhqHXVn7xor+1F0686GdectoTJYacPxbO7hzHdfSSl/6NxT33f9G9fizxRkxlzzmhxB/8q0f3lU31qHqS4yL3Hn1rncD6UHI85Hjwi19b/Obfe9u+dv87v3rl4v/87FezjoB/8Qf/enldOGZr+svY9AAAAABgXnKOB32HQf8+45ln7n2PQX+HH6K86ZY7l+fkIAi/3fDmt75jL4w5J+TIsDRKxE9R4HiYhut40Ib31ZdedlrgGuRkyBnxngNBmONC12ozYMe1YbBNfcphMeauvNJ7xSWvXvyDf3T1aeeO3v6ppcMj3tCbo0NOAJ3TZnuZ52ETZPm2jXacV9WLNuPaIIVOjb2N1HB9ykFijiCV729ecNHiH/+v798LO6WtPMzJEjoabGOWy585GuyY2k3xvO5/viLZNlPqBA4ez/GQGt8hanf1ibC/qN/JCajjl//aG5dtH14jrL/IYXD3vZ/bOy7nlcZcyjk2Nj0AAAAAmJ+c4yE+bs4AORhu/+R9px1POQXsdYlrP3Dz4tLXXr4Xtzj7hecs7vr0Z0+7Js4XjodpJB0PpTvcKWTk54z41MZE19ld/ficbYZ7OR5K8QkrR7jx1QZcG58wHR2L8x07A2ryl3MgKC9yeMzxdEOM1w7mFPLqK3fX2+o5rjMxtU7g4BnjeMj1F2GOu1ZHQOqphbnSAwAAAIA+5BwP3i9d2Eciw6cXco4HO6drRPyLFjoWX2fXhE9W4HiYxto4Hmxz+673/HbzXe5Wx4NtrnPpeM4Jb3OjY/HmON4we2FiVIazh/J7jhfPGTAXqc1+6nhqw2co757jYWqdwMFjY9ZeXTByjoeadldfa3UEpOadudIDAAAAgD7kHA/hMcMcD96TEDnHgxwO7zly/b5zwl7D8NIPnRs4HqaxNo4HoU6hR+ztmwAifrXAo9XxUNosG3E9eNd5G5t4k66/w41ZCm+DLlbleLCNpNc+qTzEZY1Jtc3UOoGDx3uaoPTEg86X5pbc+Iy/yWJ9xF53isNPTQ8AAAAA5mWVjofw9QzD0rKnK8zBED7tEB7H8TAO1/HgbaZrmeJ4SJH65oKxCY6HsfUpVuV4UFnCDZ1HvImb4niYUidw8KzS8aAFQ9fqdaP4myA6p+83eGMaxwMAAADAejO340HkPi5pv1xhjgdLW99+0OsYxisu+eVlOHtV4zWXXbHPMQF5XMdD60Y+ZA7Hg8htDlrzaxv5Vb1qUZNejlU5HkqbtFT5c+2tvHtPLUytEzh4PMdDjDeGSg4njZ+4T5XGgM57/XBsegAAAACwGlbhePCuMSwtczxY2BI8+dCG63gQtqFMbQzVuN5d69yG0n4FwnM8jNn0Gq2OB3Mq5NKzjUxYDi8P3sYmrpea9HKUNl09qKlDL0xu82nl9hwPU+sEDp4xjofSNepj3scec+Pf+pJ3fmx6AAAAALAaejoeUq9T2FMNsbPAXp9IXRfCqxbTSDoehIz9+JcU1Kj6+bpfvOhvLY312MEgQ1/Ohfin6+x1Cb2LnXI8aIN6+a/93X0/pyl0bWlTbBsPu9byqZ/MVLzxaxrKp8qg9MIy6Dq9R576Oc14g1LjeBByuii9+KcAhX56UmnqQ4re6ySrcDx4efbwnAXKn+pYj8DbMSuvvtGRarspdQIHzxjHg1B/UZ9o+XlLcxCEP39r1+i4+lnKeTAmPQAAAABYDT0cD+HxZzzzzOWrEXpVInQQ2OsW9qqEvTqRSicGx8M0so4H8S/+4F8vP/gYvudv71nHYQ3bUFr4F/3MS5YfiNQ5bUR0LDb0dVybivdf99Gls8Cu1YY2930HQxuJOJ+WbuqpDaHNR/ixOnN+xM4Iy7dhmyk5Huw624BpE69jsbPANjvxx/FUvve+/0P70rSNVhgupsdmyUsnzrc5k8IwYXlF3OY6r42e4k85HkRLncD6EI+HHJ6jUf0lHq9yQMlxaGNKhE4u9aWwjwmbG+Rc8K4xxqQHAAAAAPPTy/GgfcWlr718eU7EH4cU+lULczaIM5911uK665+4OZUDx8M0io4HgCmUHA8AAAAAAACw3eB4gFmx10R4cgEAAAAAAGA3wfEAs6FvbOg1Du9RewAAAAAAANgNcDxAF8J37A19C4RXLAAAAAAAAHYbHA8AAAAAAAAAMBt7jocjx06cvO3eby7uPP4t2EB+7599YfH/OOs5pz11UOK//W//2uLo3Y+4cQIAAAAAAABM5SN3fWPxvqOPvvvQNcdO/vHhW0/83uFjJ68CAAAAAAAAAOjBNcdOful9Rx/9yPJViyO3nPzZQwghhBBCCCGEEEKddM2xkx/d+8YDjgeEEEIIIYQQQgj1FI4HhBBCCCGEEEIIzSYcDwghhBBCCCGEEJpNOB4QQgghhBBCCCE0m3A8IIQQQgghhBBCaDbheEAIIYQQQgghhNBswvGAEFoHnTOwGLhq+RdCCCGEEEJoa7RNjofLBrRxedXyL4TQpuiHBn5/4PsDP6EDCCGEEEIIJTTmhtVPDpzx+H/RQajG8aBNwRsGPj+gBjaOD7xl4GkD6yAcDwgdjKbOEYxdhBBCCCFUq1bHg4XnJtcBquR4OG/gewNqqB8MHB340MCNA3b8CwPr4D1i84LQ6jV1jviRgccGblj+hRBCCCGEUF6tjoenD8guXcW+lSd5E8o5HqxBtZm4VAccPXXg1x//74ELxwNCq9WmzREIIYQQQmjz1ep4WKVwPCSUcjzYXUhtKM7WgQ0QjgeEVqdNnCMQQgghhNDmC8fDBirleLBN/B3Lv8ZJj2CH73w/NHDRQCjrNHIW6M7ofaf+FjcPeI/CqDGvHrDHuL8yoHhzjofWvISPj79zACG0X+s8R0g9x3wcl5wtejVkHV4xQwghhBDaFtXaXKHjIbYPPz1w1kAou2GWetWixm6U7LtmZjOK+wcs7OEBOx6CE2KQ53gwL40qydvE18gqXQ1x8UD44bkwTus0ei9c/8qJoPfDLWzcOcK8Wdiwo4k4z615UZwWXu+p43hAaL/WeY6Qeo55OTl1Tguffb/CFhstSniyEUIIIYSmq8XmMhvu+IDCxPvCeKOfczzU2o3ePlR2Y5jeuQOW77Ac+ti65/DYKXmOh6mPUFtHiO+EWrxhR7CwInxUxho2zoOFjzuNvFQWj7exmJIXhNB+bcIc0WPM23nPAWqLFHMFQgghhNA0tdpcORvOC292YBz/GLtRYeM8/sqAHTMbNbwWDco5HuLKskq0RjbiBlRjpzYk8blUY0veqxPWkcJjplT41rzE5UEI7de6zxG9xrzCx/GbVvl1ZIQQQgihbVarzZWzD73wKcdDi92YCxsKx0NCrU886NETPS4SPloSNqBVtK7VoyrnR1w7EHYq6zTeXUPbVNi5UiPGm5CeeUEIPaF1nyN6xF2ab0rnEUIIIYRQWWNsrpwN590g8xwPLXajF2dK2IgJTfnGQ86bpGtzjNlUlBo8djz0zAtC6Amt+xwRxuNRE3dpvgkXq5LnGyGEEEII+Rpjc/VwPLTYjaU8hsLxkJDneJDMoPceXzF5m4rWim7ZVJTijh0PPfOCENqvTZwjYvVwPNSmhRBCCCGETtcYm6uH46HFlsPx0EEpx4NtGHJ387xNhVT7/ovUsqmQcu//xI4HqVdeEEL7tc5zRI+4bdFIxZUqG0IIIYQQqtcYmytnw3nhPceDVGs3lvIYCsdDQinHg2RGvSrY+x3TlOFtHcEzyNUQ4Vc/WzcVdiy+y2rHReh46JUXhNDpWsc5oueYt/jjuBSPOUGZLxBCCCGEpqnV5jIbLj6eCp9yPLTYjZZH7UPjPIbh9Hetk2KnlHM8SFbBQpVnv0X6qVPHvIayyo6vsd9VDcO3biqs0+h4/Hv+9iG70PHQKy8IIV/rNkf0HPOpuORMieNCCCGEEELj1GpzmQ13/NS/8b4wDp9yPLTYjWFYS8/2n/HTDWajWrj7B3b+6YeS40F66oC+6mkNKdQwqkDd5fQMbzWMvm4fX3PDwNMGTK2bCklx21dGxUMD8iZZXPFrGD3yghBKax3niF5j3uKyhU9oEbl0ACGEEEII9VGLzRXu+84dMEeBkL0X254px4NUazdKCnv1QJhHs3dDKVy4X/XS3TnVOB4QQgghhBBCCKFNVM7xgFYkHA8IIYQQQgghhLZV9t2x3K+xoZmF4wEhhBBCCCGE0LbpBQPhtx94pf4AheMBIYQQQgghhNC26bwB+86CvtmADlA4HhBCCCGEEEIIITSb9hwPR46d+NyRoyfeKOcDAAAAAAAAAEAXjv3bu993y4nf1BMPf37Dnd9Y3HT3YwAAAAAAAAAAXfjdO76+OHzribuWr1o8+PCfLR597C8AAAAAAAAAALpw+33fXOx94wHHAwAAAAAAAAD0BMcDAAAAAAAAAMwGjgcAAAAAAAAAmA0cDwAAAAAAAAAwGzgeAAAAAAAAAGA2cDwAAAAAAAAAwGzgeACAA+ehE99dPOUpP7U469nPXXz5q99xwwAAAAAAwGaC46HA1e+9bnHo0KHFNb99o3seAKbzutdfyTiLWPXcsytzXaqcD3zuxL6/AQAAYHWwDm8/ruPB7j7KOAt50pN+eHH2C89ZXHf90dMi2lZwPACcTjhHpJ5SsDA/esYZiwe/+PXTzhufeeDhxZN/7McXLzvvAvf8roLjYR68ctoxnrgBAABYPateh2+4+Y7FWc/56WWaQnvcV1xyaTZt2bVnv/BFe/nM2bbgk3U8qBFe+erX7RE20K4YaKs2xh/52vcW577s/OJmbZuhDtaf2Dl55RvflgxTakc97cCG73RWPfesOr2DwiunDBAdW5XzizkOAADgCXqswzVrq4VRWtrnXnDhxXt73NKabPaDYP0eR9bx4G0G7n/wkb0G24XNAo6H1UMdrD82RzzjmWcun1bw2qrW8QA+OB7mYR3KyRwHAADQl5q11WwAOTha9rD2dO45L34ptu0Emh0P4XmM1P5gkFIHm4DNAZq47fsM8VMPOB6mgeNhHnA8AAAAbB+ltXWKXSpbV09IfOy2u7FtJzDK8SCOfvyepfHmPRITvzdz5rPOOu27EHa9jD89RSEPkoXXdyTu+vRn94U3xsRt7+OIC1/+KrdM6qyX//qblt4shdOdXMWbM1J758U2cDFTOrfKddW7juyVS6S+0xGXJ/W+k5XJe7zeq6+DrgPoTzhH3PXP/9B96iE1wU/pP/I4h/3H+mfczzUWb//kffviNlrHrcJbvFf8xm/tC1c7ZnLMNfekWNVct0lzeq5P9s5fyxxX284KZ+UUKusHb7zttHAAAADriLcO915bc2t9DnvaQddxU20aox0P1ghxxVvDy9C89gM3LzcDZjh5hp7eq1E8MpT0f+tUXoO2xq33dvSvxW1h43LJQJWHLAwbdm4Rxi/myMtNt9y5Vx/he0dvfus7ku2QwyvXKy755eXfcf3KQNfxMF0zZGXshmFzAzdn1B9EHcA8xHOEtXvYJ3o7Hqz/qD+G/fMlL/35vX6uMLbhVf+JnQ9j5icLr7ETOh5axkyKOecej1XMdVYPcfzrPKen+uRBzvO1aduYUZ9TuA/ccGw5BrzxBQAAsI5463DvtdXW1XANLWH2hNkwOB6mMdrxYGFC4946SPwUhNdIFlakjD2v802J2zpPvCGx8HF5dRfJ4vGMzDnyEndwOz6GMJ9huZTGuw9/cO9YqvwKl2uLuN1EbuMYX7OKOoB5iOcIbz7wxoPo1X/M+anjcR/yHCEWz9T5KTxfO2ZSpOLpMfd4zJmehRVx2TdlTl9V/kpzXG3azJUAALAN5NbhXmurbBFdIyf9pa+9fC9uISf/Xc6TmXG+au0t8OnqeLAGDTuBEZ9LGVbCNhRh+r3i9jY2uj4+ZqTCz5WXnoZkLp8hufJ7bREPwpDcxvEg6gDmwZsjrC2tnVOTc6/+k1p4hPXb8Jox4zY1B7aOmRS5eLy6aCmDx5zp5cb5us/pXp+cM3+1xlEp7dwYAAAA2BS8dbjn2mrndI3QumlPRdgTFPF1dk1ou+B4mMZkx4NVfGgAyZP04Zs+sQ/zLFkH8TrYKuK2jmrncp00DG9xz5kXUcpPLbUDo5Sed76mTOFEcFB1APPhzRF2zDZBqT7Ys/+kNmix46HnuB0zZjxK4abOPTFzp5ers3We00Uc/5z5E7k8jk1b4XklDQAANhFvHZ1rbX3Pkev3nROyJ1Pph/ZC7f4KfLp948GuUQPlqDHU4kbtGXfcUUsdKDZS58yLyA2aFkrlMkrhwoFqm7uaMoWD9KDqAObD+k08R1h7asOf6ls9+0+t46HnuB0zZjxK8cR10VqGmLnTa6mznnHHc0hrOUUc/5z5E7k5rjVtoVdI7I6NSH1wEwAAYB3x1tGea2vJNrO0YrsxtnNLNgbkGe14iBuodbOY60xxo/aMO+6opbhjI3XOvIjW+FPUDoxSOC8/NWXKGfUhc9YBzEdqjrC208R+6//2abcde/af1iceavtULs0xY8ajFG7q3BMzd3otddYz7ngOaS2niOOfM38iF39r2iHhV79z6zcAAMA64a2jPddWYU81hOu/EduNlra+/aDXMQx9aFzhZHvqVY3XXHYFa20DoxwP1rBx46U2AR65zmSNH6bfK26vo+Y6omekzpmXKUZniMVTymcpnNcWViYbnCFefR1UHcB85OYIa2/7tYm4HXv2n9RYjBeQXFiPXJpjxkyKOecejznTy9XZus/pXvxz5q80x7WkHcP8CQAAm4a3jvZeW71rDEvL7EYLW4K1to1mx4PuqKhRVdnxxsEazbtOncH7JQURdxozGr3O1xJ3bUe1Y3F5wk7nGalz5MUGzZTNhRGWK8xnnEcLF5cn1Ra2iYgHW8sX44256wDmITdHWPtZX4j7Sc/+k9qgeY6HXuNWtI6ZFOEY9Y6LsXOPx5zpWVgRj+dNmdNXlT9dn5vjatPWOJSD767gS9wWN8YQAABsCrl1uNfamrI/zaat2XdYWNbYcWQdD2qA8PGS0juk1uA6r2vta6Heo5/WmZ73/Bcs/235XfbauGs7qpVXx+N86JEa/RsaqXPmJTz+xO/PnzOqc4f5tLisPOGASZVHg1PHPOPXNhLWR6zs1p61G8e56wDmwcaM1zeEtbnwJude/afF8dBr3IoxY8ZjzrnHYxVz3SbO6V78c+YvPO7NcbVph+W0MNYHvbwAAACsI9462nttFaH9qXVTNkHLumnrLo6HcWQdD2qEEDWSHA6f/NTx0yIyZDBd9a4je0aeXfeKSy5d3Hv8j/bChZ1JmwQzqITChgaqMSbu8HqR6qiK274WLs581lnLzYzFFRqpFn5VeYkN9hYU1+W//qa9QSU0CK+7/uhp4VSeMJwGrfflVwuveC2s6ktxevV10HUA/bE5Itcu1j+8ML36T4vjQVg/nzJujdYxkyLu673mnhRzpRfW2abN6an4V5m/eJzUpq2nEMN41Aff8vZ37Z0HAABYd7x1dI61VchOC203s0HDMClwPEzDdTysglxnAgCAzYI5HQAAAABS4HgAAIDJMKcDAAAAQAocDwAAMBnmdAAAAABIgeNhQ0h9dyMF9QoAq4Q5HQAAAABSHJjjAQAAAAAAAAC2HxwPAAAAAAAAADAboePhL685dnIBAAAAAAAAANCN204uDt964g+WTzwcueXkzx5CCCGEEEIIIYQQ6qRrjp386N6rFjgeEEIIIYQQQggh1FM4HhBCCCGEEEIIITSbcDwghBBCCCGEEEJoNuF4QAghhBBCCCGE0GzC8YAQQgghhBBCCKHZhOMBIYQQQgghhBBCswnHA0IIoU3Qjww8NvCFgTN0ACGEEEIIbYbmdjxcNrAYeNXyr83ST576F43XOQNq/6uWfyH0hFYxvnr1v3WfxzZ5njXV9IdtKCdCCCGEpmuMjSdbgxsXB6iU48HuLKlBPWrvOG2qoWj5Xtc7a5ty5w/Hw/YqnCNS/dDCfH/gJ3TglFY1vnA8bIZq+sPTB743cMfyL4QQQgjtslptPAsf26RohSo5Hn4w8CGHtwzUbBjW1SD+oYHfH0h1vvMGlO91NXJxPKCDVuh4SLVxyvGwqvGF42EzVNMfDg9gLCCEEEJIarXx7AbGKvZOpX3mzqrkeJjaOJvqeFh34XhABy3rg18Z0ETujaWU42FVwvGAEEIIIbR9Wuc9Bo6HhHA84HiYUzgetlfWB3WXWnejvXbG8bAa4XhACCGE0C4Jx8MGqpfjQRV89YDufKoT6C7oRQOeQZzrKCkDWvG/YcDiF/cPKI1Q+mhImA9x80BYBtskxYSdI5dHPRb8+QG7Tq+j3DAQ15PFobI8deC+U3+LOE+tam2fOM8PDYR1l9o4SqnNYylOaZ0nBTRNYR989oD31EOq78T9Yl36X8s8ZqrJR0m1cWzSPGuqiTOX17huDmK+RQghhNBq1Lruy3aI1/1PD5w1EKq0d2qxxXJ2Tc0+c2fVw/GgBpBXR5UqQ1jfgAgbX0wxiL34bzz1d9iI9u6Ojh8dUDjrQGE5zh3QOYVVZ7aw4XcrUnmUsa3j4XWWpjqot7lSOP1reffy1KqW9rEBoEFx8YAGi+XB6tny6sVn58L3r2vilHJtjTZbcR+0sRu2dcppEPeLdeh/rfOYVJuPnGrj2LR5VqqNM5XXdZlvEUIIITS/xqz7xwcUJraNYtszt3eaYovFdk3NPnNnNebjkr8zEFacNXzckPIc6XjcaK0GsYXXxiOMX43/KwN2TNfGHjHrICrH2TpwSnY87pQmL4+pciou67Be+Ph4Kk8tqnU8hHUXKt4Q5vJkZbM2qY1T8uoRbYfiPhjOGdaHvD4hxf1iHfqfhW2dx2rykdKYsmzSPFsbp5fXVHl17arnW4QQQgjNq17rvuSFN9sqjt/iabHFSnaN2R41tuBOqeR4sAYNiQ24eGMQKmfgxp1E8sIr/ilGoxdnqUN4ecyV0/tSaqojS16eWpQaPLFydRefszx5gzSsp5Y4c22NNlteH7Q+ZH3e6z+S1y8Ouv/pWoX1xqQ3XlvykVJLHK35y5W9tTw1mhKnl9dceVc93yKEEEJoXvVc973wqb1TzlaJz9XaNTgeEpr6qkWpYqcaxKmNS07K07MGzj/FtQNxHlodD6Xw3vmacnrnalTTPpYnDRA9NmT1kaqXmkHdGmeuDtBmy+uDdswm5dT49frFQfa/0viO56XWfHhqiaM1f1Ku7KuYZ1vijPNaKq93vqa8pX6AEEIIodWr97rv2SB2LLQzLd4aW6zFrimVZ2c11fFQaoRVGsRqZHs3yCPMQ6lDxHks5SPsuOYFm9MQrmkfC2PlT2H14pUh9j62xpmrA7TZSvVB69tyFqTGjdcvDrL/pfJpSs1LYZoeFt5TSxyt+ZNq5p+4PKn4Q9XOsy1xxnktXbvq+RYhhBBC86n3uu/FZ8dCu9WOKZ4cNbZYKMtvTdid0jY98WCblPj9Yy8PpXyPNYTD83MawjXtM6bTh/ny0miNM1cHaLOV6oPWR7Q4/PVT/4/7S6pfHFT/K8UbzyFjxlasljha8yfVzD9zzrMtccZ5LV3r1UdNeUv9ACGEEEKrV+9134vPjo21K1vsmpZ4d0pTHQ9SfFcyVM4grnkX1xou9HB5ynUGLw+lDhF35lI+co+Jz2EI17aP2qZUd6HCcthH6+I8tsSZqwO02cr1QWv3Owe8cZbqFwfZ/1rnsdax5akljtb8WdkPap6tjVOK22nd5luEEEIIzafe674XPmW31tpiLXaNhcXxEKmH48GMutjAteMiNIitM8SNkfo6exh/mBc1qn1BNGUQW8PHcZY6j9eZLR9xnSgu2xSE4ec0hGvbx/LghQvrzxTWyz899W9cPy1x5uoAbbZyfdD6kdpe1DoeDrL/tc5jLflIqSWO1vytwzxbE6fktZNdG9eNrl31fIsQQgiheTV23Y+Pp8Kn7NaxtlicxzCc/s7tM3dWJceDKiz+OU3x/gGrXAurhoh/O91+2zQ0RiXrEBa//ebq8VP/huGt8XQ891vw1hn0O6/6QIh+g1WGt47FcUoW3uLUb7daXJ4RG+ZD+Y5/XzbVkT1jd6ohXGof6+SpPFt9e4PM8pY63xJnrg7QZis1gZvCBaHW8SAdVP9rncfGjK1YLXFs4jxbG6fXTqm6OYj5FiGEEELzauy6bzZNbBvF4VN2a4stVmvXSGZ7WLhwn7mzKjkeVGEeceWqIezLn0JGqTa/1ilig1jhww+UKfxFA6XwoYGrBtQ1JoUJjWB1Hr2HbHf4vDjDPIcdK2XExmkIdahLB2LNaQiX2ieM1/JsA1FY3TxtINZTByzuVP5q48zVAdpspSbwUDbG4zC5fnGQ/S+eE2rmsZax5akljjH5W4d5thRnqp3itMRBzLcIIYQQml9j1n3ZHecOmKNAyC6JbdOc3Wrp1tpiJbtGUrjUPnNnlXI8IIQQQgghhBBCm66aG2ZoZuF4QAghhBBCCCG0rbJvX8XfykIrFI4HhBBCCCGEEELbphcMhN9+4LXLAxSOh4NX6XsNMQwYhBBCCCGEEMor/DUvfbMBHaBwPCCEEEIIIYQQQmg24XhACCGEEEIIIYTQbNpzPBw5dvJPr7n15JfkgAAAAAAAAAAA6MPJbx2+5dHb5YH40j1/+O3Fgw//GQAAAAAAAABAFz52z58sDh999G3LVy104NHH/gIAAAAAAAAAoAu33/fNxd43HnA8AAAAAAAAAEBPcDwAAAAAAAAAwGzgeAAAAAAAAACA2cDxAAAAAAAAAACzgeMBAAAAAAAAAGYDxwMAAAAAAAAAzAaOBwAAAAAAAACYjY10PDzwuRPu8R4c/fg9i0OHDi2ufOPb3PMAsLlc/d7rluP7mt++0T2/CqbMX/G1zFcAAACwa4yxf2RDffmr33HPwWpwHQ8Pnfju4ilP+allgz7pST+8uP2T9512YYw6wJN/7MeX17zsvAvcMD2wjcNZz37uLJ2nhyF//4OPLC597eV79aE6fMUll9LZYWsI5wiPucbnVA7a8TBl/vKuxfEAAAAAu0ar/WPhf/SMMxYPfvHrbhiYn6LjQZQcCY987XuLc192fnX4Kdxw8x2npWHp9+hMUw35zzzw8J7D4cxnnbV45atftzj7hS9a/h1vNnrmu2dcACVsjpBTTX085s1vfUfTxnpV/fegHQ/e/FWLdy2OBwAAANg1Wu0f25+t4sYYe7I0WceDNs7aNJcqzhr/ggsvXjbqnI4Hj3VyPLzu9Ve616vD//VzXoLjAbYCmyN6TeC74njoDY4HAAAA2DXW2f5hT5Ym63jQpuLt73hvsWG12dadz8PX3rjTjgfLR+3rKT3zTSeHVYLjYT3A8QAAAAC7Bo6HzaToeLjrn/9h9tEUe3RFzobw/3E4fdDj8l9/0/K8Ooq48OWvOi1O60jaGOjRYgt/xW/81r7z1tHsCYOYuLFb05/ieND1pY1Nz3zXxJUrV2ozFta/eMYzz1x88Mbb9oWB3aTV8ZDrS73HsNBYDMMqveuuP5p1PCiPZz3np/fibv02i9K86l1H9uXv7Bees0zXwqTmL29cWh1bPXhjeMp8BQAAALBO1Npiof2jb+vZa+1CT5jf9enP7gtfslvjdPXUf2i/GSVbr9am3VWKjgc1jioxdRc/NORTjgc7rnB6HUPvgFvjxh3AOpLC6F815isu+eWk4+GmW+5chlX8yqPFH75jPib9sYa81Yfy4nVYo2e+a+LKlcvbjNkxDbxrP3Dz4gM3HFuc8+KXssGBJS2Oh1Jf6j2GQwegHA4KGy5IInY8yEmh42H6lp7yXVosvDQ1b+nvnAPQ/vbq0c7ZfOqN4dy4BgAAANgUWmwxs3+e9/wXLMPE9l680c/ZreYs0J5TdqocC2ZjhvZija1XY9PuMlWOh9gANqwBLFzK8aCNR+ytsmvVKKFDw9ISnjHtGdoWV8qbNCb9sYa84g29XSmPmYXtle9SXLly2cbQBlcpLgCbI9QPNaGG/NJrfnWvz9b2pZ5jwfp6vLjIm23jMlxIUuEVf+6JhBCLQ3NfHMe7D39w71g8DlNlEJa25dUbw94xAAAAgE2i1Raz8J4N5IVPOR4snnjvauFDuzQMm7P1zLZjH3U6VY4Hr/JFbPSmHA8p4g2vSHW8+HzYmcY2cC79uBO3Ej9aLgfEXdFjPz3zXYorV66U48HbDAEImxOsf4eE/aa2L/UcC/GGPaQ1vM1pqfnIUBw148Ubh5an8FhuwQvD9ZqvAAAAAA6KVlvM7B9vz+mFj/e2FjZnv8Xnam29sTbtLlDleNCxlMEeNkDJ8aCGuPvezy8+fNMnllz62stPi7NkSHvnaxu4R/qthO8Mxfnrme9SXLlyeW1r4dW+PB4EMakJ3KOmL/UaC6V44r5eCl+TL89JkMIbh7ULqnetdwwAAABgUxhji+XsH88u8+xWi1f2qV6xMNvSszFbbL0a23FXqXY8xMax52RIOR7UAPbejoe34U0Z0t75mg7bK/0xWP7ieHvmuxRXrlye40HEH1pJfcgPdg9vjshR6ku9xkJpYYj7eim85Svn4W5ZjHLzV5iG5/n3rp1jvgIAAABYFWNssZz948Vnx0K71Y4pnhyyxVpsvZJNu8tUOx7iRvc2qynHgxnR8TvauTvtKUM6Z7inGrhn+mOxeMO66ZnvUly5cnnxhYRfi63daMJ2480RNaT6Uq+xUIonDl9aSErxiZbFKDUOLV86nqpb79q55isAAACAVTDGFsvZP158nm1VY+MZLbZeS7y7RrXjQZhx/D+/4Y1u5XuOh1xDeRvekiHtnc81cO/0x2Lx1joeWvNd6uRe+oYXXwyDCEJSc0QNXl/qORa8pwWMOLylm3qiIX7SKz4vSnGEpOaXMB37CGYcxrt2rvkKAAAAYBWMscVy9o8XPmW3ymassd9abL2cTbvrNDke7Lga2mvsFseDNYriCTcIJUPaO5/rDL3Tz6Hy66dY7kp8RDJOq2e+c3EJa5s4PtvkhPEp7Ze89Of3lcPiZxCBsP4ZzxExtX2p51gw50LsZLPjqfBxWRS/OTFK80GYZhxH7lctwnBW/l+48G+59eBdO2W+AgAAAFgHWm0xs3/i46nwKbvV4vHs2diGq7X1QpvO25PtMk2OB2GN6VWm53gQ1lD2O/76fVSF0zERbgJKhnTqvKXxxO+4nrO3SemZfg4rf5gP/b6rHYvrRfTKdykuEbbd4+cff+Rdv4Ebxmftr2Px7+iOqRfYPqyPWF+Kec1lVyznjpa+1GsshGlaXPZ9Cfu95TC8LRA6rvLE+fTmwZgwjnDs6+/QYZKbX6yMqTS9a6fMVwAAAADrQKstZvaP7WFiey8On9rbptLNvRYcpufZeqK0J9tVmh0P1tDeJjrleFBDhRsFNaze1ba77S0b/9R5pWFfHxVxR+mVfokHPndi+RE8S0uo073nyPVu+F75LsVl58MP9GkTd931R/fKHMand/HDuFSGt7z9XXvnYbcJN/ce4QRc25fmHAvq63KUen3dwsfOjNy49bDxFcahhUZjzMLk5hfVk9Wpd967dup8BQAAALAOtNhioT130y137jkKRPw9MJHb21q64UfQzc689/gfnRa2ZOtZuNyebFdxHQ8AAAAAAAAAm07O8QCrA8cDAAAAAAAAbCWpp/JhteB4AAAAAAAAgK3itn92775vP/Bq6sGC4yFD6T32GDozAAAAAADAwRP+ep++2eCFgdWB4wEAAAAAAAAAZmPP8XDk2ImTt937zcWdx78FAAAAAAAAANCFj9z1jcX7jj767kPXHDv5x4dvPfF7h4+dvAoAAAAAAAAAoAfXHDv5pfcdffQjy1ctjtxy8mcPIYQQQgghhBBCCHXSNcdOfnTvGw84HhBCCCGEEEIIIdRTOB4QQgghhBBCCCE0m3A8IIQQQgghhBBCaDbheEAIIYQQQgghhNBswvGAEEIIIYQQQgih2YTjASGEEEIIIYQQQrMJxwNCCCGEEEIIIYRmE44HhBBCY3TOwGLgquVfCCGEEEKr0Rgb5CcHznj8v+gglHI8/MjAYwNfGKCBpulZA58a0OAwjg+8ZYC6RZsq5giE4wEhhBBCB6FWG8TCf3/gJ3QArV44HubV1QPmbLh/4EMDNw5879SxMQb7Dw38/gADBx2kmCMQjgeEEEIIHYRabZCnD2j/tQq7lb1aQjge5tNlAxoQDw2cpQOR9CTERY//t0l0ZrQOYo5AOB4QQgghdBBaZxuEvVpCOB7mkdXfDwbO1oGOojOjdRBzBMLxgBBCCKGDEI6HDVSr48Ea+VUDTx2479Tf4uYBbwOiyn/DgL1eIPTagXe3/7yBzw9YOG3cbxiI4w3zoUdnwnxY+DhdPXmQcgLE6SrsmKcRTPa0wx3Lv+qkD57o1YywnuI6PTxg50K8jl1bJrVj/A0Kw3OcjGkjXWPleueAlcObLKzvMVjXWz3niNo+mOtToWr7fhiH+MrABQOxavu8VBtnrJrxL7XWr4X3xprNU4orVGtevLh7twFCCCGEtl+1Nldog8T20KcH4qfNSzfMau2W0r62Za+2cxrreDh66l8ZifpugTVUHN48PmFYfePAawD7HoI6mOJXWGtUNX4YNs6Hzofh7xywdBXGNjXhJsZkHUSd5uIBdSYrT2yQ18rirL3e3juy/Kbq9NwBK2dYT/GHKmvLZO2suBTHLwzYwNW1vzMwtY0UxuJT22uTaOe8wW/nWpw2aPXqNUe09MFcnzLV9v3wVSiFU7qaJ+JNdEufr40zVu34l1rr18LXOh7G5CWOu3cbIIQQQmj7NWafcXxAYcweMhsy3mfmHA+1dkvNvrZ2r7aTGut4EKFxaA2hCg439hZem8gwHoX/lQE7ZuHi9BTOOkOYXiofodEc58WMXC+eeJNr5R/jnUrVRU7KW+zNS8Vjx1N5aymTt/Eotf3UNpJydWRxhXlC66dec8SYPhjHbart+6UxZGrp87VxemoZ/631a+G9+vLqfkxewrh7twFCCCGEtl8tNpeUsockL3zJtqzZN4Vh4zyG+1psnITGOh7ixpE8I1YN720uY+U2m+ZMCPOSykfKQJYsnvCaXP5q8x4rl4dWeXVa6sy1ZUrFkzo+to3iPmSysnmTAgN1/dVjjmjtg6U+1dr3S2O0pc/Xxtkib/y3zsEWPl6UJS98SrVx924DhBBCCG2/WmwuKWcPeeFTdmut3SLlwoZK2bE7r7GOh5wRa+dqN5GlxvHO5/KR6hSx4yE0fPVYzfkR1w6kBkBOUwxqXatfu8jlIVdfLWVKxeMdz6UpeedzbSS1TiJovdRjjmjpg1IubrumdjxbXArvPf42pc+n4ixJcZbGf0v9SjXhvTluTF56twFCCCGEtl9TbC7PvvH2oJ7d2mK31O5rpVJ5dlbr4HgohQs7hW3kc/modTxYuoonh2eU52T5bblW19h7TR5hPLnO3Fomb+PhtX3vNpK8a9R2cX7QesrrJ1LLHCHV9kGpZpHR+RxhOvGHhMIPKI7p81IuzpRaxn9r/daED+OfkpfebYAQQgih7dcYm6vGJgzjs2Pe/sZskBSyW0p5DGX5rQm7U9okx0N4PpeP1ice5ugUVhe1d+5twx2/W53aGKTy3VomqxPVV/xhvzDN3m1kCvtMqs+h9VSPOUKq7YNSLu4p4zn8GrKVZ0yfD+XFmVLL+G+t35rwYfxT8tK7DRBCCCG0/eq9z/Di8+zWFrullMdQU+yhrdacjgerdM8JEKoULvdIvpePWseDlAo7VZbW1I7sGfulzlxbpjAe+yKr0Fdj45+P6d1GprCf6c5nKTxaH/WcI2r6oFTqU1PGczyuxvT5WHGcnlrHf0v9Shbec4LG8ffIS882QAghhND2a4zNlbOHvPApu7V139QSFnsm0pyOB8mOyegN41GDhF//tHBxegqnDhHHm8tHqgNZJwwNcIsnTleK89gqy7fijn9LVtIdPm2uUsa+dVrF4TkeUh2/tkyWrn56tKaMPdsolLWXHreuGcxoPdRjjmjtg6U+1dL3lWY4Lm1cheOwpc/XxhnL6qB2/LfUr2TzXhy/OfrC+HvkpXcbIIQQQmj7NXafER9PhTcbJ2W3luwWyfJY2teaPcO+JtLcjgereB1P/d6pFIZTI8W/3dqSD9vI1jgeUun2eOQ3jFvot2Gt/FYuy4vVnf2evX4/1sKI0NiXLLzVqeIu1aVXJm0+wnTsmuMD8cfeerZRqHDimFLfaLXqNUe09MFSn6rt+5Z3HYv7cRh3S5+vjdNTy/hvrV/JFmCVIawP1XEc/9S89G4DhBBCCG2/xu4zzJaxPZF9NyoOn7Jba+0WKQyb29dKub3azmpux4OkRtLHykLjVZXvPc4fG7lqrEsHYuXy0eJ4kCzd8ANnul7vOD9tYIoUd/zxNGHlDztyWHZL3+5Kxo4HhbcvrQpvEJXKpDA2eMwpYgPI8pGqq6ltFCrcgLDh2Bz1mCNa+2BNn6rp+5KeOArHkPrxmwZitfT52jhjxWnkxv+UOVjnhL3KYnGF8ffIS+82QAghhND2q8XmCm2YcwfMUSBkb4S2qZSyW6Vau0UymyrMY2pfm9ur7aRSjge0/bIBGzsXJA0WbQhX8cizpaUBzuNIu6V16YMIIYQQQmh7lXM8oBUJx8PuKnW3UrLBuYpNn/cBGLQbWpc+iBBCCCGEtlepJ9/RCoXjYXdlGzs9aaDfztf73OcPvHnAHjWKX/GYQ/b++SrSQuuldemDCCGEEEJo+/SCAb3Ga3ald7MLrUg4HsqyzZE6aw2b1KHtHevwPSVtAvWu0nMH5hZ3tdFB90GEEEIIIbSdsm9UCX2zAR2gcDwghBBCCCGEEEJoNu05Ho4cO/G5I0dPvFHOBwAAAAAAAACALhz7t3e/75YTv6knHv78hju/sbjp7scAAAAAAAAAALrwu3d8fXH41hN3LV+1ePDhP1s8+thfAAAAAAAAAAB04fb7vrnY+8YDjgcAAAAAAAAA6AmOBwAAAAAAAACYDRwPAAAAAAAAADAbOB4AAAAAAAAAYDZwPAAAAAAAAADAbOB4AAAAAAAAAIDZwPEAADAjl//6mxaHDh1aXPPbN7rnAQAAAAC2nY1yPFz93usw4AFgY/jMAw8vnvxjP7542XkXuOd7si3z4wOfO7H48le/454DAAAAOPrxe5Y2z5VvfJt73gP74uApOh7uvvfzi3Ne/NJl4xrPe/4LFm9+6ztW3ng9Det1KhfAJsNYSvO611+5+NEzzlg8+MWvu+d7sg2OBzMkVlVnAAAAsHm0Oh6wL9aDrOPBHhEWZ7/wnMUrX/26xSsu+eXlHbyWxu5FL8N6jnI98rXvLc592fl0aNgpGEtp7GmHVTkC5nI8rLI9rM7OevZzRzutmIsBAAC2m1bHQw/7ohbskDRJx4MZsWc+66zFXZ/+7L6LhO5yXnf90dOOz0kPw3quctHJYNdgLK0X2+B46AH9BwAAYLsZ86rFqsAOSeM6Hh468d3FU57yU4snPemHF7d/8r7TLjoophrWc5aLTga7BGNp/cDx8Dj0HwAAgO0Gx8Nm4joezIBt+SCaPtihx67tEWtx4ctfddrjLNZRZBzfcPMde+Gv+I3f2gujBgvjesYzz1zeOZ1qWM9VLr3HbedCvA6nMp/1nJ/eC6O7xd5d4fsffOS09+YNb7MXx6swr7jk0qb6t3J4g9g2mgwiEIyl8lyWWhRr58oUY+bH2rqKqW2PXvO/zTOpRyFL5eidXwAAAFgdrTaYbCzZeWe/8EV71/z1c15y2pO4U+0LQzbYVe86ss9+0KvGFrbFjt1FXMeDVVrtBt/em9E1F1x48fI9b2u8uIGtoyiM/lVj6Z1wMzzNS6RzMqgVLuxMojZfMXOV66Zb7lyeU1gNEAsbf1zP0leZr/3AzcuOa/GFeQrvJiuOD9xwbK8OdO0vveZX93VeGdA6F6Zt+dbACcPm6t/OeYPSzq3i6/yw/jCWynOZnQ8dDy1zpceY+bG2rjxq2qPn/J8zDGrK0Tu/AAAAsBrG2GD6mLnCxDZRvNGfal8IzwaTDROmV2vH7iqnOR6sUlVZtY9Q605b7I1KxWMdRXh31u183DHkibLrSsayx9zlsuMpj5aVK96420AIr/PuXKYGTKq+lB8bSGE95+o/V0cW15i6h+2CsbQ/fHw8Ph+ea6kHj1QeU/NjS12lKLVHS5lKdVZqm5py9MwvAAAAzE/KvtH63GqDeeF72Bdh2DiP7z78wb1jJTtkl+nieEjhGf2pjmXkNrhefLXMXa5SJ1O5UmmH51LxpI7n6svu7IV1Xap/K5s3WBlAIBhLdWPJznsb7JjauS2XRy+O2rqKz4WU2iOFl59SnaUMg5Zy9MwvAAAAzE/OvsnZYLHDIBW+h32RCxsy1g7ZBbo6HnStvmT/4Zs+seTS116eNDw9Y7zUUFMMw7nLlct7mLYe4bF4vPhS8XjHc2mmzpc2Q62DG3aPsD8zltJjqTTXleohppTHeH608DV1FccVUkrXqClTqc48w6C1HD3zCwAAAPNSWre98zl7wrthOtW+8OJMUWuH7CJJx0OLAaZr7L0cj1rDs9SoPRwPLde3lCvXyaxcXhwhFp9XTm/AlOrL8hRuEEuGv3dNzgsJuwdjqW4seedb6iGmlMe4rK11lSLXHna+x/wvcm0Txxtj6fTMLwAAAMxLbxvMi2+qfVHKY0jJDtll3I9LmgFbe4fbNqbxe7Oe0Z/rKKWG8uJrYc5y5fLe2gHtqQMNsPiDeGGatQM1PF8y/IWVT2G8gQrAWCqPJe98Sz3ElMoex9FaVylK8fSa/4U337SWo2d+AQAAYF5622BefFPti1IeQ1rtll3CdTyYsT61IcYYnmYUesbfVMNwznLVGLuhpy5FGI99KVV4P+tiYVPx5l6bSNW/CAenfbQuFx52D8ZSeSzF51vrwaN1fqytqxy59ug9/4dzT+gUaClHz/wCAADAvPS2wbzwU+2LUh5DcnbIruM6HoQZuGqgu6LfQhX6zVQZ7ylDziq91fA04y++k2rH4/hamatcpQ5p5Y47vNC19jVUS/clL/3508J5WL3E8SpOK2tY16X6N2wg6udkagYZ7B6MpfxYis+31oNH6/xYW1fh8Zhce7SWqVRnFl+c35Zy9MwvAAAAzM9YGyw+ngrfw74IbbA4j7V2yK6TdDxYpVmj6rdN7fdK5UWyildYawjdSdTHOfT7pxZGjDE8FcZ+I9V+S9XuWk4xDOcqVxj+id+SPWfPuA3TVUe033W1x77DDq+nDMJ07Br9Vm38O7CpeO361ABL1b8RDmhvMAIwlvJjyTvfWg8xrfNjS13lyLVHS5lq5/84X63l6JVfAAAAmJ+xNpjsOf0b20Rx+B72RRjW0jPbK76hkbNDdpmk40GogmW4WyMaqjzdyQwbIjTe1HB6f9Ye028xPIXisy+JChmI8hjZtVMNwznKZeHDfHudW/GF6Vqc9x7/o70w1qmVH3VW69iWj/huZ5xPoY7+niPX7wsnaupfhBucUljYXdT3GEv++PDOt9aDR1w3pfmxpq5KxGnGC3FtmUp1ljIMREs5euUXAAAAVkO8PouSDaY1+6Zb7hzsvMcdBUJremxD9LQv9IHqMI9m88bhcnbsrpJ1PMDqsYEUb4iEOrE2UrFXbQ4sLQ08HhOCTWRdxhLUkzMMAAAAAMaAfbEe4HhYM3J3BG3QrGKz5H2YBWCTWJexBPXYvOM5iwAAAADGgH2xHuB4WDNsQ6QnDS58+auW7yB/+KZPLP7+P3zn3iNAq3gU2D7MwmPHsKmsy1iCMrf9s3uXr8FYu6RexQAAAACoBftivdhYx4NtKtSJatikjqZfA9B7QeH7Q9o86R2iT37quHtNT7gbDNvCQY8lqMO+ryD0TqUXBgAAAKAF7Iv1giceAAAAAAAAAGA2cDwAAAAAAAAAwGyEjoe/vObYyQUAAAAAAAAAQDduO7k4fOuJP1g+8XDklpM/ewghhBBCCCGEEEKok645dvKje69a4HhACCGEEEIIIYRQT+F4QAghhBBCCCGE0GzC8YAQQgghhBBCCKHZhOMBIYQQQgghhBBCswnHA0IIIYQQQgghhGYTjgeEEEIIIYQQQgjNJhwPCCGEEEIIIYQQmk274ng4Z2AxcNXyr93WutUFbYOm6CdP/TtFPzRwxuP/XSr+u7cuG1Cff9Xyr77qEffUOOYY06k4e7Q/QgghhA5erOlbrpTj4UcGHhuQofeDgbMHSpJh+L0BXXOHDqyR2Nw+oXWrC9pmO3R4QO34/YGf0IEVyDbIXxgY6yiwuc7mufjvOYTjoV1enD3aHyGEEEIHr1Wv6ecNfH5AaQrZfTcM5NKWjXjfgOVzVfbu1qjG8SBKjgTdIfz9gdrwvWXppzY9bG6fEI4H1FvxfNFrQ10a11o0lN6U+SZOo5RmD+F4aJcXZ4/2b9Eq+gZCCCG0i5rDpvNkYZSWnA1HBz40ICdEaX03+0hgC4xQyfHw0IA8O6XKNaNQjaenHnA8rK/WrS5om82XtaEmbv3ba/xv60YPx0O71mGewPGAEEIIra9q1mmzcWSrtjxZ8fQB7XE/NaA9MrbACJUcD3qM5DcGSgafHrOW1+hvD+B4WG+tW13QNpsvjX+Nvb8y0HMyxvHQLhwP8wnHA0IIIbS+Kq3Ttr8ds47bXvdnBnA8jFSN4+HZA3ImpN65MQ+QnA3h/z3Vvk9jRqYM36cO2Ps04uaBMLy9Wx4TdojQaFV88lZZuDg+k/Kqsli4rwxcMDBFc5S/VXFdhHF/euCsAU+1eTe1ljXeUFw94B1H6yWbK2zM5zatc47rUPEYD1E/tG83pK6XcuWI+7aeDLtoIJYWQPVjm0c0hyhcKm59VCkML1LjvTVuT2PiqCl7rl49KR9vGAjLff9AGK8XZy6dlnz26o+m2v6BEEIIoceVW+d7rdM5uyEn29/quinOi51XjeNBjWpeHu9ja6GRmnM82EZS8dj7NGZoyjALG886hsLpXxnE9v6N/g6dIOcOWFxh3G8ZsDAW3/EBhcvFJ1mZlK+LB35hQBuZ1o4aaq7ytypVFzaYvYHUkndpTFnDurXr1Y/GlhOtRvEmNTcHzDWuw75jc5euUViNXevb2sz+zoD1P+96U2rzbQub4tLcoA2z5T8Ma153HY/HmBGGt3rTcStrary3xu1pTBy1Zc/VaywvHzee+rtkLKTSac1nr/4o1aaNEEIIoSeUW+d7rdO2Rresx2anmE2C42GCah0P1vDxZsIaw8KlNh12vWdAWyfwOlp83NJThwqdIHGniNUSXymuMZq7/C1KxS3l8tKa99bwdsw2fPH1aP3kjRXvmKm1X+fikuK+I3kOg3g+M3nXm7x4LHw8v3mLkIWN09TdcB2P41Z68RNBqXppjdtTaxxjyu7Va6ww3rjsvzJgx7w4c8da8hnHMbU/1qSNEEIIoSeUW9N7rdPah+ga3Ri4dsDiFrph4D31HeeLNX2Cah0PqUqOGyPleLANp2cM2zWhAZwy4CRvQzDWIJTi+FKdeYrmLn+LcnF7eWnN+9iyqg/Z/8PzaH1l7Rn3Jeuj4SIhtfbr2nFt6aTCp47H14fy8mMLljcvxOdy46BlDKfyMTXu1jhayp6r11i5eEN5cXrHxuSzV39sSRshhBBCTyi3zvdYp+2crhFak+MnTFP2Y7gvwfEwQbWOB6nGGPU2IiVjzTvvdT6T5SM8V0qjNT4Lr7LFj9K2ahXlb1Eu7ngwteZ9SlmPD8ROCbTe8uYEyXMwSa39utSf4vhS4VPHa/JjZbM4NCfIU35+hHnOFb6U71S9Sbr2WQNevNKUuE2tcbSUXcrVa6iWxduLM9X+PfLZ2h9b00YIIYTQE6pZ50NNWacv1YFI2tOm0g/XbhwPE9TieIg3E56TwTtWaqCwI8R3onp0NKk1Pin+QNjYjzquovwtysUd57U171PK+k8GdK3+j3G+/grb0jzGht7R1zwQtrO0inFt8XiLxBhHiMVjcehYDoUvjQMvjyqrfdvEI85HS9yxWuNoKbuUq9dQpXyE8uKMj/XMp9VBeC7XH1vTRgghhNATqlnnQ7Wu06HdGtqmJkvL9rC2rse2Y4vtgiK1OB7iBvMM3CmOh/B8z44mtcYXKvyKatz5arSK8rcoF3ec19a8Ty2r/T91PVof2VhXe+UI+1lrvx4zri1fmqfij0vGm76a/Ng1pbyEKoWN45bM0x5/56E1H17csVrjaCm7lKvXUKX5IpQXZ3ysZz6tDsJzufhb00YIIYTQE6pZ50O1rtOS2VqejRTvYS1tffshdXNNN97eP9C6N9xZtTgeJGtkuzsdN6zneLBOkPIw2TVhWr07Wmt8saYYlasof4tyccd5ac17j7Ja+cIwaP1k7ZTa4B7EuA7D2y8jCP2SivdzhnZ9OF+ZvPK1vKefW9ziuHMb8FQ+auNOqTWOlrLn2jlUab4I5cXpHeuVT6uD8FypP7akjRBCCKEnVLvOm8as0941JkvLbEILWyKVFnLU6niw41bZccPZZiM25K3x4vjUQcwA7tHRUkZfS3wq450D4ZdNSx25pLnL3yKLO44jlZfWvE8tq9V1HA6tj6yNcuPBwoRjcu5xbfOTxm/Y91Ky+SouR+mXHeK+LSmv4a8wWHlSc2EYd8rxEI6FMB8tcafUGkdL2XPtHCvMRxhvTZy5Y1PzafkKz1l7lPpjTdoIIYQQekK167xpzDqdsvvMDktdFypls6EKtToeJNs8eo2TcjxYR7Dr7J1whdWxOJ3WjibZcfuNVz0aYx2iJT4ru47F+fSur9Eqyl8ri/v4qX9zv4krtea9R1nDNihtoNDqlRrnseK+uopxLaeB9TVD/VD93ftQbDifKX57LcPGR9j/Un3bexUr7MPxGLOnMTxngp7O0McJ3zAQliMM2xq3p9Y4Wsqea+dYYbyWD0s/XNS9OL1jvfI5pj+2pI0QQgihJ1S7zpvGrNNSaPdpnZbNYfaWl04ss59wPIzQGMeDdQJv05HbkMgoi41pdQrvy6JjOprity+HiykGpr7rEMalfL5pYIrmLn+tLG5tKs4dMKNYxO+Xm1ryLvUoq47regb2+skm7dLm1uYDG4tj+nXLuFZY2/iF7+SFi4rnFA0/6mivZYTjJJT17fDDs1q8NHaeNhAqzrvilrPWi9vitXxanPb0hZeP2rhTao2jtuxxu5SkeNUG4Xyh9gtfj/HiTKXTI59j+qNUmzZCCCGEnlDLOi+NXacl7UdCm8NsvxrheJiglOMBIYQ2TbZApRyfckqwUCCEEEIIIbRi4XhACG2Lcp5xPNQIIYQQQggdkHA8IIS2ReZc0KPtNw/oWwnnD7x5wB59r3kFASGEEEIIIdRROB7aZZsbey+ohHf3tZfWKS8IrYPs+yzhu3tyROibAc8dQAghhBBCCK1YOB4QQgghhBBCCCE0m3A8IIQQQgghhBBCaDbtOR6OHDv5p9fcevJLckAAAAAAAAAAAPTh5LcO3/Lo7fJAfOmeP/z24sGH/wwAAAAAAAAAoAsfu+dPFoePPvq25asWOvDoY38BAAAAAAAAANCF2+/75mLvGw84HgAAAAAAAACgJzgeAAAAAAAAAGA2cDwAAAAAAAAAwGzgeAAAAAAAAACA2cDxAAAAAAAAAACzgeMBAAAAAAAAAGYDxwMAAAAAAAAAzMZGOx6OfvyexaFDhxZXvvFt7vmDZBV5e+BzJ9zjB8mYcq9jOWC7aOljV7/3umUfvua3b3TPT6FH3HPmb13ZxTLDPNCXAADWE/YD288+x8MDX/724tyXnb9clEv86BlnLB784tfdSFfF1M39Qye+u3jKU37qtLI96Uk/vHjFJZcuvvzV77jX1TC348GMp7Oe/dxJ+exNa7kPshx33/v5xTkvfukyfeN5z3/B4s1vfcda1em6s+712NrH5tyY9Ih7zvytK7tYZpgH+hIAwPphc/Oq9gM33HzH4qzn/PQyTVGz99O+8ewXvmgvnwe9D95ETnvi4ap3HVm88tWv28M2FGc+66x9x19z2RWjOsYjX/ve0rnRw3HRy/GgzmblesUlv7x48o/9+F6Zx+Zxat5K9aQBo/hfdt4Fp507SFrLfVDluPzX37RMV5z9wnNOa/u5HEZT6Tl+erAO9dh7rMy5MekR9y5unFZZ5nUbYwfJKutiVWnt4vgBAFh3euwHatYRC6O0tP+74MKLl7arnBCl9cfWD4GNMI7iqxa979z3NC56OR5i71rYKcfGPbfjYV3p3V/mwCYOOZbu+vRnTzuvO/jXXX/0tOPrwDr1i3Wpx951MufGpEfcc+ZvXVllmTd17p2DVdbFqtLaxfEDALAL1KwjtgbIwdFyA/0zDzy8vKmmG/LaO2IjjAPHg+N4EBb3WM8bjof1dDyET7nc/sn73DDrzLr0i3Wqx951MufGpEfcu7hxWmWZN3XunYNV1sWq0trF8QMAsAuU1hGzXcesM697/ZVLm/djt92N42EC3RwPNe/KqNHsfEjcePq4iB7htse1xYUvf1XSOTCn48E7F5dVd3zjO7upvNWUraaecmWvaQthccgAu//BR/beWxJefQvFHeb9Gc88c/HBG2/bOx/mS3GG7/7XtmGcrzAOPc5/l3N3vRYzOlsdSq116rWLZ/C2tEHt+FkFY+qxdVz3qpNUm2iBCvOjvqxxnNqY1OZftMbtMSaOmrkpReu4C8OH88IVv/Fb+8LVjh3RUuZUu4pUHSl+vU4YtqHKZnXUMsZayhXWj4jnTY9SXkNq8zLX2Mr1gV5rXm1cRo/x07tNAQDAx1vT51qzPLshhz3toOumOC+gk+NBi7vCaJG2d2VsQQ6/k3DTLXfunQvDhh+hs8bVteF7N/o7dgKM7UBGzvFgxkkct3VsGYDXfuDmpWFo+QsNGS9vtWWrqadU2WvbIoxD4fSvDKdcfVudKB6V/QM3HFtuTsI8WJz6uKDSLcXplcOOWd4tDptwpgx2az/P6Ewxpk7jdhG5zVNNG9T0i1XRWo9jxnWvOvHaRJsSecXD+MMFTYRla8l/a9weY+KonZtStI67MLylq+97hJvOlrHTWmavXQ1vrHnxK7/628pWO8ZaylUzb8bU5NXCzjXnt4wtHde/cR/ouebNPQbnblMAAEjjrem916wxewBbT2ztxfEwjcmOBzvvLfzWwOG1cQPacUMLenyHwa5RRwof6y7lrUTK8WB3MuI8WnrxXV6vE3p5aylbqZ68+FvbwsLHx708lfJjtMQZhq/Jl/DKUUsqDznG1qmXP28z1Fpfte0wJ2Pqccy47lUnXpuk2lVj39IO22lM/mvj9miNw8LXzE0pLA4R99+W+SM+3zp2WsvspZ0ba6qjOD/vPvzBvWO1/ammXKW4UtTmtSUvYfj4uOVz7NiK4zN6rnlzjsGWeizlEwAA2rF5eM41S/O5rpHD+NLXXr4Xt5Dj/C7nieo4XzgepjHZ8WCLsmdI2x2KcDEfu2jnDMlU3kpY51EcMbqTEXdA67BhJ0+da8mbV7ZSPXnxt7aFxeE9Lh/nKTXIY1riFF45cnF45ailtgwhY+vUa/dc+Wvra+z46cmYekyxijrx2iTXrl4aKbywPeJujUPha+emFK3jzsKnxmKuDF58rWX22tVoraOQUn9qKdfYsVKb19Y6nmtspfpAijFppUi1dXzMaA3fq00BACCNt6b3XLPsnK4RmsPjp+fi6+yacI3D8TCNSY6HkqHgnS9dYyicvor/4Zs+scQ8U2EHy+WtBus86nzqePaIjuLM3VmRp8zylcpfqd5KZSvVUxx/Kbx3PpdHG9DhOQuvOogfPY7DtMZZOmZMGfBhG9YYjHPVaW0f9uqrlKdV0FqPIbp2yrgeUydxfKXwXjsZpfxPidtojcPC185NKVrHXS58qQzx+TH1VtNPLHzLvJHLS2u5dMzymZs3Q2rzOiUvuToLz5XSyMUXonimrnlGKa5SPKnxM6Yea9sUAADyeOtJzzXLzmnefs+R6/edE+aA9tIP16op+xCY6HgoVX7YyLZBqVnk7V1Lj7Dxc3mrwfIferKUvtf5LGyYFw/Ln5e3lrKV6imOf0xb5OrPG9BCj6qaZ1DEH3dpjdMLn4tjyoC3OlDcYV2nmKtOa/tw66S6KlrrUeiaHuN6TJ3E8ZXa1Wun2vyPiTumNQ4LH+bHI5emaB13reFDrM1s7Iypt5p+UtsuIbn+1FouO16aN0Nq8zomL3OPrRhd32vNq42rtS+tok0BACCPt570XLNSc7lhadnTFbY2xE/01a7R4LMSx0N4PtcphG364ycOWg3PGlKdyh6tbMl3jJe3lrKV0ovjH9MWufrzBnRI+HXZsP5a4/TC5+KYOuAtD95jWzFz1WltH/bqq7UfzkVLPYpe43pMncTxlcJ7earN/5i4Y1rj6NUnWsdda/iQOM9j6q2mn1j4lnkjl5cxc0JIat4Mqc3rmLzMPbZieq55c43BVbQpAADk8daT3muWrSPh2mPY3s/sWktb336wp+KFPqCscHJg6FWN11x2BfN+A11etUh5j7x3THOdImcAeIZKyegpYel5xoLXOXUsVdaYOG+tZSsNnjj+MW2Rqz9vQMd4eWyN0wufi8MrRwueUynFlDqtfR+ttb5K/WJVtNRjz3E9pk68+HKLT5yn1vy3xJ2iNY6WuSlF67jLhR8zdlrLbOnXjLVSfkJy/WlMuWJK/bU2r2PysoqxZfRc8+Ycg2PqMaZUTwAAkMdbT3qvWd41RmxTWNgSzPttTP64pDVMvCir8W3x9zqFt8injAu7RnGFhkQpbyUsPc+gsLg9o80Lrzx6Xxu3vLWWLVdPwit7a1vk6i8enMr/S1768/s+uGl5DMvUEqfwwtux+HiqHK1YHKqnsDyG7mDZb+W31qkZqXE7T/kyf1wHuX6xSmrrsee4HlMnXnwWT7xptePC8tSa/5a4U7TGYWWsmZtStI67XDsJy2vt2Gktc+tYC+OP8+P9qkWqP7WUq3bejKnNa0texCrGltFzzZt7DLbU49g2BQCANN560nvNStkNtsakrgtJrUdQx2THQ7jwq8Hi37/2DGHrLE/8vvY5e41n5+z3sfVb9BaXCI2FUt5KWOfx8uh13lRZa185aClbGN6rJy/+1rZoGdBWVzoWxxte3xKn8MLbsec9/wXLf3O/2zuGsJ6EPUZlj0/pmBmsY/q3GaoKr7DWP6w8tX3Yq6/wuNcvVklLPVqep47rMXXixRf257h/Kf/619uY1OS/NW6P1jha5qYUreMu106ideyMqbeWsRbmx+K3eGMDItefWspVO2/G1Oa1tY5XMbZCWsZNGN5LqyWuXuOnZ5sCAEAabz3pvWaJ0G7QHK41oWUOtzUAx8M4JjsehBbt2AhQg3tfDbXw9iVqES7qcVzqGHqn0+5ihcZCTd5yWOeJjTPDOm9418TyZ0ZMmMd7j//RXjgvby1ls/CpekqVPU5DpNqidUDrDnaYH8X7lre/a991rXF64cNj8k7aZkLE7/eORfUUfxxMaILSXfowjZY6tfDhR9BkKCtOK1dtH05Nqrl+sWpq6zGuw7HjekydpOKLr1E7ycnotVNL/lvjTtEah+WxNDelCOupZtyl6jUkrjfRsjbUlLl2rIXhw/xYX43DpfqTna8tV8286dGS19q85Nqs59gy4rxNWfOmxlU7fuZsUwAA8PHWk95rlqF5PZzrzXYIw6TA8TCNouMBYNWUjFkA6A/jDgAAAADmAscDrB1sgABWD+MOAAAAAOYCxwOsHWyAAFYP4w4AAAAA5mJrHA/hB59qwLheX2o3QLQ5QD9wPAAAAADAXPDEAwAAAAAAAADMxp7j4cixEydvu/ebizuPfwsAAAAAAAAAoAsfuesbi/cdffTdh645dvKPD9964vcOHzt5FQAAAAAAAABAD645dvJL7zv66EeWr1ocueXkzx5CCCGEEEIIIYQQ6qRrjp386N43HnA8IIQQQgghhBBCqKdwPCCEEEIIIYQQQmg24XhACCGEEEIIIYTQbMLxgBBCCCGEEEIIodmE4wEhhBBCCCGEEEKzCccDQgghhBBCCCGEZhOOB4QQQgi16EcGHhv4wsAZOoBO008OnD/wtOVfj+upAz/3+H8RQgih3dKuOB7OGVgMXLX8C7VKBhRCqF6XDWjOedXyr77a1PE4Jd8t185Z93PGvUpNXRMPD6TqYWzc27TOPH3gewOqhx8MnD0gqf/grEEIIV/sN7ZcKceD3c2IF82cZGzYQnuHDqyRDtrxsMl3h8zQXte8/9DA7w8oj7nNgO40XTtgfVTcPHDWAGrXts0RvTXXBnXdx2NKU/Ldeu1cdS/NGfcqNWVNtE11agyPiXtT+3VKcsyoLE8+9X/NkW8f0Jy57XMfQgiN0arXgfMGPj+gNIXm6RsGcmnL9r1vwPL5EwOoQTWOB1FaKMPNX0343rL0vz/gdQIcD2mV6k4D8yDatEbnDoSOhNRmwNpfHB340IBdlyo3ymvT5ohVa64N6rqOxznnkdZrcTyUNWVNtE11ai3z4t7kdWaMVEdWFpX96gGV76EB1huEEDpdPdaB0lojhfaonA22L5ATorQnMBtAsH8YoZLjQYukPDulyjVDQ42XuxMyl0odDcdDWjWDdB0VGnJ6kkH/T20GNFHEXsxw43xQ/WKTtWlzxKq1LRvUWq3TPILjoaw518QxjgeEEEJoqmrWGlvHZYe27Mnsab9PDcj+ZT0boZLjQRvl3xgoGSj2KOHfHsDxcLpwPPSV1ac5E8ZuBsLJB7Vp0+aIVWtbNqi1wvGwWcLxgBBCaNtUWmvMdh2zFpkd+zMDY+PYedU4Hp49oI1CatMcvu9ZevdTj9HUvE9jhouMO72bb+/TCL2XH4ZXR7BzIWGHCA0hxSdvlYWL4zMpryqLhfvKwAUDY5RyPLSU06QPr+huf5i3VFgNwDcMhGHvH7hoQGqtO8mu8QzW1ICO2113yS0PY/XfnPpXOkjHQ9iG6v9hG1rfjttB5U99E2GOMTKHVjVHpPpK7fjsHV8stW04HnWd4s/1ydo8eYrHo7Tt84hXZqm17lvL3NqunmrauvdYbknTq/9YubBefaTaOibXP6SwXlY5t6ZU23/CfLe059T8IYTQJqu0DpTm07FrTY3MdtV1qb0OqlCN40GNqsbUIugt6KHhkdtUaMFWOMUTv2cvYyFsPOsYCqd/ZfTZ+zf6O9zg6D1/iyuM+y0DFsbiOz6gcLn4JCuT8nXxwC8MyFnR2lFNcX2aWsopWf3aNbmwMsjk9QvjvfHU3zZYWurOym5/x+lJdi5sf5sItFFRXcpItDyHxuoUtW4GTLnNT63iNlSfsTrV33cOWDsojDm9vPE01xiZQ3PMEbV9pXZ89o4vljfGwkUxTkeaOh7i8Si19oVNm0e8MrfW/dQyl9rVU21bt7ZfTq1plvq4lAvrzb1x+DH9Q4rrZVVzq6eW/hPnu6Y9p+YPIYQ2XTXrQG4+rVlrbI2sWcNNZhOYzYPjYYJqHQ/W8PFmwRrDwqU2FXZ9vODqeusEXkeLj1t6sWERd4pYLfGV4hqjkuOhtpwy8uI7IKmwYZvF4X9lwI6VymvxWP5S6UnxgA7zEKr3oPWM35IsD145WpRqw9BQ9doxDm/xzDVGemuuOaLUV0r91dQ7Pk+pNtOdSx0X3oZsyniwOKb0hU2dR7wy19b9mDLXxu0prLdQXltbWDFlLI9JM0wvpVxYb+71wrf2D8mOxcfnnls9jek/cbyt/a0lfwghtOlqWQdS86kdT601mlN1jRzz9n04Qw5775fu4ny12GwoUq3jIVXJcWOkNhWxIRnKrgkXXYs3jkfyDJ1SR2uJL9WZpyiuT1NrOVPywtrgKpWhtu7CAW/phce8PpLLQ23+atRSVya7xqv7FqXaMNePvHEy9xjprTnmiJq+Ujs+e8fnKddmrWMydy6UNx579YXWPIeacx7xrm2t+5RSZZ4ad0tb92q/MWmGdZpSLqyXPy/8mP6Rqpe559YW5cpf255z5g8hhDZFLeuA5M2nubXGzukaoTUkfoItvs6uCefglL2LKlTreJBSC2a4+HuLfsng8M57nc9k+Zhq1Ji8+Cy8yhY+ojNWXn1KrfkyqbzPGjj/FPGvOrQMijF15xlDFs7a3uJVHcqzaHlN5XmKvL6Zk+W/pn5KyrVhaiMQj5NSG3jnx/adXppjjqjtK1b21PjsHZ+nUpvFddGap5S8dh/bF5SndZ9HpPja1roPVSrzlLhNFkdr/2ttv1A904xVk7+wPrzwpXr1rsmlO+fcmpPC5/qPVFNfdq53/hBCaFPVug5462NuzrRzWjsu1YFI5gT20g/n+BbbCEVqcTzERqK3gfCOlRoo7AhmRPTsaFJrfFL8oacxH/kyefUpjSmnvQvqYQNj7g2D12Y2YOM8hPnzCAfzWFld1cSlj9MoX57ROka5Nqw1jlcxRnrL69NT5wjlOUfYvrnx2Ts+T6U2i/vkmDx58tp9m+cRKb62te6lXmWumWta27rHWO6ZZqya/IX1kWvrlv6RS3fOudVTbf+RaurLzvXKH0IIbbpa1wFvfcytNaX51NKK149471aat1FGLY6HuME8gyO3qSgtrOH5nh1Nao0vVPgV1bjz1SrVeVvzZUZ5/K5p3BYtg2Js3YX5y/WXmjxMVVz+lCyfNWFrlWvD3sZxeH5Kn+6hXJu3zhFT+oo3PnvH56mURlz2KXkK5bX7Ns8jUnxta91LtWUeE3es1rbuMZZ7phmrJn9hfXjhx/SPXLpzzq2eavuPVFNfdq5X/hBCaNPVug5462NpzrS53FvD4/XD0ta3H/Q6hqEPbCuc1iC9qvH+gZStiCK1OB4ka+R/MuAtlrlNhWckSHZNmFbvjtYaX6ypi3+tQR2qxUCxsLHxnKrzUGPrLmw3++haHCZlHPZWXH5PVk6F8x6xGqtcG9Yax6X26jFGeqvnHCFN6SteH+4dn6fcAub1yR7jwWv3bZ9HvGtb6r6lzFJru3pqaeteY7lXmrEsbDxmJa8+vLjH9I9cHlNl7TG3xmrtP7l8x+3ZI38IIbQNal0HvPWxtNbk1lRLy9YPC1silRZy1Op4sONW2XHDpTYV1nhxfOogZuT16GipxbslPpVRP9MVftm01JFLStVna74848fyprCh8WPXqy3iOve+Rt9ad+F1//TUv/H1dq1nNMX5mCIra2ozENaRV9dTlGvDWuNYsjLMNUZ6q/ccUdtXasdn7/g8hWMslB0X3oZkynjw2r2lL2zyPBJe21L3U8ocyos7pZa2bmm/nHqlGcvGbFx/5igSXj8P4x7TP3J5nHNujdXaf3L59tpzav4QQmgb1LoOePNpaa1JrWc2z6euC5VaE1CFWh0Pki2EtYu+FC7Qui7+neo4ndaOJtlx+41XPRpjHaIlPiu7jsX59K6vUao+xxoo+l1vfUBMv9FueROh8RPWudVJ/Pv7pql1J7y+kmr3qa+uKF6VXXGF8YWPQ4UbSeuzVj4P7yd0apSrnxbjeBVjpKdWNUfEfaV2fPaOz1N4bfzb0jbWUmMyl6ecvHbf9nnEu7a17lvK3Bq3p5a27jWWe6XpKRzTYZzHT/0b1kcq7tb+kcvjnHOrp5b+09qePfKHEEKbrtZ1ILU+5tYaKVzPNN9qXbf51ksnltkIOB5GaIzjwTpBvHGQUpsKSYtrvFirU3iPvY/paIrfvjAtphh2es87jEv5fNPAWKXqszVfcR1q0OidU7vzFBvDCq8PYoV1rgF40UCosXVnH2pMnZcsz+GH+yzfTxsYo3BjkCKsC5tkcpQ2Einl6qfFOJbi9hU9x0hPzTlHlPpK7fjsHZ+neOxoY6L2tjrwxuSU8eC1e2tfiPuZpb+u80jq2pa6H1Pmlnb1ZGmW2rq1/XLqkaYnxRt+XFH1ofb36iMVd1ynpf6Ry+Occ6un+Ppc/8nlO9WeU/OHEEKbrtZ1IDefptYak+bWcL61Na1GOB4mKOV4QAghhBBCCCGEEJosHA8IIYQQQgghhBCaTTgeEEIIIYQQQgghNJtwPLSr5vsCId57SegJrVN90rYIIYQQQggh1Fk4HhBCCCGEEEIIITSb9hwPR46d+NyRoyfeKOcDAAAAAAAAAEAXjv3bu993y4nf1BMPf37Dnd9Y3HT3YwAAAAAAAAAAXfjdO76+OHzribuWr1o8+PCfLR597C8AAAAAAAAAALpw+33fXOx94wHHAwAAAAAAAAD0BMcDAAAAAAAAAMwGjgcAAAAAAAAAmA0cDwAAAAAAAAAwGzgeAAAAAAAAAGA2cDwAAAAAAAAAwGzgeAAAAIBZeOjEdxdPecpPLc569nMXX/7qd9ww8BeLBz53YvHhmz6xuPf4H+0du//BRxY3fuyT+8IBAABsKjgeAGDrkVHvHfe4+r3XLQ4dOrS45rdvdM9PoUfcc+YPwOPox+9Z9rkr3/g293yO173+ymR/HRtvy3jeBD7zwMOLJ//Yjy/r4klP+uHF7Z+8b3lcYx2HDQDsCts2t8PpFB0Pd9/7+cU5L37pckE0nvf8Fyze/NZ3sBjOBHX+BI987XuLc192/rIOchst3Rm69LWX7xlv4sKXv2px16c/64aHfqx7f7WNeq0Bj+MBYD9jHQS2oX7ZeRe458fE2zqeNwE5Z1SeL/ybf7/8v5wPv/nmty+fFEnVHQDANrHquf2Gm+9YnPWcn16mKTTvvuKSS7Np6wm+s1/4or18PvjFr7vhIE3W8XD5r79pr0HOfuE5i1e++nVDo/zy3uZuzN2PMdjm80fPOGNljXwQaYp1qfNW5qivm265c58jIbXRMuNVXHDhxcs6s+tW3X67xjr011Lf0+KivNQa8DgeDpZdmu83hbGOB9tQpww5L97e43kTUD1ZeVR+m1fPfNZZ9EcA2Al6zO01a7mFUVpyNti+QU6Ikg1g9pfAXhhH0vFglauF7y7nrrHucl53/dHTjs/BQRiFB5HmOtV5K73rKzS89CSD/p/aaKneYi+lvVes69bVWbPprEt/7d33rFw4Hg6GXZnvN4mxjocSYxwPAAAAHjXrh9lQcnC0PFlhT/DpCV/tL1ijxuE6HmzTFr5reJDsgiG6bnXeSs/6srowZ8LYjVY4uXjnYTzr1F97j9U5N/Y94p4zf+vALsz3mwaOBwAAWHdK64fZrmPWF3sN7mO33T06Dkg4HsZu2GrflzFjQ4az3s2392WE3ssPw6uh7VxI3OD6IInukoeP5sdxGeqYV73ryL6wekzc7s7WpqnyhnE845lnLj54421751tYVZ17hqO3kZmjjVr45//yy3v/H7vRGlunIWE9yNsZ1oPVc9yf9ARAajM+xxg5CMbUbe0Y7d33Un1f7RbmR+NXc0Cqv7XOMS1xe4yJI+5f6ostT52U5saQXZvvRW2ZLWyYZs36UNN+veeGljRLjodcOK/fxuHHjuewTlY5T+eYY74L6ZFHAIB1oTS3z2kPlrCnHXTdFOcFJBwP1nihgVBCC6yu0eIXv2evBT5sHGt4hdO/Msjs/Rr9Hb4Tqvf8La4w7vDDddYhLM5UXELGh7xhYbp6J11/WyeqSdOMKJXt2g/cvPjADceWj9+0dmZjVXXu5S9nEPZqoym0bNZCrE7HtomI60H1GtbzS17683v9SWHsI4uqh9ionWuMHASt/bVljPbue17f9+aBcEETYdmmzjG5uD3GxGFtok215iRtsiyPNe1UMzda2F2b70VLmcesD7Xt13NuaE2zNJfmwtU4HsaO57hOVjVPp5hrvjN65BEAYJ2omdun2g+ttqswO8JsBhwP0zjN8WAV7C3IKaxjeEafNbLXkeLjqbTjRrfjhgya2NOfisvS1p3aOPy7D39w71guzVJ+WknlNcfYOg+PGTmDML4mldfedRIyxvHQ61WAVD2EhmWchuXXq/+5xsgqGZOHMWO0tux2PNX3LL6a9tBdREs77G9j8l8bt0drHBY+fgKlZYEM44jLGc6Nqbwp3DbO96KlzKW4PMJ8hse99mutzxRj0gzT88iF8+ZxL3xtW4TX2LH4+NzzdIo557teeQQAWCda5vbU/GjHU+uH5khdI0e7fT/OkAP+Lud7ZXG+cDxMo4vjwRY7z5i2hT9cJK0RY4NHeMZJqSOl8OKyTlcqWy7NMXWUY5V17hkkOYNw7jaqwUuvhF3j5b+FVD3k2szqP7xm7jGySnr2/1X0Pa/v59qjpX69sD3ibo1D4VPtkTsX0hIulbdtnO9FS5nHjI9cPuNzveaGMWl660dILpyXNy/8mPGcqpNcW/SYp1vJ1UFte86dRwCAg6Blbhfe/JhbP+ycrhFaF+In0uLr7JpwTsXxMI3JjodcI6fOe53LsI7UYogYCqcv6X/4pk8siX8NoaWzlNK0Mqie4kdyW7G0DrrOPWOodxuNwctfDjO+euQlVw8pwz02aOdqL+/cKrD81vbXEF2bG6Oid9+L4yuFz/W3Uv6nxG20xmHh1R7y4lveUnn0qJ0bS3nzzs81lyjcKub7KWWuWR/s+tr26zE39EwzpCZvYT/0wpfq27sml+6c83QJXdNzvpsjjwAA60Dr3N5qP9g5rQfvOXL9vnPCnLpe+uGcjeNhGknHQ1zRKUoNEDa0Lfw9O5Kdt3cePawcPR0PIv6405gPe4l1qfOxxpCoqa+xePlLoY/PqG48Q3MMuXqoNWhXMUZWSWt/FbqmZoyK3n0vjq/UHl5/q83/mLhjWuOw8GF+PKakaZTC9ejLpfbs1RYhuTTHlFnUrg+t7ddjbuiZZkhN3sJ+6IUvtb93TS7dOefpFLV9VNTUmZ3rmUcAgHWidW5vtR9K86OlFa8J8RNkpXkY8rgfl7TGtMrPUbsQhud7diRhXqr4ncrY0GnpLKU0Q8IvrY59xHEd6nysMSRa6qsVL38eVi81YWvJ1UNvg7a1vbxzq6Klv4raMSp69704vlJ4L0+1+R8Td0xrHKXwNdTOjavoy6XyrHq+H1PmkNL60Np+PeaGnmmG1OQt7Pte+FLevGty6c45T6eYa77rmUcAgHWidW731rvSHGhzs2eDxWuCpa1vP+h1DEMfqFY4rSt6VeM1l11x2roOaVzHg1V+zeJljZzyIFlcocHVsyPlFuJ4kS/lNaR1AW8NH7OqOvc2ilONITG1/Dm8/MVY+grnPUI1llw91Bq0U9qrtv5XTUt/bRmjonff8+LLLT5xnlrz3xJ3itY4Un2xllIfNVbRl3PteRDz/Zgyx+TiFy3t12tu6JVmiIWbss6U6sq7Jpe/VDl7zNMec853vfIIALButM7t3npXWj9ya6SlZWuChS2RSgt8XMeDMMNXC9hdzlc+dRfHfuvbGide7NQBLJ4eHclbbFOLvF2juMJF3uJXx4rz6n3lPJWmfp4rrBcLP6UDzlnnZpDE+St9Jb9HG03F0gvzF2Jpp/I7hVw91Bq0orW9Wuv/IKjtr61jtHff8+KzeOINkh0Xlqcpc4wdC4/H4T1a47Ayxv1LKJ/h3JYiTDPuo+H1Fm6uvpxrz4OY70VLmcesDy3t11qfKXqlGdJjnSm1hXdNLn9zztMec893PfIIALButM7t3vxYWj9Sa5TN26nrQlJzPNSRdDyEi6SwR03sERMdswU7DKtGi39XOl4gWztSeNx+w1X5sQa3c/ab6fotcktbhIt8mNfU77qX0rROp3NxWb0y1TJnnQszShT+8fI8/vjv857/guW/U4yh8LjXRi2obGpDxRHm0+pD3BUY9VYuS9cjDN9Crh5aDNpVjJFV09JfW8Zo777nxReOYbvG3se3+SDMU0v+W+P2aI0j1b9aXgEL47A0La1wblxFX861Z0tb1JaplGZLmcesDy3t12tu6JVmTI91JtcW3jW5/M05T6do6aOt7dkrjwAA60Tr3J5a73LrhwjXKM2fsglKa3SIrfE4HsaRdDwILXDxB7KEGlF3MsPFTWHjxVWN7j32PqYjKX77IrQIF9c4bXUmvVtpd1liI1/h9eGnMK9WpjhcKk3dzQ3Pqaxvefu79l0/BqU5R51b+PCDVzKKFKe1xxRjSOTqq4XQcE8R5tUmkRxxH6glVw8tBq1oaa8x9X8Q1PbXuOy5Mdq776Xii6/ReFBbWvgwTy35b407RWsclsewLSyf9x7/o31hUyiO2rlxzr4cl/2g53s7X1vmMeuDxV9qvzH1maJHmjFW3xbfmHUm1xbeNbn8zTlPp4jjyPXRXN5z42NqHgEA1onWuX2M/WBorgznT1unwjApcDxMI+t4AAAAAAAAAACYAo4HAAAAAAAAAJgNHA8AAAAAAAAAMBs4Hmag5hsFId67S9vCOtUF7QIAAAAAALB6cDwAAAAAAAAAwGzgeAAAAAAAAACA2QgdD395zbGTCwAAAAAAAACAbtx2cnH41hN/sHzi4cgtJ3/2EEIIIYQQQgghhFAnXXPs5Ef3XrXA8YAQQgghhBBCCKGewvGAEEIIIYQQQgih2YTjASGEEEIIIYQQQrMJxwNCCCGEEEIIIYRmE44HhBBCCCGEEEIIzSYcDwghhBBCCCGEEJpNOB4QQqvQ1QOLgVct/0LronMG1C5XLf9CCCGEEEJoBm2a4+GyAW/z8pOn/j1ozZmPdSkjQq16+sD3Bu5Y/tVX6zQuUvPTuuqHBn5/4PsDP6EDlVr3eRghhBBCm6lLB2Qzys6QfXLWADdJtkQ1jodnDXxqQA1uHB94y8AZA6uUZ/DasS8MzJGfHxl4bKAU/5z5mLuMCLWqdlxIhwdaN7c1Wrdx4c1P66yx+fWuY45CCCGE0BSZg+EHAx8a0P7z7IF1djycN/D5AeXP8n7DQM4Wkg1934DZTb3t47VVyfFgj0eL+wfUCW4cME/UqjuAZ/CqwXUsvJs69k6ep9oNlpePXpq7jAi1qnZc2NMOc2zG121cbJLjwdpPi2OrDmIeRgghhNB2SzeqtHGXsyHUqh0PNfaLhVG+lOejA9onywlRsnvMjhI7ZSPlHA9WKQ8N6DGXWHoS4qLH/7sy1Rr2PQ3elju7qxRGPTpIMS5O1yY5HqboIOZhhBBCCG2vcjbDOjoezBbSDZcWO9huyOlpDtnRO2UjpRwPtqnwvE4HKRwPTwijHh2kGBenC8fDfjFHIYQQQqhGOZth3RwPZgOPsW/sqY6fGcDxcOp46MWpkXUIGaJ65NZexXjnQCidC9+D0dMU3lMTanC95mHxfGVA4TyDN+6MalCLP2Rsw9ZusLxBEdaLPFz2Po+w939U1jcMWFlVJ6VHjHqXEaFWbfq4qJ2LPLXMT6Yp6UlxfQi9/hbGEdbrJs3DcX5q3o9ECCGE0HbI7IoY24d6tqSpxYbQR7BDu0bcPBCGrbFfcvnJyZ520HVTnBcbq5TjwSrdM6A9WQPo3Rb9K4NY34IIDV6LU+cuHpARbR0lTEfGrrxMOi5DV3GGG5M4fNz45w7oGjVs+M7N2I9h9thgKQ/6Vwa+5U1/3zlgZVUY+4hn/KTJ3GVEqFWbPC5q5yJPrfOTNCU9yUtT86v+9hZCnbf01n0etu8IhWGsH6hf7MxijBBCCO2oUjaDfuFC8mxJqcWGsE2/zllYs39CW7bGfmndJ0tmV5ndhuPhlOPBKkaVXfuahXUIEXcKyc7HT1B4lW5h4w2NPFqWRs7gleLGnaIeG6z4eNj543o2r58Xz1xlRKhVmzou7JqauciTXd86P41NTwrjCNNUWX9lwI5ZOBHWiaklL2PLOaYt4jR0nS3qXjkQQgghtF3K2QyejdFqQ8iOjJ+EsDRjm7Nkvyh+XaMbONcOKC1DN3a8byPGZWixA7dGvR0PqU2INZAXX3zOOovnRap5xFcqdZgW9dhgxYZ+ro5t8xVeM3cZEWrVpo6LlrnIU+v8NDU9qTac1cemzMO5NKy9S/0LIYQQQpuvnM3g2Ri9bAjPpsnlxc7pGiHbKX6CIr7Orgnzg+Ohg+Mh7BCmMD55hs6PME+RGjzX0NKmOh68ekltAnA8oE3QJo6LlrnIU+v8NDU9qWVhytVrS15ayymNbYtUGqXzCCGEENoe5db92MaYYkPonH6Z0bN/TKXrdU72lL0KEsocIqE9ZPkP08DxEDke4grKKWfwWsXqfA6lVWoEHA9PqGcZEWrVJo6LlrnIU+v8NDU9qZRmqFy9tuSltZzS2LZIpWHXen0BIYQQQtulnM0Q2xhjbAgds29CeIQ2TS4vJfvE8mr2quU1tpdLZdhKpT4uaYZlaOTnlDN4c40XqxQWx8MT6llGhFq1ieNi6phpnZ96jNGWhSlXry15aS2n1NoWpXL1qDuEEEIIbYZy635sY4yxIexJhPg7D55NU7JBLK7wGlNsr1re9e0HvY5h6OPfCiebV69qvH8gZ09vhVKOB6u0WqMvZ/BKqc2Ep1xj4nh4Qhjm6CC1qeOiZS7y1Do/TU3PylMTR65epZa8tJaztS1K5bL2LvUvhBBCCG2+cjZDbGO02hA5R8UYx4Nd49lbllezVy1siVRaW6WU40Eyw1ON5n2d86kD9tvvJYPXzntGpBo3/DK7NVC4wZDChqs1eKcY/KZ132D1KCNCrdrUcWHX1MxFnsbOT2PTk8I0w7Dx9bl6lVrysop52OKK86PrbP1JlQUhhBBC2yOzGWocD1KLDZFyPFiaCus5HlL2i9mkcXyWTs3eLOcM2VrlHA9hYwh7RMQeDdExM0pLBm8YlxrDvv5pvwsfdhprCB2334+3r4Tab9eXDF7JOqTFofyPadiwEymeGOtYXj5y9TJ1gyX1KiNCrdrUcdEyF3lqnZ+mpieFcVialla4YOXqVVq3eTiVH1tfauoGIYQQQpsvswlqHQ+tNoTZIw8N6CPbbxiwsCK0aaTSHsucG5Z2uD9O2WGhzM7C8RBIjarfbTeD01Dl62kHa9CSwSspLjVyGJcaS+/aPG0glMLaV0aFOok2IpZOjcEbxzHWiA0NcA9L18tHrl56bLB6lRGhVm3yuGiZizy1zE/S1PQkxaGPIoWLpM3Dply9mlry0lLOqW0RlkuLvPelaIQQQghtp2QPtDgepBYbIg5rto/2ufrbs91KeyylE6YtOym0y3LC8eA4HhBCCCGEEEIIIYRGC8cDQgghhBBCCCGEZhOOB4QQQgghhBBCCM2mXXM8lN5Lj8m9K40QQgghhBBCCKGCeOIBIYQQQgghhBBCswnHA0IIIYQQQgghhGbTnuPhyLGTf3rNrSe/JAcEAAAAAAAAAEAfTn7r8C2P3i4PxJfu+cNvLx58+M8AAAAAAAAAALrwsXv+ZHH46KNvW75qoQOPPvYXAAAAAAAAAABduP2+by72vvGA4wEAAAAAAAAAeoLjAQAAAAAAAABmA8cDAAAAAAAAAMwGjgcAAAAAAAAAmA0cDwAAAAAAAAAwGzgeAAAAAAAAAGA2cDwAAAAAAAAAwGxstOPh6MfvWRw6dGhx5Rvf5p7fRqaW+YHPnXCPbzu72Fc2kdZ2uvq91y3DX/PbN7rn5+Ag0lwHmHsAAABgLrATtp99jocHvvztxbkvO39pXJb40TPOWDz4xa+7ka6KqYbwQye+u3jKU37qtLI96Uk/vHjFJZcuvvzV77jXHSRTymwbprOe/dy1K9vcbYHjoT/3P/jI4tLXXr548o/9eLe2wvGwvmzr3AMAAAAHy6rthBtuvmNx1nN+epmmqLFhtVc5+4Uv2svnQe+DN5HTnni46l1HFq989ev2OOfFL11W8JnPOmvf8ddcdsWojvHI1763dG70cFz0cjyos1m5XnHJL+9tpFTmdetUU8qsQaZrX3beBe75g8RrC2FtMbW/4Hjoy2ceeHjfOFFbhZPx2EUDx8P6sq1zDwAAABwsPeyEmj2mhVFa2nNccOHFSxtWTojSXsPsP7EON+A3keKrFr03bOvoeIg3SmGnXLeN6rZuoOdui22tt4Pida+/0q1POST++jkvwfGwhTCGAAAAYF2p2WOaDScHR4utajfcdENe+xUcD+PA8eBsdoXFvW536LbV+J+7Lba13g4CG8PyFN/+yfvcMGNpbSccD6uDMQQAAADrSmmPaXuNMXtQ3XCT3fux2+7G8TCBbo6Hmndl7C5pTNx4+rjI5b/+pr1HucWFL39VckM61hCu2ex65+Ky6lHz664/unc+dTdYpDp9Tf2JuMwtaXn1Zce0idI7+/a4vPDqXCicvYITM3YzmmsL2+h5ZVxVX4EnCJ9Cqd18T20npRle/4xnnrkcczknQO2YStEjzXhuSBGOQ8VhaV7xG7+1LxxzT/+5BwAAAA6WqXZCzR7TS6MGe9pB16VsKaiji+NBxrnCyPCzd2XMcA6/k3DTLXfunQvDvvmt79jrPOG74+F7N/o73pSO7UDGmM2udeyzX3jO4toP3Lz8JoblzzYilq+cQyO8e19bf+H1lq+WtOJrw2NKV/9qc5Wrc6sz5VXt9oEbju1NBKqTX3rNr44aiKm2yN1dX2Vfgf3Y+FC7lDbWU9spdHRY/wwXHxE7AVrGlMeYNGvmhhRWbqVjceh7M6HjgblnnrkHAAAADpapdkLNHtPsqJJNFmL2oDkacDxMY7Ljwc7HRqIayhrY20SkGkwbmvhum12jjhRuPkt5K5Ha7NodxziPll78yH/cCVP5FXGnb62/uMxj0vLii4+n4vXu9qbqsYVwU6GJwrAJ5D1Hrj/tmlX2FdhP2D9FfOc9ZGo72TFvnFr6YX9MhQ/zXOoHY9MszQ3huRC7Xnh5q40/Va+CuQcAAADWkR52gh1P2VyyTXSNbt7oV9ksbqEbGHd9+rOnXRPnq9auA5/JjofYwAyxO52hUVjqFCk8o7OUtxLWeRRHjDZScQe0Dhsb2d45y2+YN6+zttafV+batLxr7Vi8oRFxnafabmybhuTaQnjtkWKOvgI+5qSbs51yY8SLo3VMeYxJs3Zu8LByp/LVEr/lrzQf5Mq4S3MPAAAAHCxT7QSRswnsnK4RspvsqQh7giJlY4S2kGfjQD2THA8lo887X7rGULi77/384sM3fWKJeabCDpbLWw3WedT5wjvsijN3h1aeMstXKn85w90G0Jj688pck1bq2lwdxpuKVH5L5ajB2iLeeCluexw8V09z9xXIE34noGc7lfpW7QbVKJ2vCZNKs3Zu8Mj1z9b4mXsAAABgk5hqJ4icTWDnZEt5T1HbzRgv/dB+w/EwjUmOh1Llh41sd+NKhqLO20bTI2z8XN5q8Da7St/rfBY2zIuHtxmxssd3GMfUn1fmmrRS1+bq0BvU8aZLePXYSi4OK1+cro6vqq9AmbCd4v45tp1KYyTuj2PGVMzYNK08KcJyxuT6Z2v8XhmZewAAAGBd6WEnmE3i2TYl+8/SspsmKfuiZD9BnpU4HsLzuU4hzGiNnzjwjM5c3mpIdSq7i9eSb49wUHhpjam/VJlLaaWuzdWhN6itbjRw4w+8hW3TSirPhpeXVfYVqMPqObzbPaWdSuMujmPMmGoNE6c5Zm6IyfXPMfGH44W5BwAAANaZHnZCyV7ybowYZmOY/Wpp69sP9lS80Ie/zRbRqxqvuewKd98CPl1etUh5j7zHcHOdImcMx8a+yOWthpSRLLzOqWOpsnqE5beP0nkDpKX+UmUupSW8a3N1GA/qsO008HRO5D4sWEuuLYS1h+Vl1X0F6rB6jj3GU9opt1DEcYwZUx4taYrWuSGm1D+Ze+abewAAAOBgmWoniNBW8BwP3jWGpWX2q4UtkUoLfCZ/XNIaJjbk1fjxZtGOpwze1CbFrlFcpU1KC7nNrsXtGd5eeOXx3Yc/eFodWFl/4cK/5Za5tf5SZa5Jy7s2V4fxALX6eslLf/608k8l1xa2sQnLtOq+Ak+g9vC+/uvVfY92sn4YPkURHo/jaB1THq1pWr5r54aYUv9sjd/ql7kHAAAA1p2pdoII7ZHYDhG2n4htUrMxUteFpOxaqGOy48EaWWHUYPaFUDWsjnmGsnWWJ34f/5y9xrNzupNlv1VvcYmem0nrPCljPu68qbLa4765sqbOt9ZfzSBMpdVjUOuOZtgeQvl+3vNfsO+3clsJB73Kb4R3N+M8rrKvwBPYxK36tDFsj57pWGqzPradrG/oePwbztY/wjjGzEkxvdLMzQ0hpf7J3DPf3AMAAAAHSw87ITzu7TGF3Vgxuye0X710YnA8TGOy40HIgI03E2pw76uhFt6+xC5CQzWOSx1D74bbI7yrcjwI67zhRsryZ5uQMI/3Hv+jfdeL+x98ZG8Dk8pnS/3lylxKa+qgVj5toxK+85TbdNYSbvRilJb3OPUq+wrs54HPnVh+MLKmz/ZoJ8URzhlyYsghaOHDOCx87ZhKMTbN2rkhpKZ/tsbP3AMAAACbwFQ7wYhtN2+PJxsntHtk39W+tonjYRpFxwOAYROAZ+DbxoCBCAC9Ye4BAAAA2GxwPEA1Oc8jHkAAmAvmHgAAAIDNBscDVGMGvh7vvvDlr1q+r//hmz6x+Pv/8J17j3/Hj58DAEyFuQcAAABgs9kax4MZpjJAa/DunEEZvcutd6fCd6O0GdB715/81PFlGNoCAHpTM/cAAAAAwHrCEw8AAAAAAAAAMBt7jocjx06cvO3eby7uPP4tAAAAAAAAAIAufOSubyzed/TRdx+65tjJPz5864nfO3zs5FUAAAAAAAAAAD245tjJL73v6KMfWb5qceSWkz97CCGEEEIIIYQQQqiTrjl28qN733jA8YAQQgghhBBCCKGewvGAEEIIIYQQQgih2YTjASGEEEIIIYQQQrMJxwNCCCGEEEIIIYRmE44HhBBCCCGEEEIIzSYcDwghhBBCCCGEEJpNOB4QQuuqcwYWA1ct/0IIIYQQQghtpHA8IITWUT808PsD3x/4CR2o1GUDcla8avnXE/rJU/+ukzYpr2MUl6PVkYTjCSGEENotXTrwvQGt/7IBzxrAHtgS1ToeDg9YB2jZBByUnjXwqQHl2fjKwFsGzhjYdNmmLCxfilW02Y8MPDYQp/2DgRsGtqHOUVreeDs+MGW8pTblJXnX2bEvDKxTX9ykvLbKKweOB4QQQgilZOu+9g8fGpBtefbAOtsD5w18fkD5s7yX9j7aN903oPCykzZhb91FNY6HeFPZuhFYpbQhv3rA8nr/gDrujQPmPVOHUCfedL1hQGUzbOP3UHBMvH9g7g2M9RGbKIzQY7kzg2rHVBpvYxYJ60+auFvlbea1KOjYHcu/HtfYJyp6qjavmyivHDgeEEIIIZSSbnR7+7RV2wM1NmJ4E1h5PjogG1hOiJJtafaf2Kk9Uo3jwRpblal/19kgDu+y6dGcUOogvzGwrY18kEa6bRTju7ThoGTzsH2y8SZnVzzeJD0JcdHj/12ZvM28p3V1PGyzcDwghBBCyFPOLltHx4PZcNoXt9zgffqAbs7phrH2TjgeIsn7pEr5KwPrXEHWkKX82Wsj22bMrqPjQbJ8bfodXLRf4VMu6/QEEY6H9RWOB4QQQgh52iTHg9nAY2xIe6rjZwZwPJw6brKKtU1jylDObea9xnnqQPxOuDF2I2N5K3VK67zeu8cqV5w3PT7u3c2V4vd6dOc3vsMbx23v9IibB3q9BlE7KMe8i1RSzvGQapdcfuN+1tq/0PyyNqp1KIXjQH3QXsV450ComjElaVHQax4Wj77honDeHBX3NetPMV4f6jFepuTVFNaZxXHBgCms3ylzWKp8cfylecwrR3gsjuPTA3EeU3Uh1fYTT2PqSh/KDNtQ5MqtuMM2C/t5bVwpqT/pVbvweuXbK/+Y9pUTP2wbCx+nqzpPPQ5bW7erqC+EEELrLbOHYszGtLWixh7I2Wk160mNjZjLT052k1zX7eT+peR4iA1jq7B4s2ENUHPH2ypaHUMfn/uFATNyZJj8zsCYBrCOYnlNyWtoy6N9l0BGvf5v+fI6haWnPF88IIPMOn6YB4tb7/7oX4vbwnp1NkY1g0CDTWFU9/Yukg0+GZFjO37K8WAeQ6XX8r5W3O8sbE3/QqtR7XgzWTvZK1saN/oWRLjBqB1T1q90PB6rhjcGra+dO2B9PxwL8ccwe4yXqXmVbDwoTdWL5kxt6MIwYf3WzmEt5bP4a+cxrxx27PhATR69OKTafpJSa13ZuqdzVk+lciuM/o37eUtcnrz+pPj1d5zvKe2r82H4OwcsXYUxh0I8t7fW7dz1hRBCaP2Vssv0CxeSrRWxPdCyztWuJzU2YqsNLNn6besgjofI8RBXkOQdk+x4bIRIceN4d/lSG9da5dKPFTo+LKx1aJEycj0DOt7s5pwacRwtea5RalCa7Hxcx8qHV8YWhXWqwWnYoLWJI1Quv3EfaelfaH6N6bupcWCy8y1jKu7L8npbGmF/8PqalSE14afSaB0vU/NayqfJrguvNeXmsNrypeJP9YW4HNLYPHrHavpJSq350HwU3z0plduLW2qJy1NY/jiOXxmwYxZuavuGhlqcP5una+KRWtI1Ta0vhBBCmyGb27113NYKb/2oXeda1pNcXiTFr2t08+PaAVvHhBzo3pOTcRla7JatUc7xYAZHbOB5xobkHY8rNdWQpQYuKdVxPIWbZAtrnSEuq2T1EHZs63BeWvG5XNxWZz02zd6gDGWD0EvLK2OLrE4Vv4e8ji2PUXv1UtO/0GrUMt5M1t6pPtYypnJ92es7Xl+rWVRSabSMl6l5ra1ru65lDmspXy7+2jpvzaMXR9wXQuXOhWrNR0q5ctdcH8qLy1NtGXu1b67/WTzhNWPbeK76QgghtBnK2WW2VsT2QGodmLqW5/Ji53SN0PoYP0ERX2fXhPnB8RA5HlILe6oxa4yZVEPmGrhGdn2NQeY1tNehTXH4MC15us6PMM+X1Vsubqtj71yrcumU6ndq/VsdxX1C8dpjUHHcNfUS9r2a/oVWo5bxZqrpnzVjqtRXvb7jpZ2Lp5RG6bypV17tmOonfh3ElKvf1BzWUr5c/N48litHTR6lOLzlq3buTak1Hyalr19qyaWXiztUTVyxcnkL1bt9U84Om5M9x8PYNk5pTH0hhBDaHOXWrnitGLPOmWrWk9L1Oqd10Xui2xwi4bpm+Q/TqF3Tt0opx0NYqebFMew3+mNDJLzGjnveKM/YtsqPN661srTjeD2ZsRQ2dIuxZH8rfA7LRy5uz2Afq5YyxPLarkW59ku1TU29hOFr+xeaXy3jzVTTP3U+h9Iq9eXazbyVwYun13jplVcp/nhS/DGklvE/pnw14zU854VvyaMUh7cwOpaj1Cdb86H6MAeqR037mVriilVqN1Pv9j1Ix8OU+kIIIbQ5srXJW7vitWLMOteynuTy4sUdyvJqa6PlNd4j1a7pW6WU48EMirhRYmJjITRAUxVtcavB4o9LTjEiPOPXU9whpBZjKdcZPeXirs1zjVrKEKu1TLFSbW2q3ZiYLHzcH2r6F1qNrC1qnzbJtXdL/yuF9fqOl3Yunl7jpVdeQ4W/BhH2/ZbxP6Z8NeM1POeFb8mjFIevrfeSWvNhDs743dAx7dcSV6xSu5l6t+9BOh6m1BdCCKHNUW6Nj9eKMetcy3pSsjcsLm8NitdGy7u+/ZC6ka+b/O8fCPO1lUo5HkqLulVqyqmg4/bxtNCgCBvSvsQt9A2A2p9CS8kaNtVJJEs/LlvO+PHKmjLEPOXitnpOGV0tyqVj5U7lOdWetbIJIHW9DdAwb5Zfb+Oa6n9hOl7/QquT9ZnceAuV659Sy5jKTfhe3/HSzi0qPcdLj7zG8vKeuy7O75jy5eL35jEvfEseJS98Sz9JqSUfOeOmtf1a44pVajdT7/ZN1bnFU+t4aE13an0hhBDaHHm2jSleK1rXudb1JJcXybN7TJZXWxstbIlUWlslz/FQqmwp1eDh8X966t/wvDW8fprLDI9esrTVeGrsOH6dt01AaPhI1klE2InCa8LjFj6OR9I13tfFvc6Z67ityqUjWVpxnlNlbJG1q1cfNvjjvmDH436W+tq/yYxgPXYex4lWq3A8eV/w1d15cyiW+mfLmLK+HDutwsm9tBlUnN4cZuo1XqbmVWNL82VYv5b3cOzYdeG1Uiq/reXLtZ/FVQrfmsdcHDX9JKWWfKSMFYW19abU10ytcXkK+1Pcbt4Y6dG+Cu+Nk5zjIY5rTLo96gshhNBmyOb2eM6XvLWiZZ1rXU/seMpGTO1hLJ2a/UkqT1stz/HgGROePGNTsuNeZ5C0sVT8FkaogY4PpD6cVis1oj2GLOz7FOHTFV6erEMrD/q39Bv1YUdV3i2d1kegU3U4Rrl0pFSerS28eqlVONAUpxHWu5cvmxjsOqs/awfPqLRyiil5RtMV9ilhj5HZ42M6ZvPI2P7pjSnrbzoej1XrczWbQRt/Fofyb5N/r/EyNa/h9XEewvLYdcdP/Tt2DkuVL9d+3jzmhW/NoxdHSz9JqTUfVj49maePWr5hwOpJ1PQ1U0tcnsLyW76tH4XGS8/2HeN4qK3buesLIYTQZsjWrVrHQ+s617qeWHhbx0IbUQr3MEo7tH1Ta1oos+923vFgFVla0M3oiBtWdznNUI4rPuwk4bsu3kZlrJRG/CE2Sy/1OkfYoVWu0HkRvwtkUjrqtGE66nwK/7QBU86wsk5d00FLKhlwkuU5HGgaUN5XWVsUbo5icvWu/IQferFXbqwsXh8M0+pRb2iaSuPNxk5L/yyNKUlh7UvEQn1HGyOv76TSjuOI5zLLz9TxMjWvmlPD65WHNw2ECq9rncNqypeqQ8mbx7zwYXnPHSjlMZWm5bumn3hqrau4niwtezqrpq+ZWuJKSXFo3gzbzZtne7XvGMdDbd2uor4QQgitvzTftzgepJZ1rnU9UficjSgpnTBt28fUCMdD8I2HuWQdx3Mu5Drc3CoZP2h9ZP3EM4QR2lUxh9WLuppP1C1CCCGEXB2U48EzSg7S84OxtDmyu2ye5xGhXRVzWL2oq/lE3SKEEELI1aodD+Zc0N1q/Q693rE5f+DNA/bY7EE8OomxtDmqfRUIoV0Sc1i9qKv5RN0ihBBCyNWqHQ+Sva8cvhMjR4TeUX3ugJT7ZoDHVCNnHYylVZc5pXXJh6eDfCoGoXUWG756UVfzibpFCCGEkKuDcDwghBBCCCGEEEJoR7TneDhy7MTnjhw98UY5HwAAAAAAAAAAunDs3979vltO/KaeePjzG+78xuKmux8DAAAAAAAAAOjC797x9cXhW0/ctXzV4sGH/2zx6GN/AQAAAAAAAADQhdvv++Zi7xsPOB4AAAAAAAAAoCc4HgAAAAAAAABgNnA8AAAAAAAAAMBs4HgAAAAAAAAAgNnA8QAAAAAAAAAAs4HjAQAAAAAAAABmA8cDAMBEHjrx3cVTnvJTi7Oe/dzFl7/6HTcMAAAAAMCustGOh6Mfv2dx6NChxZVvfJt7HnyoN9gGHvjcCfd4b2rSufq91y3H1DW/faN7fk4OMm2AXrAubR+rmqMBYHt4z5HrF0/+sR9frgc/esYZi7s+/VnWhy1in+PhgS9/e3Huy85fNm4JdYYHv/h1N9JV0bsjvu71V65N2cZy972fX5zz4pfua6vnPf8Fize/9R17d2K3YQB75XzGM8/cV84cukN99gtftLxOd6l7tfeUfD3yte/tjb913kTaOCn1H+tnLzvvAvf8FGyzPfcTBjXpfOaBh5eL5BzlrAHHA2wDY9elTZk3W5hrfVolq5qjAWB7sHXgSU/64cUrX/26pT19+yfvW+t9yw0337E46zk/vcyf5f0Vl1yanfe2YY4fy2lPPFz1riPLxjZsE3Xms87ad/w1l10xajExI6HH5r5nR7RHpa3jzG3A9KwH4/Jff9Ne/s9+4TnLdnrFJb+85zm0elrnAVxC9VYqpwa9JirvesOMItGjDabm66Zb7twLJ9bZgLb+UzIozUExR1k00SvuuTf7NemonAfprMTxACnmWGfmYsy6tEnzZgul9WkV7To1jVXN0T3YpHECsM3InvJs5VXvW2rmBAujfCnPF1x48dLulxOiNJf03oNsEsVXLXo3ds8JvmfeLC51Gv0792LZe6GzTiwH0V2f/uxp53Un/rrrjy7/v+oB3BMrpza9cTlVp29/x3uX53P1aneo5VSTs6lHG0zJlzks1HaXvvby5f/X2YA2J13OkWJhevVvSGN9D8cDxPReZ+akdV3atHmzlpr1aRXtukl9Zyq7VFaAdSU3Dle9b6mZE8z20n6x5Ub8HHuQTQLHwynsruV9Dz6yko7Qsx5qNoIhm+p4sMFaqrPSqwDmUf3YbXd3aesp+bK2s8eyNmUTaflM1bH1sU2427Xp4HiAFJu0oWpZlzZ13qyhZn1aRbtuUt+Zyi6VFWBdyY3DVe9bSnPClJtrvfcgm0Y3x0PNOy628YqJK10fJNLdDG3mLMyFL3/VaR6lXh3ROpBtknJGjKWpc9pw2js6wsqrDqtXViz/uiMTOgRq66EWy2/tJi+st/sffGTvdRqRq2eVWeHDMnvhRRxvSK2DJKa02TUsv96rAOYkUBxTJo6Qqfn65//yy3v/3xQD2uox9bqF9fG4HK1jW9drbrHwV/zGb+07H9d5bfwiHqdCr8jYk0EilY6omfNEWJba8eOh/IZl07dDlNdcn4nzqLkoLF+Jmjoy5qyPsA8Ilf2DN962dz7XTl79hHkYO4+H1JY9R01btdRdzToTxhfWsY0zoyZvOVrKVppHjTHzZmsd5+okxOray3vLOlOzPrXYD3F5a/tlj77jtWd4zRzjLtUvw/yJcP5Yp3ECsKvYHB5j+xpvPjHicZeb52psxJY5oXa9MubYg2waXRwPakSFUWPbOy7homEVqvcx7VwYNvzwnjWKrg3fl9Hf8SZnbMPHxEaL5cHbyFuaypv+VfnC8r7kpT+/9JJZGNt8q7y2eNbUQws2SCz/JawM+uik8qBFuKaercyl8DaYVDaV6QM3HNszMLRp+aXX/OqoQVZbztRglkETejB7Dfqp+QqpNaAPGqvLsF8bqXKOGdsKo3/Vb/S9jJxR2xK/5V/nrD8rfv0d5ttLR9TOeWEctePHw8tvaLSLuM9Yv1TdXfuBm5fGvKVZ079q60jMWR82JhSPyqH5RPNq2CapdhLemIrzMGYeN1rKnqK2rVrqrmadsfh0XP/G40xM7UetZRuzntfMm635yNVJjF3jjWU7V7oxULs+1doPU/plj77jtacds/47ZdzVtmdp/liXcQKwy6TGoX7hQue9+US0zHO1NmLNnGDjvWVs187x285kx4OdjxdcVbA1THhtXPF23NAiEXuq7Jp48SnlrQYvP7k8WppxumGHjvNpC19LPdSSqpscqTKU6rk2vGcE2gDzDLMaWsppaaXKYWXoMeh75CukxoBeF7x+LayeY0N7zNj24g/Ph+fGxK88xuHfffiDe8e8dOxY7ZyXKktL30mlKU+/xR32mbB8dky09Pkwjpo6mqM+7FgpvxZnGJ/hjalUHlrn8daye1gcNW3VUnfh8VT9peKLz4/tR2PKVqovD6+NQ8bkoyUvqfoXtQZqXP5cHde265R+2avvhOdS14wdd6X2LJXB6FXWseMEAPLjMDef1M5zLTZiaU5Q/LpGTkb7xpAh5+Ndzrf24jLs6vww2fGQW1RtMQk7RakxU+SMx1TearA8xguGt9gJSzMOn+q8wktjbD3E5NJNkSqDyNVzTfhUuaaWt6WcNpjDsHZ92Bd7DPqp+Yrx6n9d8ca3sAm5tj/m+lwcd3y+Zux78dfm0Uundc5rHW8euTRby1db9pZwc9VH7fjK9Ydc/4rzkEvPm8dby+7R0latfcnKk5rjLL5UHlvy5jGmbGPW89I4GpOPUrvFWB7C/NeuMa3rU6ldVaZUfdT2y6l9x2tPO9Zj3NW0Zy7ekKllbelfAOCTG4fefNJjnhOta6ed0zVC4zt+giK+zq6pneO3mUmOh9Jk7Z0vXWMonH6J4cM3fWKJ99XqXN5qSRksqU6bSzO1wHgLZ209lLB4Wha2XBk846klfKpcU8vbUk5vMFsZwnbuMein5ism1R/XEa/sVsbcZK/rpo7t3PlS/C3tHqdjZU5d651vGT8epTTjPmPh1S7yxls9pOrDo7aOVlEfFl7liR8nj8Pk4qztX7Xz+Jiyp8LUtlVr3ZXykIuvNW9Tr8/lpYTXxsaq8uHZDBaX5ygKsXBh/nNjMNeupTYvnTdK4Ur15J3PXdM67lrbU+FT88eUsrbmBwB8cuMwHoOlMZs7r3MlG7R0vY15exUkxBwi3txXO8dvM5McD6VKCxvHFpNcY9p5e2fHI2y0XN5qCPNn3ipD7+9psQvzLnJpHqTjIa6bHLky5Az/2vCeEWh9pcb76NFSTqtvq9tU2j0G/ZR8eWFyBvQ6Erd/rq+ornqNbe98bfwt7R6nM2bOax0/MaU04z5j4XUsR66P1dbRquoj/nhU/DGomjhr+1ftPD6m7DGtbdVad5aHVB5z8U3tRz3LVsJrY2NV+fDa2wzQVB0Jy1/L+pRr19x1oqZfiil9J3U+d03ruFM8OcI6L80fBzlOAOBxcuMwHoNj5jkdq7VBc3nx4g6xvMZz1hx7kE1kJY6H8HyuMYUt1PF7OK3GYw22oCmOHGH8uTQPwvEgrG7C+HPkyuAZr63hrbyqC91hCD8uOWXx9dLysPxafdjfeu8q5VyS4+k1l12xr8/VMjZfHhbXphgp1tY2oabGgOg5tr3ztfG3TPZxOmPmvFxZavpOaa6Iy9djbqmto1XXR/hLDuEiXhNnbf+qncfHlH1MmJDWuivFn4tvaj/qWbYSXhsbB5EPXWv9IzY2Yyy9lvUpV6Ye/VKUwpXqyTufu6Z23LW2Z0hq/phS1in5AYAnyI2leAyOmedabNDSuLa4vDUnnrMs73PtQTaNLq9apDYa8aYkvMZrzFxHajUea8gZK8LLfy7N2oVTlDp1CxZ/bVy5MoSGkx1rCR+WS4NK54S+Ljv1Z6UsH7lyWvoKZ+1qeSwxti3G5suj1CfXDSuX+r39JrFnaPce2/H5lvjDPHvzVkicTuna1jkjHj8pcoucV3+puaiW2jo6iPqwNMO2tjg9p15r/6qdx8eU3aOlrVrrzqurkFx8Ymo/6lW2El4bh6wqHzYPqc3tw6+leCzvJcI2zLVrr345te9453PX1I67XNgavHId9DgBgPw4jMdg6zzXaoOW5gRvvTUsrzZnjZnjt5nJH5e0Co0XMTWaJuP42lxnSXUMu0Zx1RqPJUqdKgwT5jWXZsvCmauHMVhdqx3ucr6mKk+/bfxzZfAGU0t4a0P9LFbOqBlD2A9Ul3H8Oh/WQyn93ETUQs98WX2mDOh1xPIsj636uddPeo/t+Hxr/JbnuL0UvvSrFnZt7ZzXOt48wvx6x4VXf15/i8uYoraO5qwPtavmknBOU7xq07CtbY6N27/0qx9eHpTn2nm8teweLW3V2pesrlLrTC6+8PzYftSrbCWs7Kl5c1X5ENZ/9Gj/lPU9tz6V2rVHvyylUaon73zumpZxV9uetfNHr7KOHScA4I9NwxuDLfNcq41YmhNSNoelk7ouJDfHbzOTHQ9ho6mi7VsJahCvQwjrLE/8Hv05e5Vu5+w3l/VbyBaXqDUeS3iLmYflx9LIpdmycIpcPbQStoOwR3rsUR4ds/RzZYjLK1rDy9gP20yoXp73/BckP+5UiwaqPSoprL+FT1cIlbWUTs9BPzZfajf1cYV9vA88Hkf4SNZdjiNpnbD+rXznJtueY9s73xJ/OF5s/Flbhf3BS6d1zmsdPx7WVxXW8mvvLFu+U+UL8+g9Zpyito7mrI+w3HG88fVmaCgPYVk17+jf2v7VMo+3lt2jpa3G9CU77q0zufjE1H7Uq2wxirdl3pwrHx52fRxvK6X1KdeuqfK29Esxpe9453PX9Bh3cXu2zB8HOU4A4Ilx5M153hhsnedsjNfYiGF4b04Qoc2htGUfpeYXj9Icv61MdjwINX7cgGoo72ufFt6+IirCzhHHpQbV+zh256plc5LDOkzc0WJs0bM89lo4Ra4exqD44o8oCQ0WPe1gcefKYAMtPNcSXnmwiUDparCKcEDG9dBKrpyaTMKJSH0wVae9B/2YfIWGUYpSHz1owjbP9WGF6zW2vfMt8Vt4fWjIwgsbKxYmlY84LZGa81rHWwqlGc4XWjw111j8XvmUx7A/Wp3ce/yP9oVNUVNHFm6u+tDTWmG5Fe9b3v6ufdcJy6uFU/0on1795PIwZh6vLXuK2rYa05cUd2qdycVn1OYtRY+yxYyZN+fIh0eYt7FxiNL6lGtXO9+jX47tO9753DVjx12pPVvmj4McJwC7jsaQbMlax4OwcVczz8VhbXzmbMTcHCuUTpi22R1hmBS99yCbQtHxANCCTQ6ecyE3qfRE6bz9He/NThYHwbrmCwAA+mDrnLeJBgAA2GVwPEBXcncGVu3dszsd67bBX9d8AQDANOKnJL0wAAAAuwiOB+iKORd0t0e/la1XDD580ycWf/8fvnPvEcT4cSYAAIBtoPY1TgAAgF1jaxwP4XuVNeTe1TtItqEcdkc/fO9Jjgi9G/7JTx1fhlnXcm5LPwIAgNVi68euvbMLAABQA088AAAAAAAAAMBs4HgAAAAAAAAAgNkIHQ9/ec2xkwsAAAAAAAAAgG7cdnJx+NYTf7B84uHILSd/9hBCCCGEEEIIIYRQJ11z7ORH9161wPGAEEIIIYQQQgihnsLxgBBCCCGEEEIIodmE4wEhhBBCCCGEEEKzCccDQgghhBBCCCGEZhOOB4QQQgghhBBCCM0mHA8IIYQQQgghhBCaTTgeEEIIoSf0IwOPDXxh4AwdQKfpJwfOH3ja8q/H9dSBn3v8vwghhBBC+7XpjodzBhYDVy3/Qgih/eoxR1w2oDhetfwLbaqePvC9gVJfODyQau+x/Ukb9W2R1aPq4QcDZw9IGidTnTWKI4wTIYTQ7mib1krkaJ/j4V0f+cJLh2O/PyCDosT3B35i4CA11gj8oYFNKufcMkN7F8qKpmnTxg6OB2TSPFfa1Nqm+o7lX6drTH+y/rMtT1CoHlWWJ5/6v+r07QN6SiRVb7Uq1T9CCKHt1KrXyvMGPj+gNIXWshsGcmnricj7Biyf7Jka5T3x8IaBDwV8akAV/FBwTLx/YEzHsI1Lj03JlE3F3OXcFNljxSq7mHtz1bP90cFoV+YIE46HzZfNc6UNrW2qU/3W60+l/irjRtdsy2ZadWRlUdmvHrDxP3W8sj4ghNBuqsdaWbOGWBilJWfD0QHZrHJClNYeswcF69QI1bxq0cNwD9XTsOiZt97l3BRZuTXo9O/cxjGG5fZp2+cIHA+bL+sHU9vQ60/MaX3FeEMIITRGNeuxrTHa77TcHLMn8nSzTTcyWPNHCMfDE+pdzk2R7l6pLf7KwCoGEkb69mnb5wg2QpsveyVg6rcDvP7EnNZXvG6BEEJojErrsT39OGa9NjviZwZwPIxUT8dDzbsyajQ7HxI3nj4uosc37QNW4uaB2DPVc8NTisvOa/Ohslre3jlgas234tKXwO19oVR4KUxTfGXggoEpih8/zm2wwjzLMAzzbO2sAa/H8C2fevQ2NPRr2x9tlmrH4brPEeq/YZwaYxcN5MZFXCb1eV1Tq3jMiPsHvDhq6k+aY37J1aNXPz3mi1C1Zfdk85z3CsXYcln4mv7qpbFO9SPNuXZJLfmbYhgihBDaTJXWytKaM3Y9rpE5xHUda9QE9XI8yGBRGBkT9q5MaCxZw5w7YOfCsG8ZsM5jjatrw/du9HdsOI7tQJ5Kcdl5eyVBm4MbB8zxMCbfCqd/ZeTnwpsBrLq8eOAXBvSoz9Ryx4a1lcG70xTnWXlRnq3Mdw7Iy2hh7L1/tbMZyzXtjzZPNeNw3ecIbfKs/9p4DBc4EW5AJVvkNBdoXGqTaPmIw3ry0tScor/jBa22/qQ55pdcPeY26JaHMfOFqaXsnmrmtdZyWfia/uqlsY71Y2np+l5rlzQmfxpbXlkRQghtp2rWytyaU7Mem91WY6OZzFYzuwzHwwT1cDzY+djgUENZA4fXxg0YS8ZefCfErokNkVLeWlRbzlSYMfmO4/LCl+prrLx4c2ml8hwarXE5zXD3ysiA3R7Vjp11niNSedSdWh0X3gY03sy2LEhhHHFZfmXAjrXWn4WPj3t1VKprk8Xp1WNugx5f0zpftJbdk8Uxh+NBKtWhd40di48fRP2MGU9xvKXwrfmzcy3GIUIIoc1Vy1qZWnPseGo91tqia3ST5doBi1voJtJZA7HifOF4mKAejoecgWBGVGh0lDpFSrVG4FiV4rLzsQFVUi7fniEch08Nrqmytonz4Bm3UirPufx5aYxtf7S+Ko2dTZgjcnn04rXFyxuTuXOhWsK11N8c80uuHnP1PnW+aC27p9ScJo0tVxi+1F+9a9apflJqaVfJCz82f15cCCGEtlcta6XkrRO59djO6RqhdTZ+yi++zq4J1ykcDxM01fFQMri886VrTAr3rIHzT2GeKc8I8vLWqlJctWlNzbcNpPCchdcg6fVaQsqwSxmDuTynNlCeoVzb/mhzlOsbpfb2ztf2kaljzVRKLx4rFl59Xl5zSz+Xj1i1C1cpb975OeaXmjhr6712vhhTdk9emU09ylXKh3fNOtWPSeF7rl1T8pdrM4QQQtun1rXSWydy64qd0/p6qQ5EMke5l364DuJ4mKCpjodS5YeNbEZUjTFi74R61BpBrSrFVTrfK98pgyv+OFfuQ14lhe1i3j5D75jLuI0N31yecTzstnJ9YxPmiFIe4w2ohQ/T9AjzEat24RpTf3PMLzVx1tZ77XwxpuyeUmWWepSr1F+9a9apfnqNp7iep+Qv12YIIYS2T61rpbdO5Nbj0ppoacVrbHwjtrS2oYxW5XgIz+c6hWQep/id01ojcKxKcZXO98p3yeAKv+o69hFaM2AVR44wD7k843jYbeX6xibMEaX04nh79OHahWtM/c0xv9TEWVvvvTfWpTrMlblHuUr58K5Zp/qZa+2akj8vbYQQQtur1rXSW9tL656td97aEq+xlra+/ZC6Qaubt+8fGLMX20n1etUi5T2yRgwN2FynyBkqrUZQq0px5c73zLc3kGLVGpQplYw6r91yea41lKWpeUfrp1zf2JQ5IrcYefGm+nytSvViGlN/c8wvFmc4lk2t9V47X4wpu6dc3nuUK9dfJe+adamfOdeuKfnLjUeEEELbp9a10rNnSuuxd43J0rI11sKWSKWFHPX4uKQ1TGw8qPHNePA6hWeMpIwgu0Zx1RpBrSrFlTvfM9/xoFDc+mm18EurpYGVU821Xhvl8lxrKEte3GizVRo7mzBHWB7jDWi48Hjxepsm5SX8VYqUwjTjegmvb62/OeYXG8txvZd+9cPLQ8t80Vp2T168ph7lsvpKzWneNetSP3OuXdKY/JXqEyGE0Papda301pzS+pFa820trFl3UusmqlAPx0NooKjB7JsBalgd8wxz6yz2e6x6jMUaz87p973tt/EtLjFmU1GjUlyl873yHQ8k6+A6FtftmHLnjPBQcT5yeW4xlKVc+6PNU2lsbMIcEY6z+Hei9VhdHG+qTC2vQYVxWJqWVrigtdbfXPOLbRSVh7Csx0/9W1vvLfPFmL4Tq2Qk9ChXrr9616xT/fQaT3HfksbkD6MOIYR2T61rpbfmSLn1WArXfK1J9upEKp1YrFET1MPxIMm4iI0VNbj31VBJ4e2L2SI0PuK41DH07qndgRqzqahRKa7S+V759gaS3rsO60t1+6aBMbIBF+bHkxm51ja5PLcYylKu/dHmqWYcbsIcEaepjZj6tMURjxnLR/hRRsvL0wZqpDj0Yb+wXrRIXjQQKi6zSNXfXPOL5dXCqX6UT69+cnkYM1+09B1PqTSlHuVSHKn+6l2zTvUTXz92PKWMwNb8pcqJEEJoe9W6VubWnNIeQ+tPuCbZul8jHA8TVON4QAghhDZZKQMFrZ+srWJHH0IIIYQ2WDgeEEIIbbvsDgVPV623dKdKr2ZwJwkhhBDaMuF4QAghtAvKvW6B1kO8ZoEQQghtqbbJ8WB3tOx9nRLb8sjtrpYbIYRaZJta5sD1lV6zwDmEEEIIbaF44gEhhBBCCCGEEEKzCccDQgghhBBCCCGEZtOe4+HIsZN/es2tJ78kBwQAAAAAAAAAQB9OfuvwLY/eLg/El+75w28vHnz4zwAAAAAAAAAAuvCxe/5kcfjoo29bvmqhA48+9hcAAAAAAAAAAF24/b5vLva+8YDjAQAAAAAAAAB6guMBAAAAAAAAAGYDxwMAAAAAAAAAzAaOBwAAAAAAAACYDRwPAAAAAAAAADAbOB4AAAAAAAAAYDZwPAAAAMAkHjrx3cVTnvJTi7Oe/dzFl7/6HTfMrvPA504sPnzTJxb3Hv+jvWP3P/jI4saPfXJfOAAAgG1kox0PRz9+z+LQoUOLK9/4Nvc8AICQwe8d97j6vdct55VrfvtG9/wUesQ9Z/5gPC19bJP4zAMPL578Yz9eXGdf9/ork/1y7Fq9TXVq9ah6eNKTfnhx+yfvWx7XeJ7qrFEcYZwAAJvItq6j8AT7HA8PfPnbi3Nfdv5yYSzxo2ecsXjwi193I10VY42ZR772vY0q55zcfe/nF+e8+KX7yvy8579g8ea3voO7VlDFuvch26jXGvdzbux7xD1n/mAcrX1sk5BDobSptU31y867wD0/Zq3etjpVPaosX/g3/36vTn/zzW9fPiWSqrdaSvUPALDurHrOv+HmOxZnPeenl2kKzcmvuOTSbNp6su/sF75oL5/bvD+ci9OeeLjqXUcWr3z16/awDcWZzzpr3/HXXHbFqI5hm/4eG/opTzzMXc5N4PJff9OyzOLsF56zLO8rLvnlvbsyVq892wy2i9o+NCel/qnFRXmpNcrn3Nj3iHuu/DHOx9PaxzYFe32iVC7bVKfWSm+t7j1u1x3VkZVFZbe5UzbH1PHG2AWATafHnF8zF1oYpSVnwwUXXry0XeWEKM2hZn8J5ttxFF+1mLK59+i5QPbMW+9yrjs2eGT03PXpz552Xnexr7v+6PL/GDXg0dKH5qR3/5xrYy96xD1X/hjnEGPr4tS+NsbxAG3MOW8BAGwCNeuKzZVycLTcWLYny3SjWg551q5x4Hg4xS45HuwuVu07oRiIENPah+akd//E8cA4h8epec2iBhwP88PrFgCw65TWFbNdx6w7th5+7La7cTxMoJvjoeZdGTWanQ+JG08fF9FjiPa4trjw5a86zTO1SseDnZexr7Ja3q74jd/aC9Oab8WlL1rb+0Kp8CJMUzzjmWcuPnjjbaeFqyH09nnnQ2rbDHaLlj5kzDE+avpnamxrgQrzozGlJzRSG/va/IvWuD3GxBHPw3oapeapk5Z6VLrrOge2tpFeuQvD6nWhuL5qwqX6mIjbxFsbxZg6EbVtXlN/IWagea9Q5Mrr9c84/NhxG9aRNtphHVmdxu2l+kg5TmrbJsWc/V205G+KQQ0AcNCU5vw57cES5tjVdcy10+jieNDCqzBaFO1dmXDRt4a56ZY7986FYcOP0Fnj6trwvRv9HRtAYzuQRykuO6/86F8ZnnqX3YzuMflWOP0rAzAX3gw51eW1H7h58YEbji0f9RlbbhucoWGYoqbNYPdo6UNirvFR0z+9sa3NibziYfzhgibCsrXkvzVujzFxWJtobtI8oc2X5bGUXks96rils05z4NQ2Uln0d2hM1Ibz+pioXRvDOGrrRNS2+Zg1xOrTcy6myitqHA9jx21cRypPWKcveenP77WXwti3m5RG7HxoaRuPOfu7GJM/9QevrAAA607NnJ+bO2vWlVbbVZgdYGs+jodpTHY82HnPsLMGDq+NG9COGzJaYo++XRMvqKW8tVBbzlSYMfmO4/LCl+qrlVSecvTOA2w2Y/rQXOMjPJ7qn97YtmPxvKU7jJZ2vHFrzX9t3B6tcVj4eJPYskDW1qNYxzlwTPqqrzj8uw9/cO9Ya7iaPqZrvbWxpU7C8KU2t+tr+kBIKv7wXKof6FzO8SBK+fKusWPx8dAJENeT5ceLp7ZtPObq72H41vyNMaoBANaBljk/NXfa8dS6ojlS18gBf+lrL9+LW8iBf5fzvbI4XzgepjHZ8ZBb6MwYCBfPUqdIUWvMjKUUl52PDYESuXx7Bl0cPjW4xjImvrFtBttJzz45dXyIUv/0xnZu3vLSSOGF7RF3axy2mHrtkTsXUluPmzYHttZXSG241j7mrY2t/b62zcfWn6XprYleeY1ce4fhx4zbVB3lyug9udHaNi3kyt/StmPy58UFALAJtMz5wpvvcuuKndM1QutF/LRafJ1dE863OB6mMcnxUDIcvPOlawyF01fxP3zTJ5aYZ8pbzL28tVKKqzatqfm2gRSes/AaJFNfcbD6bzFCa9sMdoMxfciYY3yU+mccXyl8zngv5X9K3EZrHBZe7SEvvuUtlccUpXQ3ZQ4spV9rNLQYF619zDvfUid2fW2bt9Sf4bWDUZPXUnuX6si7JpduyhETOx7GtE0Ohe/Z36fkL9dmAADrTOuc7813ufnRzmmdeM+R6/edE+bw9dIP53McD9OY5HgoVX7YyGYM1Cyq9m6jR+1i3koprtL5XvlOGQ7xR6ZyH6TKYfUf5ylHqc1gtxjbh+YaH6X+GcdXmrcsjTBPtfkfE3dMaxwWPsyPRy5N0VqPMXO2sSjNgb3ayKgNJ1r7mNV1uDa21MmYNm9dQ1LtIGryWmrvMf0tl26t42FM23jM1d+n5C/XZgAA60zrnO/Nd7l1pTS3W1rxWhE/XVaaoyHPShwP4flcpxDmcYrfnaw1ZsZSiqt0vle+S4ZD+FXXqY+Ceo8ueZTaDHaP1j405/go9c84vlJ4L0+1+R8Td0xrHL3GZ2s9xhz0HFibfq3R0GJcxOUZsza21MmUNq9dQ3LtUJPXUnuP6W+5dNX+PR0Ppbqdq79PyZ+XNgDAJtA653trVGn+tnnbmyPjtcLS1rcf9DqGoQ9MK5zWG72q8ZrLrkiuo3A6XV61SHmPvHcRc50it+C2LuatlOLKne+Zb28gxdQaRimsXWqvn5oebB8tfWju8VHqn158ucUnzlNr/lviTtEah8Kn5uFaxtSjcdBzYEv6dm2pvmrDibg8pWu9tbG1Tqa0eamtheXHcy7mztW2dykP3jW5OkrVR2xMjmmbmDn7+5T85eYNAIB1pnXO99bF0rriXWNYWrZWWNgSuXUUTmfyxyWtYeJFUI1vi6DXKbxFNbWY2zWKq3Yxb6UUV+58z3zHg0Jx6yfC7gq+tFoaWDVY26jdwrgN3RWz34LPtRnsLrV9aM7xIUr904vP4ok3TuFCY3lqzX9L3Cla47AyepsR5TP8BYYUY+rROOg5cEobxetWWFe14XJ9rHZtbKkTUdvmNfUXXmvEG3bvXHx96VdXwvxbHlr6W66OVKdeXF45WtsmZs7+Hh5ryV+pPgEA1pnWOd+bO0vzYGrtsjm9Zv5Mzf9Qx2THQ7jQqsHi35v2jCLrLPZ7rHqMxRrPztnvjet3yS0uUbuYt1KKq3S+V77jgWQdXMfiup1S7rDdhD1KZI8Q6ZhnqHltBrtJSx+aa3zEx73+6cUXjqv4d6GVf/0b5qkl/61xe7TGkZqHW1/Laq3HkLnauHYObEk/rC8rq9VraEzUhvPKk2oTy1PcJq39vrbNx64hdl3KuLINsNIO033e81+w/LemvVv7W66OWhwPrW3jMVd/F2PyV2ovAIB1pnXO9+bO8Li3rohw7dLcqjW9Zk00mGunMdnxILRIxouuGtz7aqiFty8/i3ARjeNSx9A7lHYnpXYxb6UUV+l8r3x7A0l3jsP6Ut2+5e3v2nfdGJTn+INjQoNUd6pDwybXZrC71PahOceHyPXPVHzxNdpAaNNi4cM8teS/Ne4UrXFYHsO2sHzee/yP9oVNEadZU49GSx3l4ho7B7akb+H1cUALL6zftoZLlSfOk0itja11Iiz+UpuPXUNSm3lh9WJxqn+qTrz+mauflv6Wq6MWx4NoaRuP+Pqe/V205i9VTgCATaB1zh9jDxqaR8O51davMEwKHA/TKDoeAAAAYPdIGXawflhbxQ42AACAdQHHAwAAAJyG3dnhCbf1Rnf49GoGd+AAAGCdwfEAAAAALrnXLWA94DULAADYBLbG8WB3Zux9nRLb8ujorpYbAADmxza1rB3ri16zwDkEAADrDk88AAAAAAAAAMBs7Dkejhw7cfK2e7+5uPP4twAAAAAAAAAAuvCRu76xeN/RR9996JpjJ//48K0nfu/wsZNXAQAAAAAAAAD04JpjJ7/0vqOPfmT5qsWRW07+7CGEEEIIIYQQQgihTrrm2MmP7n3jAccDQgghhBBCCCGEegrHA0IIIYQQQgghhGYTjgeEEEIIIYQQQgjNJhwPCCGEEEIIIYQQmk04HhBCCCGEEEIIITSbcDwghBBCCCGEEEJoNuF4QAih6fqRgccGvjBwhg4ghBBCCCGEHtemOx7OGVgMXLX8a7u1S2VFqEY/eerfuVWTzmUDGp+vWv61Wh1k2uugln4wZ11NjXvX23Fdtap5Bq1e2FXbJcbqdujSge8NaGx+f+CsAcbqlmif4+FdH/nCS4djvz+gxi2hzvATAwepnh3xWQOfGgjLeHzgLQNz38GsSXsbBp1Xzq8M1Nax7irfN6DrdGe5V/+bkq8fGrAxsysbhsMDKm+pL1qfvWP5V1/ZJm3uJwxq0nn6gBbJOcpZo13esLb2gznramrcu9yO66rW/oU2S2Ptqm1c9+eyr1Ylxup2yMbkDwY+NCDb/OyBdd4DnTfw+QHlz/J+w0CuH276eBst74mHNwyosQ3bkD0UHBPvHxgzuG3C7uG46NURrx6wDnP/gMp344B53Cz+nnk31aa9zoOuJNVbqZwaqJpccrKFRfRog6n5OnfAwold2TBYXywt8OagmKNeNNEr7rk3+zXpqJwH6Yjd5g1rac5t7Qdz1tXUuOfK2xzr1q5oVfPMtmjT+toYu2pb1/2SfTV3206Nf5PGKnNyWrKnPLt71XugmjayMMqX8nx0QHsIOSFKbVsab1urmlctejd2zwHXI2/W+HKs6HGeWLobftHj/+0+WbSkvepB11NWTm1U43KqTn9jQOdz9Wp3leUI07v0PdpgSr7MYaG2u/bU/7dx4+fJvmeQc8pYmF5jBaVl/Xgb+99cc+4cdTU17rny1rsOEUpp0/paq121ret+jX01d9vu0jzFnOwrVy/r6HiwNVvOrpYb8XPsZzZGu+54qNlAheqZ99a0N9XxYAOsVGelx/fNC/ozAz0G6pR8WdvZo1TbvPFLycqcai/rr9wpnF/b3P96G2hz1tXUuOfKW+86RCilTetrLXbVNq/7NfbV3G27S/MUc7KvXL2seg9UaqMpN9d672c2Sj0dD3rMqfSOi23iYuJK1wdi5FnWxtDC3DwQe5SmdkRbOGo2R7V5r1VL2lJY1qcO2CswIlc3WhQV3t4lSoWX4nhDah0ksaycpTay/HqP75uTQHFMGeyhpubrvzn1r7RNBkitrE1Sr1vYeInrpHVs63rNLRb+nQNSOB5C1cYvaWHRq2VhWL1uY08ZSal0pJo5TwrLUjsWPSm/Ydn0HRLlNdf/4jzqTl1YvpJq6kga066luqiZc1Pt01pXrf2mtR1CrbIdW+pQ6XpjTZqjfU1hmkL1ccFAqN7jWqoJl+pf0tzjv7bNa+rPU038LXnv1dek2rLn1FK+kh1gGrPut9Zzrl5MVtdevlttpBr7qqZtTXF5U+MiVI++47VleI3KGfZfy1M8D6h9UrZuTVtKYf5EOCbXbZysi2w8xdgeyWtfU1wPuT5Xs5a0tFHt3GGaYz+zUerleFAjKowa295xCQexVajejbNzYdjwI37WKLo2fF9Gf8ebnLENb7LOVVo4pJq8t6glbcnKenxAedBEVlM3yqf+LYW3AaCyqUy/MGCTtIyx3xkYMzBqy5kagFoUQq9jr4E6NV+hag2QbZK1i/pLvEin6mzM2FYY/as+qG9v5IyMlvgt/zpnY0Px6+8w36k5pnbOk1rHoicvv6ERJeL+Z31cdXfxgIwrS7Omr9bW0Zh2ramLmjnXa5/Wuprab0rtEGrV7dhShzpu6YRjba72lWzu1JhR2bTuyPk997iuDef1L2nu8V/b5jX156k2/pa89+hr0tR5S2otX6m+PNWs+635yNVLKAvv9R07V3NTy8aB9fnU2l1r/7aMi1A9+o7XlnbM+q/yEObpzgGbBxTGbrwpD7Fd02tMrtM4WSel6kW/cCF57Su19LnataSmjaz+W+q6drxttXo4Huy8ZwBYw4TXxhUfS4M29lTZNfFkUMpbTqk4cyrlvVZj0raypuozVTe14b1F1AaFt7jVqKWcllaqHFaGHgO1R75C1Rgg2ygrdzz+rM1iw2fM2Pbil+J+IY2JX3mMw//KgB3z0rFjtXNeqiwt/TCVpjz9FnfY/8LyhWoZP2EcuTrq0a6p8HY8lV+Lr6Z9UnU1Jv+1ccdqvd7CT2nH2joUYT2a5mrfUr5Mc47rdRz/Yd5CxW1u19f0gVC18UuteS/lKRWfqSVvKY0pn5eXktQvdW1qvI/JR21eUvUvtWyI4vLn6rm2bWvHRaxefSc8l7om3IDGdWjt6sXTa0z2KuuUcbKOytVLrn1r+1zLWlJqI8Wva+T0se+9GHIGed/ti8uw6e01Sj0cD7lJzgZ32ClKjZmSN8mX8pZTqrPlNDbvscakbWWNJxopVzc14VPlmlrelnLaAAzD2vVh/+kxUKfmK5ZX/7sgb3xLNiHX9u1c/43jNrWMfS/+2jx66bTOea1j11Muzdby1Za9NlxKuXatrYvSHNTaPrX1LaXqdUrcrdfn2qC2fWrrMDXWUvLy29K+LfOwp9b6ClUbrrV/9Rj/tW0+tv5q45da8z61r7XkLaUx5RtjQ3rlDzUmHy1j0NIP895iH1lbhWnmri+1rcqUqo+UrRBqat/x2tKOxf03N3Ysr+E1tW2ZizfU1LK29K1NUq5evPad2udMrXOZndM1QvUdP0ERX2fX1I63rdVUx0Np8HjnS9eYFE6/6nD+KbwvCOfyVpLlo2WA1ua9pDFp58rqLUAt4VPlmlrelnJ6A9DKELZ5j4E6NV+xSgbItsqrR6uvkoExdWznzpfib+lDcTpW5tS13vmWseiplGbc/yy82kXeeKuHVH14GjPOSvUutdZFqeyt7ZMbq6X8T4lbar3ewk9pR6mUbq5NQpXqR2ptXwuvMsaPbccqpV/bZ9d5/Nv1tW3eUn/S2Phr27NUP7n4WvPmqWf5SsqN91Xko9XJFcvChvnPjY1c25bavXReKoUp1ZF3PndNaoMeOx7GtqXCp8bklLK25meTlKuXuE5KdZg7r3Oltax0vbWBvQoSyhwiXl+sHW9bq/9/e2cXctta1fF9Y5AX5WVIF1IgwSksAvPiRJRCCcaJLJPMQwYpkpKgfWEXBRlhHncUpihHOBLny8TEDaeIzgnycAgjIuOku7IEb4wo6LaL1f6/r+N1vOOM52uuZ75rrrV+f/ix2Ws+85njGWM8H/N515xr342HltN8cKxz14Ip6bg9s5Phg1azrSWzI9ZZU8v2Xi25dq2ttQVdb/lsErX49uwYZhpppw325tvStWd01H3sylRbgJy6Yi7V8k5+n9W3s+O99Y/kULzOkjFvtC9Gta4Z88/K67MatXwd8dGsuGa+MH+W7BiNT9ZXZ+VNVrfXIeIojfowas34SvHFYPFFX7PiY+otJ43ml/l6af9fEvOW/7xG6x+N5z65tqTtUTPb11Ktv9+EHVmu1f4C7GX2jayvarGtnSdltkbtkztSdrx2Tu/Gw2gspZ4x7ZD9ZKuq+SX6ZEnO6bPeuaxmS1a3l9kac2iN+5mj001tPPjjtWBKNnDG53CyQb5mW4+szp7dYall+4hGr11ra7YAGC1vg606knZp/csl9xnAsmtlih3V/q9npfT1JUMv2DE79dWmP7hHaZFV01K7MlldxzjQ7yvLGxtQS5O5NLNvZ8d76x8Z7ON1lox5tbb05GFr3IntmzFOjfhoVlwzX7TaEusb9ZXUa/+Sur0OEUdp1IdRa8bXy/9qgl+gze7XW+7/+8S85D+v0fpH47lPru3TdtPM9rWU5b/ppuzwMbDcLMXey643sr6qtWlJv4hqlWn5KDteO0fjSrZWiRsPo7H0KvXJfdq6jz1bV61t0SdLcm5kLmv52erK+n/MIbN9rfuZo9KsRy1KNxrxpkSqBbOWSFli1GzrkdlXSqyoViKOaPTatbZmC4CR8r5d6gg6JvRG2H1/msfsqLXTrq9yFl+zscXSWCy1K1OWm+ci85HGAPtN4mzhM7tvx+Mj9Xubs3HLK16ndW425tXaEvtiSbVJLvNfaVHVq14fzYxr5guzo9RPs/pGfDVq/2gcom46jtISH5rWjm9UtHWNft1bTortaZ07o//vE/NWrKWR+kdtb12/Vp80I99nta+lLP+9bsIO6x/KN3tBbU8dZnsLH8dabJf0i6h9cyc7XjunFB+z1f+xaZ+8zNq1hX6yRdX8En0ymnOjc1krRtn4ZzJbLYeW9LeT1YyXS5pD44CioKlzxHNryVJKDDtHdfUucnplNsr+7C2k2rG0m+9Woo9q5Nq1tmYdYKS8+V0/LVSaFJbKx06dMNbv86Q2KZlqg8eIZtpl/iwtQE5d1n7t2Gqgz3Judt+Ox0frN5tj7FW+9VZ7O7d3zBvtu5m8vV72ucj8l+VubGNJPT6aGdfMF1ZPacytxafHV/vkjVdWd6bR82fEcYkPTWvGV3VrzvFzn9Vr11urX/eWq+XXWv2/N+Y9/svUW780artdf0muSSO2lTSrfS1Z+0v9/absUM7J3/pq/75r01J/k1qxHe0XUa36Wz7KjtfOMb/Fa2UbD72x7O2Ts9q6Tz/ZojJfmTKfjOTc6FzSipHlSazPrlM6z6vW305WMzYefNDkaHuzpwKSJYRkyWK/Ca2vn5jT7Zj9Bq5+m9bqEr2LnF55+4V9Fca+AqPP/ABUs31UI9eutdVs8sdGy2u33PtZKJ7P3qPnpVU1qXP536q3HPHfrhBxEZhpZkddapfiprxUWWF1+K9RZRtJpyobgOWD2mA7s29nx0fq931v9Hf8R8e80b6YyfJeZeNv6ZvdpfZ5G1tfxfbq9dGsuJZ8YZ9nY25W36ivRuwfrTvqEHGURn3otVZ8vS9iH/Lnj1y/N2d7y2XtKcXEbNq3//fGvNd/USM5NWq7ZJ8vybUR20qa1b4o1avcU12+vtK8v5YdUXZurHOJLKdK66tabEvtLfWLTPvkTna8ds7IxkNvLEf65KH7yRZl7cryL/PJaM6Zz3vmEqkWI8k2N+zamkNK8c7U6m8nqRkbD5KCHwOoQGVv+5RU3t4iKnxyxLoUUD2PY18j613kjEjXjC+DEUoyfePAJ27N9iXqvXatrdY5/LGR8rLBOq+uqw4mfCfyg/AS1dqpAcAPHsqbkk9nd9QldvnJpUQcwE5ZPn9q/UHlZvXt7PhI/ZLK60VDftyyfmcq2RGvJUpj3mjfLUnX9GOPJk8tmqz+rH2y0ee2+eRl9+hRj4+iL5bGteSL2G6fY7X49PpqxH5ppO5Mo+ebffvGcdSHphH/1OrK4qtv9Xm71IfefQ+vketLKt/KWamnXKk90SYxs/9b/a2Y9/gvU2/9S21fmmtSr201zWhf1JJ5fw07orxdS873aq2varGVrL09/SJTrf6Wj7LjtXNGNh6k3lj29sl92ir12nNMUpu0luzdeJDMDz05F8uav3rn+pjvkq7jr635PM41Jc2+nzkK9Ww8oNOXdehsc6E2EMyUrvPOe9Q6+CG0VbsQQgghdN6yNVp2E40QQpsSGw9Iqu2u3vSOnO0Wb+0Gf6t2IYQQQug8ZX+hZ22CENq82HhAkm0uaMdcvzesRwxee4/33MO+xhW/goQQQgghhA4ne86cNRpCaPM6pY0H/5xbD7Vnp0Z1yGvPkv1F3z+rpI0IPfP6intIW23nKfgfIYQQQqhXtvY5q2fEEULHK77xgBBCCCGEEEIIodV0tfFw+4m7n7/96N13afMBAAAAAAAAAGAKT/zrUx947O4v6xsP//PwZ/9j98hTXwEAAAAAAAAAmMIff/rLu4cev3vn4lGL577wX7svfeV/AQAAAAAAAACm8Mlnvrq7escDGw8AAAAAAAAAMBM2HgAAAAAAAABgNdh4AAAAAAAAAIDVYOMBAAAAAAAAAFaDjQcAAAAAAAAAWA02HgAAAAAAAABgNdh4AAAAAAAAAIDVYOOhk899/u61/z/6p3+xu3Xr1u4d7/qNa5/HcodgCzZsFXxzGtx0HH/39z900d8/+EcfT4/DaVOK/yHGk7VysTSnHROKxz988WvpMQAA2D7vv/3R3bd860su5qNvfvGLd3f+8m9PYn6CS7o2Ht7yi++4SoDn/v7LaZlD81ef+8JFot733a8oLjz+8e5/7l760m+vlsmwhZ4/L+sEWbmbZgs21LAYyEbPi170TbvXv+HNq9q8dd8cE+cWR7smGw/nSRb/Q40na+XisS/szP4tr1MAAKCMjeNaS/7Mz75ld/8PvXr3yc88s+n56eFPfHp33/d874V9ZntrHaw19Ctf9YMX5bWGOKc5q7nxEG8wtrrw3mfj4fl/++/dj7zmtcUFi5JKbX/Nj77u6rOsE2TlZrPE1i1hMbBBRbz+DT93tbv58u+6b3EHPHbfHBPnFkc2Hs6bLP6HGk+OaeOh1Zdn0rMGaHGT9gIAwHX0h26tK7XZ4D+/6Y2HnrnAysgu2fy6B37qYi2sTYjWHGLzuDi3+aa58WDBljP171Zv2tbceMg41O7bsS+MWjHYx6fH7ptj4tziyMbDebOl+LPxsB7MIQAAh6E2/m5x48HmYt0Xj2x22/2qvs2hdfS5zTfNjQftPskpzzz3/KYdxMbDcVCKgTCfLt3cYtF4c5xbHNl4OG/YeFjGsY3JzCEAAIehNv5ubePB1sBL5gr7VsefPPnUpu+r16K68WCOtRuI0oLH3gGRJUQWnL9+7vmLnR6dE8m+YtPD0o0Hsz3i7c0SvuczS1yr0xPt1Eux3vZL775og5V54CffeK3MUlsNfTW45zkkq0NxVqzsOSQRbRql54Z1y76BS041juqz3sbv+M6X7z700UerN3vxmnrMROfEchm1tpSuqet5H8rGj3z8yWtlrNxSX5hdNgb48fqVr7r/4mVPpfLevre/81euleu1ydensd2PQVZesfqt992+upb8Xpo7emM0Ev8181BsJRd7+m1GT18WvfW3cqw2JomWb2bbCwAAfdi8FrH7z1nz7U2sQ2vYvarOy+6Pz4HqxkNc4JjD4l8yLQC1mxA7xxytxHjPr//27sMPP3G1qNSC9k0PvnVRAJZuPDzy2GcvHiPRubLJntGRbVYmS7Dez7QwVn2GnoNXGW+D2a7P/TNCsdxSW4U6mj7359k1tQDzPrc6VE7/asFbsmmU2uLQ8s3bvjXfwCWnGEe/UWg57294RbzZswlKY9cffvgTF/3d2pXdGEZKbRHZDaZ9pvboeho/tSkw2xdml50X/REnSl9e/8ofGuv8xsM+Y5CO+/I//Oofu4qVytjGiOqOmw+9MRqN/1p5KLaSi739NqOnL4/U38qx2pjU45vZ9gIAQB+l8Ve/cKHjM+bbmetQm1N65lbD5nVbP9mcxcbD1w9EB5U+858rQKVFnwUnW0zXFgy9WELV6ihdp9QuI0v43s8iWbLKJ3F3ruTTfWzN2m32ZOXj57U491KKgf0FK7Zra76BS04xjqU61CZ9Lny/tfJxI3ZkMsnaYsSxsuUXY6YvsrIjY0Y83mtTqT6/cIh5Y/7K6umJUcnGVvyz6+3je7HUltm5ONJvM1o5O1K/2RdtNEpj0ohvZtoLAAD91MbfbH6yz3rn25HxuzUXqH6do43sN//82y6uZWiD+074VqiIbRiZn0+J4saDLfDiZJ0t7kqfR6eWAtkKcA/HsPFgx6NPS5hP/QJzia3WAX09Rua3mp2ZTSNYDFRHRLuTd5LOmnEo38AlpxjHWh2ZnTbxZDcbtWOerC1GvKb5pVXvDF/UxoDamFGqd9Sm0vVrPrB6/DkjMarZmMV/rTwUo7aMtLNELRcjmQ0Zrb5coubvkv9K8/uIb2baCwAA/dTG3zXn22z8rtlix3SO0BwSv0ERz7NzvD3xHtnKnjrFjYfSRFoKZs/isRTIWoB76UmyQ2489CSY7Hjq6b/bfeyRT11gu2i9nUFEG1rls+O1dlheZMd6MD+oo6qT2teZVGfcifRsxTdwyanFsVUmjodWXu3Xjre1p9aujJ6+5uuw8rqu/9qfMcMXomZXNpbVyi+xqVZf6UbS5oA43/TEqGVjLRYz81CM2jLSzliXpxXDVr/NGGlzq/6afSKb30d9M9NeAADopzb+zpxve8bv1vk6pnnFHgXx2IaIn6vMfn+NnvvCUyTdePBOtV0cw36rX8f8ws+fY59nu1HZAi5bMIyy9Y0Ha3d2TNe355QyejuDiDa0EjuL29J29FBaHGYd1Y5tyTdwyanFsVVHHLesvG9Dhm9XRk9fi3Xo6/a2qy78i5Fm5XTNruwao+U9mU21+no3HkZi1LIxi8UaeShGbRlpZ6zLk/lcNvf22wxrc80nvfXXckKYH/yYNOqbmfYCAEA/tfF3xnw7Mn7XbMnq9pitcS0S7z1bbThV0o0HW8DFoETiAsDflJYcbXUrYPqLnX+55D6Tdk8AS5sTtQQT2YKn9zPR2hSxm7X4l+JssTtqa2/n9MdL7RA+xvFYD628iHZuzTdwyanFsVUm2jkrN3r6Wmlc9L84Y3GYldM1u7JrjJb3ZDbV6uvdeBiJ0Wj8xRp5KEZtGWlnjcznI/02o2XbSP21nBDmfz8mjfpmpr0AANBPbfydMd/OXIdaXdmYH9ciZrve/VD6Q77+yP/gL7z9ml2nSrrx0JpESzfS/nN7CZZfJPhA2q87CD0T3vuTXyWs7tIOlLB2xYVLK8GyBU/vZy27ap1nSWeINrSun8Uya4dR8mEv2eLQiB15i76BS04xjrWJJLNT5WvjTQ/WFpugPNk1I9FXs3xRGwNGx4wlNtXqK/nd6vG+HInRaPzXykNxyFy09oz224yYn/7YaP21nBClMWnENzPtBQCAfmrj777z7ex1qJ2TzUdmq61FrGyL0rVOjRdsPLScLUoB95//+AM//YLjFnj9FFpr4bUEC262sLMkzJK0lcDZgmefzzylzmA26dysM4zYWvKL6rIFbq/Ntc7WQ2lxKOy6rYHikL6BS04xjlZH3ASwz4W3M7bTn6Pr/t5DH3nB5xEbl6Jvsl8vkB81dt5xL+40X/nzZ/jC2hbLlurIYuIZtalWn8pnuZFtPIzEaGn8vY0zfC+W2rJPLsb2jPbbDCubxWu0/lpOiNKYNOKbmfYCAEA/NpbGMVbsO9+Ojt+1uUCU1m52ndJ5npJNp84LNh6yxVuGBTwuAvzCKJvotaBW/VZGKEDf9/0/kL4sbRRLNmHvp/C/f15aGJjd3/jN9PuvEiFL+J7PfALGd2W86cG3XtVv19Y3P/QCLP3GuPdRtHnUVt+xvC12jdJCLcZWlOLei/mktAiMHX1rvoFLTjGO1iZ/XXuXgn1DK5uY4jXj4w/+Ghk2ZqkOf77GRH9Nb19s32xfmI/NhuiPWEdtzBCjNtXqG9l4GInRaPzXHE8OkYtZe0b7bUatL4/U38qx0pg06ptZ9gIAQD82VvduPIzOt6Pjd20uEH7tpmvboxP6rDRPeWzOOvuNB3NkawK1RV4MrJ47tgVTdLxPEgVQgRQ+WK0Njx7iy9eUFHoB253KT/zJNnuzqfDtyhK+5zO/eIzIJls469q+A+iYnkGyv3rGWIzaaufETqbOlL2RtVSHsI6YHeuhtDg0rH7Lg635Bi451TjG62qCUj+1a2Z26ppxvFHbnn72n66VLaE6/AuPdE09epZdU+Ort0/t+7XffN+1+sS+vvA+1lhvN2kiPh8Zy/vPPSM21eob2XgQIzFS2d74l2zc1/fGiC1Wfp9czNoT29LqtxmxHb4vj9RfywlRG5NGfDPLXgAA6Efj68jGg4hjsijNt6Pjd20uMHQdf21bv/kyJdh4cO94WAtLnGxzoZZwAABwc7Ru8gC2RmszFAAAAA7LQTYessXsue78AABsDTYe4NjofUwUAAAADsONbjzY5oK+3qJHH/SMzcce+dTuV9/7O1dfgeSrigAAh4WNBzgWnvyzpy8e2bQ1BDkLAACwTW5040HYM8r+mRhtROidD5/582cvytgGhR1vwULjMBAngNOEjQc4Fuz5XKHndbMyAAAAcHhufOMBAAAAAAAAAM4HNh4AAAAAAAAAYDW+sfHw+N3/++AT/7IDAAAAAAAAAJjM39x66PEvvfH9T/77t91CCCGEEEIIIYQQmqQPPP7Fn7j92D+/7Ov/RQghhBBCCCGEEEIIIYQQQgghhBBCCCGEEEIIIYQQQgghhBBCCCGEEEIIIYQQQgghhBBCCCGEEEIIIYQQQgghhBBCCCGEEEIIIYQQQgghhBBCCCGEEEIIIYQQQgghhBBCCCGEEEIIIYQQQgghhBBCCCGEEEIIIYQQQgihim7d+n/tElInHq/vLQAAAABJRU5ErkJggg==)"
   ]
  },
  {
   "cell_type": "code",
   "execution_count": 6,
   "metadata": {
    "colab": {
     "base_uri": "https://localhost:8080/",
     "height": 364
    },
    "executionInfo": {
     "elapsed": 360,
     "status": "ok",
     "timestamp": 1672625077327,
     "user": {
      "displayName": "Pedro Ignacio Saravia",
      "userId": "08573639063922177054"
     },
     "user_tz": 180
    },
    "id": "lbipbnEabYog",
    "outputId": "efdba7d9-82d4-4487-a0b3-68953a73800d"
   },
   "outputs": [
    {
     "data": {
      "text/html": [
       "<div>\n",
       "<style scoped>\n",
       "    .dataframe tbody tr th:only-of-type {\n",
       "        vertical-align: middle;\n",
       "    }\n",
       "\n",
       "    .dataframe tbody tr th {\n",
       "        vertical-align: top;\n",
       "    }\n",
       "\n",
       "    .dataframe thead th {\n",
       "        text-align: right;\n",
       "    }\n",
       "</style>\n",
       "<table border=\"1\" class=\"dataframe\">\n",
       "  <thead>\n",
       "    <tr style=\"text-align: right;\">\n",
       "      <th></th>\n",
       "      <th>CLIENTNUM</th>\n",
       "      <th>Customer_Age</th>\n",
       "      <th>Dependent_count</th>\n",
       "      <th>Months_on_book</th>\n",
       "      <th>Total_Relationship_Count</th>\n",
       "      <th>Months_Inactive_12_mon</th>\n",
       "      <th>Contacts_Count_12_mon</th>\n",
       "      <th>Credit_Limit</th>\n",
       "      <th>Total_Revolving_Bal</th>\n",
       "      <th>Avg_Open_To_Buy</th>\n",
       "      <th>Total_Amt_Chng_Q4_Q1</th>\n",
       "      <th>Total_Trans_Amt</th>\n",
       "      <th>Total_Trans_Ct</th>\n",
       "      <th>Total_Ct_Chng_Q4_Q1</th>\n",
       "      <th>Avg_Utilization_Ratio</th>\n",
       "    </tr>\n",
       "  </thead>\n",
       "  <tbody>\n",
       "    <tr>\n",
       "      <th>count</th>\n",
       "      <td>1.012700e+04</td>\n",
       "      <td>10127.000000</td>\n",
       "      <td>10127.000000</td>\n",
       "      <td>10127.000000</td>\n",
       "      <td>10127.000000</td>\n",
       "      <td>10127.000000</td>\n",
       "      <td>10127.000000</td>\n",
       "      <td>10127.000000</td>\n",
       "      <td>10127.000000</td>\n",
       "      <td>10127.000000</td>\n",
       "      <td>10127.000000</td>\n",
       "      <td>10127.000000</td>\n",
       "      <td>10127.000000</td>\n",
       "      <td>10127.000000</td>\n",
       "      <td>10127.000000</td>\n",
       "    </tr>\n",
       "    <tr>\n",
       "      <th>mean</th>\n",
       "      <td>7.391776e+08</td>\n",
       "      <td>46.325960</td>\n",
       "      <td>2.346203</td>\n",
       "      <td>35.928409</td>\n",
       "      <td>3.812580</td>\n",
       "      <td>2.341167</td>\n",
       "      <td>2.455317</td>\n",
       "      <td>8631.953698</td>\n",
       "      <td>1162.814061</td>\n",
       "      <td>7469.139637</td>\n",
       "      <td>0.759941</td>\n",
       "      <td>4404.086304</td>\n",
       "      <td>64.858695</td>\n",
       "      <td>0.712222</td>\n",
       "      <td>0.274894</td>\n",
       "    </tr>\n",
       "    <tr>\n",
       "      <th>std</th>\n",
       "      <td>3.690378e+07</td>\n",
       "      <td>8.016814</td>\n",
       "      <td>1.298908</td>\n",
       "      <td>7.986416</td>\n",
       "      <td>1.554408</td>\n",
       "      <td>1.010622</td>\n",
       "      <td>1.106225</td>\n",
       "      <td>9088.776650</td>\n",
       "      <td>814.987335</td>\n",
       "      <td>9090.685324</td>\n",
       "      <td>0.219207</td>\n",
       "      <td>3397.129254</td>\n",
       "      <td>23.472570</td>\n",
       "      <td>0.238086</td>\n",
       "      <td>0.275691</td>\n",
       "    </tr>\n",
       "    <tr>\n",
       "      <th>min</th>\n",
       "      <td>7.080821e+08</td>\n",
       "      <td>26.000000</td>\n",
       "      <td>0.000000</td>\n",
       "      <td>13.000000</td>\n",
       "      <td>1.000000</td>\n",
       "      <td>0.000000</td>\n",
       "      <td>0.000000</td>\n",
       "      <td>1438.300000</td>\n",
       "      <td>0.000000</td>\n",
       "      <td>3.000000</td>\n",
       "      <td>0.000000</td>\n",
       "      <td>510.000000</td>\n",
       "      <td>10.000000</td>\n",
       "      <td>0.000000</td>\n",
       "      <td>0.000000</td>\n",
       "    </tr>\n",
       "    <tr>\n",
       "      <th>25%</th>\n",
       "      <td>7.130368e+08</td>\n",
       "      <td>41.000000</td>\n",
       "      <td>1.000000</td>\n",
       "      <td>31.000000</td>\n",
       "      <td>3.000000</td>\n",
       "      <td>2.000000</td>\n",
       "      <td>2.000000</td>\n",
       "      <td>2555.000000</td>\n",
       "      <td>359.000000</td>\n",
       "      <td>1324.500000</td>\n",
       "      <td>0.631000</td>\n",
       "      <td>2155.500000</td>\n",
       "      <td>45.000000</td>\n",
       "      <td>0.582000</td>\n",
       "      <td>0.023000</td>\n",
       "    </tr>\n",
       "    <tr>\n",
       "      <th>50%</th>\n",
       "      <td>7.179264e+08</td>\n",
       "      <td>46.000000</td>\n",
       "      <td>2.000000</td>\n",
       "      <td>36.000000</td>\n",
       "      <td>4.000000</td>\n",
       "      <td>2.000000</td>\n",
       "      <td>2.000000</td>\n",
       "      <td>4549.000000</td>\n",
       "      <td>1276.000000</td>\n",
       "      <td>3474.000000</td>\n",
       "      <td>0.736000</td>\n",
       "      <td>3899.000000</td>\n",
       "      <td>67.000000</td>\n",
       "      <td>0.702000</td>\n",
       "      <td>0.176000</td>\n",
       "    </tr>\n",
       "    <tr>\n",
       "      <th>75%</th>\n",
       "      <td>7.731435e+08</td>\n",
       "      <td>52.000000</td>\n",
       "      <td>3.000000</td>\n",
       "      <td>40.000000</td>\n",
       "      <td>5.000000</td>\n",
       "      <td>3.000000</td>\n",
       "      <td>3.000000</td>\n",
       "      <td>11067.500000</td>\n",
       "      <td>1784.000000</td>\n",
       "      <td>9859.000000</td>\n",
       "      <td>0.859000</td>\n",
       "      <td>4741.000000</td>\n",
       "      <td>81.000000</td>\n",
       "      <td>0.818000</td>\n",
       "      <td>0.503000</td>\n",
       "    </tr>\n",
       "    <tr>\n",
       "      <th>max</th>\n",
       "      <td>8.283431e+08</td>\n",
       "      <td>73.000000</td>\n",
       "      <td>5.000000</td>\n",
       "      <td>56.000000</td>\n",
       "      <td>6.000000</td>\n",
       "      <td>6.000000</td>\n",
       "      <td>6.000000</td>\n",
       "      <td>34516.000000</td>\n",
       "      <td>2517.000000</td>\n",
       "      <td>34516.000000</td>\n",
       "      <td>3.397000</td>\n",
       "      <td>18484.000000</td>\n",
       "      <td>139.000000</td>\n",
       "      <td>3.714000</td>\n",
       "      <td>0.999000</td>\n",
       "    </tr>\n",
       "  </tbody>\n",
       "</table>\n",
       "</div>"
      ],
      "text/plain": [
       "          CLIENTNUM  Customer_Age  Dependent_count  Months_on_book  \\\n",
       "count  1.012700e+04  10127.000000     10127.000000    10127.000000   \n",
       "mean   7.391776e+08     46.325960         2.346203       35.928409   \n",
       "std    3.690378e+07      8.016814         1.298908        7.986416   \n",
       "min    7.080821e+08     26.000000         0.000000       13.000000   \n",
       "25%    7.130368e+08     41.000000         1.000000       31.000000   \n",
       "50%    7.179264e+08     46.000000         2.000000       36.000000   \n",
       "75%    7.731435e+08     52.000000         3.000000       40.000000   \n",
       "max    8.283431e+08     73.000000         5.000000       56.000000   \n",
       "\n",
       "       Total_Relationship_Count  Months_Inactive_12_mon  \\\n",
       "count              10127.000000            10127.000000   \n",
       "mean                   3.812580                2.341167   \n",
       "std                    1.554408                1.010622   \n",
       "min                    1.000000                0.000000   \n",
       "25%                    3.000000                2.000000   \n",
       "50%                    4.000000                2.000000   \n",
       "75%                    5.000000                3.000000   \n",
       "max                    6.000000                6.000000   \n",
       "\n",
       "       Contacts_Count_12_mon  Credit_Limit  Total_Revolving_Bal  \\\n",
       "count           10127.000000  10127.000000         10127.000000   \n",
       "mean                2.455317   8631.953698          1162.814061   \n",
       "std                 1.106225   9088.776650           814.987335   \n",
       "min                 0.000000   1438.300000             0.000000   \n",
       "25%                 2.000000   2555.000000           359.000000   \n",
       "50%                 2.000000   4549.000000          1276.000000   \n",
       "75%                 3.000000  11067.500000          1784.000000   \n",
       "max                 6.000000  34516.000000          2517.000000   \n",
       "\n",
       "       Avg_Open_To_Buy  Total_Amt_Chng_Q4_Q1  Total_Trans_Amt  Total_Trans_Ct  \\\n",
       "count     10127.000000          10127.000000     10127.000000    10127.000000   \n",
       "mean       7469.139637              0.759941      4404.086304       64.858695   \n",
       "std        9090.685324              0.219207      3397.129254       23.472570   \n",
       "min           3.000000              0.000000       510.000000       10.000000   \n",
       "25%        1324.500000              0.631000      2155.500000       45.000000   \n",
       "50%        3474.000000              0.736000      3899.000000       67.000000   \n",
       "75%        9859.000000              0.859000      4741.000000       81.000000   \n",
       "max       34516.000000              3.397000     18484.000000      139.000000   \n",
       "\n",
       "       Total_Ct_Chng_Q4_Q1  Avg_Utilization_Ratio  \n",
       "count         10127.000000           10127.000000  \n",
       "mean              0.712222               0.274894  \n",
       "std               0.238086               0.275691  \n",
       "min               0.000000               0.000000  \n",
       "25%               0.582000               0.023000  \n",
       "50%               0.702000               0.176000  \n",
       "75%               0.818000               0.503000  \n",
       "max               3.714000               0.999000  "
      ]
     },
     "execution_count": 6,
     "metadata": {},
     "output_type": "execute_result"
    }
   ],
   "source": [
    " # Análisis de los datos de cada variable\n",
    "df.describe()"
   ]
  },
  {
   "cell_type": "markdown",
   "metadata": {
    "id": "dO50nvyu2FSu"
   },
   "source": [
    "### Data Wrangling"
   ]
  },
  {
   "cell_type": "markdown",
   "metadata": {
    "id": "EQWTqLXp_xBl"
   },
   "source": [
    "Se detectaron muchos valores definidos como \"Unknown\". Para lidiar con ellos lo primero que haremos es reemplazarlos por la etiqueta \"NaN\" para luego poder utilizar la función \"is na\" y así conocer la cantidad de valores nulos que hay en cada campo."
   ]
  },
  {
   "cell_type": "code",
   "execution_count": 7,
   "metadata": {
    "colab": {
     "base_uri": "https://localhost:8080/",
     "height": 386
    },
    "executionInfo": {
     "elapsed": 24,
     "status": "ok",
     "timestamp": 1672625077327,
     "user": {
      "displayName": "Pedro Ignacio Saravia",
      "userId": "08573639063922177054"
     },
     "user_tz": 180
    },
    "id": "j3DkbeX32QO0",
    "outputId": "b7e01c75-9c52-431f-fae5-b5190cfe16be"
   },
   "outputs": [
    {
     "data": {
      "text/html": [
       "<div>\n",
       "<style scoped>\n",
       "    .dataframe tbody tr th:only-of-type {\n",
       "        vertical-align: middle;\n",
       "    }\n",
       "\n",
       "    .dataframe tbody tr th {\n",
       "        vertical-align: top;\n",
       "    }\n",
       "\n",
       "    .dataframe thead th {\n",
       "        text-align: right;\n",
       "    }\n",
       "</style>\n",
       "<table border=\"1\" class=\"dataframe\">\n",
       "  <thead>\n",
       "    <tr style=\"text-align: right;\">\n",
       "      <th></th>\n",
       "      <th>CLIENTNUM</th>\n",
       "      <th>Attrition_Flag</th>\n",
       "      <th>Customer_Age</th>\n",
       "      <th>Gender</th>\n",
       "      <th>Dependent_count</th>\n",
       "      <th>Education_Level</th>\n",
       "      <th>Marital_Status</th>\n",
       "      <th>Income_Category</th>\n",
       "      <th>Card_Category</th>\n",
       "      <th>Months_on_book</th>\n",
       "      <th>...</th>\n",
       "      <th>Months_Inactive_12_mon</th>\n",
       "      <th>Contacts_Count_12_mon</th>\n",
       "      <th>Credit_Limit</th>\n",
       "      <th>Total_Revolving_Bal</th>\n",
       "      <th>Avg_Open_To_Buy</th>\n",
       "      <th>Total_Amt_Chng_Q4_Q1</th>\n",
       "      <th>Total_Trans_Amt</th>\n",
       "      <th>Total_Trans_Ct</th>\n",
       "      <th>Total_Ct_Chng_Q4_Q1</th>\n",
       "      <th>Avg_Utilization_Ratio</th>\n",
       "    </tr>\n",
       "  </thead>\n",
       "  <tbody>\n",
       "    <tr>\n",
       "      <th>0</th>\n",
       "      <td>768805383</td>\n",
       "      <td>Existing Customer</td>\n",
       "      <td>45</td>\n",
       "      <td>M</td>\n",
       "      <td>3</td>\n",
       "      <td>High School</td>\n",
       "      <td>Married</td>\n",
       "      <td>$60K - $80K</td>\n",
       "      <td>Blue</td>\n",
       "      <td>39</td>\n",
       "      <td>...</td>\n",
       "      <td>1</td>\n",
       "      <td>3</td>\n",
       "      <td>12691.0</td>\n",
       "      <td>777</td>\n",
       "      <td>11914.0</td>\n",
       "      <td>1.335</td>\n",
       "      <td>1144</td>\n",
       "      <td>42</td>\n",
       "      <td>1.625</td>\n",
       "      <td>0.061</td>\n",
       "    </tr>\n",
       "    <tr>\n",
       "      <th>1</th>\n",
       "      <td>818770008</td>\n",
       "      <td>Existing Customer</td>\n",
       "      <td>49</td>\n",
       "      <td>F</td>\n",
       "      <td>5</td>\n",
       "      <td>Graduate</td>\n",
       "      <td>Single</td>\n",
       "      <td>Less than $40K</td>\n",
       "      <td>Blue</td>\n",
       "      <td>44</td>\n",
       "      <td>...</td>\n",
       "      <td>1</td>\n",
       "      <td>2</td>\n",
       "      <td>8256.0</td>\n",
       "      <td>864</td>\n",
       "      <td>7392.0</td>\n",
       "      <td>1.541</td>\n",
       "      <td>1291</td>\n",
       "      <td>33</td>\n",
       "      <td>3.714</td>\n",
       "      <td>0.105</td>\n",
       "    </tr>\n",
       "    <tr>\n",
       "      <th>2</th>\n",
       "      <td>713982108</td>\n",
       "      <td>Existing Customer</td>\n",
       "      <td>51</td>\n",
       "      <td>M</td>\n",
       "      <td>3</td>\n",
       "      <td>Graduate</td>\n",
       "      <td>Married</td>\n",
       "      <td>$80K - $120K</td>\n",
       "      <td>Blue</td>\n",
       "      <td>36</td>\n",
       "      <td>...</td>\n",
       "      <td>1</td>\n",
       "      <td>0</td>\n",
       "      <td>3418.0</td>\n",
       "      <td>0</td>\n",
       "      <td>3418.0</td>\n",
       "      <td>2.594</td>\n",
       "      <td>1887</td>\n",
       "      <td>20</td>\n",
       "      <td>2.333</td>\n",
       "      <td>0.000</td>\n",
       "    </tr>\n",
       "    <tr>\n",
       "      <th>3</th>\n",
       "      <td>769911858</td>\n",
       "      <td>Existing Customer</td>\n",
       "      <td>40</td>\n",
       "      <td>F</td>\n",
       "      <td>4</td>\n",
       "      <td>High School</td>\n",
       "      <td>NaN</td>\n",
       "      <td>Less than $40K</td>\n",
       "      <td>Blue</td>\n",
       "      <td>34</td>\n",
       "      <td>...</td>\n",
       "      <td>4</td>\n",
       "      <td>1</td>\n",
       "      <td>3313.0</td>\n",
       "      <td>2517</td>\n",
       "      <td>796.0</td>\n",
       "      <td>1.405</td>\n",
       "      <td>1171</td>\n",
       "      <td>20</td>\n",
       "      <td>2.333</td>\n",
       "      <td>0.760</td>\n",
       "    </tr>\n",
       "    <tr>\n",
       "      <th>4</th>\n",
       "      <td>709106358</td>\n",
       "      <td>Existing Customer</td>\n",
       "      <td>40</td>\n",
       "      <td>M</td>\n",
       "      <td>3</td>\n",
       "      <td>Uneducated</td>\n",
       "      <td>Married</td>\n",
       "      <td>$60K - $80K</td>\n",
       "      <td>Blue</td>\n",
       "      <td>21</td>\n",
       "      <td>...</td>\n",
       "      <td>1</td>\n",
       "      <td>0</td>\n",
       "      <td>4716.0</td>\n",
       "      <td>0</td>\n",
       "      <td>4716.0</td>\n",
       "      <td>2.175</td>\n",
       "      <td>816</td>\n",
       "      <td>28</td>\n",
       "      <td>2.500</td>\n",
       "      <td>0.000</td>\n",
       "    </tr>\n",
       "  </tbody>\n",
       "</table>\n",
       "<p>5 rows × 21 columns</p>\n",
       "</div>"
      ],
      "text/plain": [
       "   CLIENTNUM     Attrition_Flag  Customer_Age Gender  Dependent_count  \\\n",
       "0  768805383  Existing Customer            45      M                3   \n",
       "1  818770008  Existing Customer            49      F                5   \n",
       "2  713982108  Existing Customer            51      M                3   \n",
       "3  769911858  Existing Customer            40      F                4   \n",
       "4  709106358  Existing Customer            40      M                3   \n",
       "\n",
       "  Education_Level Marital_Status Income_Category Card_Category  \\\n",
       "0     High School        Married     $60K - $80K          Blue   \n",
       "1        Graduate         Single  Less than $40K          Blue   \n",
       "2        Graduate        Married    $80K - $120K          Blue   \n",
       "3     High School            NaN  Less than $40K          Blue   \n",
       "4      Uneducated        Married     $60K - $80K          Blue   \n",
       "\n",
       "   Months_on_book  ...  Months_Inactive_12_mon  Contacts_Count_12_mon  \\\n",
       "0              39  ...                       1                      3   \n",
       "1              44  ...                       1                      2   \n",
       "2              36  ...                       1                      0   \n",
       "3              34  ...                       4                      1   \n",
       "4              21  ...                       1                      0   \n",
       "\n",
       "   Credit_Limit  Total_Revolving_Bal  Avg_Open_To_Buy  Total_Amt_Chng_Q4_Q1  \\\n",
       "0       12691.0                  777          11914.0                 1.335   \n",
       "1        8256.0                  864           7392.0                 1.541   \n",
       "2        3418.0                    0           3418.0                 2.594   \n",
       "3        3313.0                 2517            796.0                 1.405   \n",
       "4        4716.0                    0           4716.0                 2.175   \n",
       "\n",
       "   Total_Trans_Amt  Total_Trans_Ct  Total_Ct_Chng_Q4_Q1  Avg_Utilization_Ratio  \n",
       "0             1144              42                1.625                  0.061  \n",
       "1             1291              33                3.714                  0.105  \n",
       "2             1887              20                2.333                  0.000  \n",
       "3             1171              20                2.333                  0.760  \n",
       "4              816              28                2.500                  0.000  \n",
       "\n",
       "[5 rows x 21 columns]"
      ]
     },
     "execution_count": 7,
     "metadata": {},
     "output_type": "execute_result"
    }
   ],
   "source": [
    "# Reemplazamos los valores \"Unknown\" por la etiqueta \"NaN\"\n",
    "df.replace(\"Unknown\", np.nan, inplace = True)\n",
    "\n",
    "# Verificamos si los reemplazos tuvieron lugar:\n",
    "df.head(5)"
   ]
  },
  {
   "cell_type": "code",
   "execution_count": 8,
   "metadata": {
    "colab": {
     "base_uri": "https://localhost:8080/"
    },
    "executionInfo": {
     "elapsed": 24,
     "status": "ok",
     "timestamp": 1672625077328,
     "user": {
      "displayName": "Pedro Ignacio Saravia",
      "userId": "08573639063922177054"
     },
     "user_tz": 180
    },
    "id": "VrUu3-DXeWpA",
    "outputId": "3f04ff99-6569-4bff-cbe6-5ed1b0dde457"
   },
   "outputs": [
    {
     "data": {
      "text/plain": [
       "CLIENTNUM                      0\n",
       "Attrition_Flag                 0\n",
       "Customer_Age                   0\n",
       "Gender                         0\n",
       "Dependent_count                0\n",
       "Education_Level             1519\n",
       "Marital_Status               749\n",
       "Income_Category             1112\n",
       "Card_Category                  0\n",
       "Months_on_book                 0\n",
       "Total_Relationship_Count       0\n",
       "Months_Inactive_12_mon         0\n",
       "Contacts_Count_12_mon          0\n",
       "Credit_Limit                   0\n",
       "Total_Revolving_Bal            0\n",
       "Avg_Open_To_Buy                0\n",
       "Total_Amt_Chng_Q4_Q1           0\n",
       "Total_Trans_Amt                0\n",
       "Total_Trans_Ct                 0\n",
       "Total_Ct_Chng_Q4_Q1            0\n",
       "Avg_Utilization_Ratio          0\n",
       "dtype: int64"
      ]
     },
     "execution_count": 8,
     "metadata": {},
     "output_type": "execute_result"
    }
   ],
   "source": [
    "# Ahora podemos utilizar la función \"isna\" para detectar la cantidad de valores nulos en cada campo\n",
    "df.isna().sum()"
   ]
  },
  {
   "cell_type": "markdown",
   "metadata": {
    "id": "s93eP4_NAQ5C"
   },
   "source": [
    "Detectamos entonces que las categorías de Nivel de Educación, Estado Civil y Nivel de Ingresos cuentan con un 7% a 15% aproximadamente de datos nulos. Ya que pueden ser variables que resulten útiles para predecir el comportamiento de los clientes, no eliminaremos éstos campos sino que más bien reemplazaremos los valores nulos detectados por aquellos de mayor frecuencia en cada uno."
   ]
  },
  {
   "cell_type": "code",
   "execution_count": 9,
   "metadata": {
    "colab": {
     "base_uri": "https://localhost:8080/"
    },
    "executionInfo": {
     "elapsed": 22,
     "status": "ok",
     "timestamp": 1672625077328,
     "user": {
      "displayName": "Pedro Ignacio Saravia",
      "userId": "08573639063922177054"
     },
     "user_tz": 180
    },
    "id": "tqPJm4jwhphs",
    "outputId": "f06bbb47-aaec-42f4-8c62-66873cf355e2"
   },
   "outputs": [
    {
     "data": {
      "text/plain": [
       "Graduate         3128\n",
       "High School      2013\n",
       "Uneducated       1487\n",
       "College          1013\n",
       "Post-Graduate     516\n",
       "Doctorate         451\n",
       "Name: Education_Level, dtype: int64"
      ]
     },
     "execution_count": 9,
     "metadata": {},
     "output_type": "execute_result"
    }
   ],
   "source": [
    "# Determinamos la frecuencia de los clientes en función a su nivel de educación\n",
    "df['Education_Level'].value_counts()"
   ]
  },
  {
   "cell_type": "code",
   "execution_count": 10,
   "metadata": {
    "colab": {
     "base_uri": "https://localhost:8080/"
    },
    "executionInfo": {
     "elapsed": 21,
     "status": "ok",
     "timestamp": 1672625077328,
     "user": {
      "displayName": "Pedro Ignacio Saravia",
      "userId": "08573639063922177054"
     },
     "user_tz": 180
    },
    "id": "0S6UmDg7ikw5",
    "outputId": "3cc6c465-30de-4af3-b561-16237d4406e2"
   },
   "outputs": [
    {
     "data": {
      "text/plain": [
       "Married     4687\n",
       "Single      3943\n",
       "Divorced     748\n",
       "Name: Marital_Status, dtype: int64"
      ]
     },
     "execution_count": 10,
     "metadata": {},
     "output_type": "execute_result"
    }
   ],
   "source": [
    "# Determinamos la frecuencia de los clientes en función a su estado civil\n",
    "df['Marital_Status'].value_counts() "
   ]
  },
  {
   "cell_type": "code",
   "execution_count": 11,
   "metadata": {
    "colab": {
     "base_uri": "https://localhost:8080/"
    },
    "executionInfo": {
     "elapsed": 20,
     "status": "ok",
     "timestamp": 1672625077329,
     "user": {
      "displayName": "Pedro Ignacio Saravia",
      "userId": "08573639063922177054"
     },
     "user_tz": 180
    },
    "id": "aShJhAC8iyiw",
    "outputId": "fedfebd6-a5bd-4687-92ac-307886c98711"
   },
   "outputs": [
    {
     "data": {
      "text/plain": [
       "Less than $40K    3561\n",
       "$40K - $60K       1790\n",
       "$80K - $120K      1535\n",
       "$60K - $80K       1402\n",
       "$120K +            727\n",
       "Name: Income_Category, dtype: int64"
      ]
     },
     "execution_count": 11,
     "metadata": {},
     "output_type": "execute_result"
    }
   ],
   "source": [
    "# Determinamos la frecuencia de los clientes en función a su nivel de ingresos\n",
    "df['Income_Category'].value_counts()"
   ]
  },
  {
   "cell_type": "code",
   "execution_count": 12,
   "metadata": {
    "executionInfo": {
     "elapsed": 18,
     "status": "ok",
     "timestamp": 1672625077329,
     "user": {
      "displayName": "Pedro Ignacio Saravia",
      "userId": "08573639063922177054"
     },
     "user_tz": 180
    },
    "id": "pKdt1GwdkRWq"
   },
   "outputs": [],
   "source": [
    "# Reemplazamos los valores NaN por los de mayor frecuencia en sus respectivos campos\n",
    "df[\"Education_Level\"].replace(np.nan, \"Graduate\", inplace=True)\n",
    "df[\"Marital_Status\"].replace(np.nan, \"Married\", inplace=True)\n",
    "df[\"Income_Category\"].replace(np.nan, \"Less than $40K\", inplace=True)"
   ]
  },
  {
   "cell_type": "code",
   "execution_count": 13,
   "metadata": {
    "colab": {
     "base_uri": "https://localhost:8080/"
    },
    "executionInfo": {
     "elapsed": 18,
     "status": "ok",
     "timestamp": 1672625077329,
     "user": {
      "displayName": "Pedro Ignacio Saravia",
      "userId": "08573639063922177054"
     },
     "user_tz": 180
    },
    "id": "NeXjDaMWB3eQ",
    "outputId": "a3c3944a-1506-4a1f-d787-ca70f72c20a1"
   },
   "outputs": [
    {
     "data": {
      "text/plain": [
       "CLIENTNUM                   0\n",
       "Attrition_Flag              0\n",
       "Customer_Age                0\n",
       "Gender                      0\n",
       "Dependent_count             0\n",
       "Education_Level             0\n",
       "Marital_Status              0\n",
       "Income_Category             0\n",
       "Card_Category               0\n",
       "Months_on_book              0\n",
       "Total_Relationship_Count    0\n",
       "Months_Inactive_12_mon      0\n",
       "Contacts_Count_12_mon       0\n",
       "Credit_Limit                0\n",
       "Total_Revolving_Bal         0\n",
       "Avg_Open_To_Buy             0\n",
       "Total_Amt_Chng_Q4_Q1        0\n",
       "Total_Trans_Amt             0\n",
       "Total_Trans_Ct              0\n",
       "Total_Ct_Chng_Q4_Q1         0\n",
       "Avg_Utilization_Ratio       0\n",
       "dtype: int64"
      ]
     },
     "execution_count": 13,
     "metadata": {},
     "output_type": "execute_result"
    }
   ],
   "source": [
    "# Verificamos que ya no existan datos nulos\n",
    "df.isna().sum()"
   ]
  },
  {
   "cell_type": "markdown",
   "metadata": {
    "id": "A5hzZlhcBxo9"
   },
   "source": [
    "En el análisis preliminar pareciera haber muchos datos extremos repetidos en el límite de crédito asignado (U$S34.516). Verificaremos esta afirmación con el siguiente código:"
   ]
  },
  {
   "cell_type": "code",
   "execution_count": 14,
   "metadata": {
    "colab": {
     "base_uri": "https://localhost:8080/"
    },
    "executionInfo": {
     "elapsed": 17,
     "status": "ok",
     "timestamp": 1672625077330,
     "user": {
      "displayName": "Pedro Ignacio Saravia",
      "userId": "08573639063922177054"
     },
     "user_tz": 180
    },
    "id": "Rq2a3tCM21ol",
    "outputId": "3c2cccd4-35e6-432d-e624-3262ebfa9d66"
   },
   "outputs": [
    {
     "data": {
      "text/plain": [
       "34516.0    508\n",
       "1438.3     507\n",
       "15987.0     18\n",
       "9959.0      18\n",
       "23981.0     12\n",
       "          ... \n",
       "10587.0      1\n",
       "15340.0      1\n",
       "34427.0      1\n",
       "4975.0       1\n",
       "3741.0       1\n",
       "Name: Credit_Limit, Length: 6205, dtype: int64"
      ]
     },
     "execution_count": 14,
     "metadata": {},
     "output_type": "execute_result"
    }
   ],
   "source": [
    "df['Credit_Limit'].value_counts()"
   ]
  },
  {
   "cell_type": "markdown",
   "metadata": {
    "id": "OTuq9AF3CaGl"
   },
   "source": [
    "Verificada la presunción, en este caso reemplazaremos dichos valores extremos por la media del campo en cuestión"
   ]
  },
  {
   "cell_type": "code",
   "execution_count": 15,
   "metadata": {
    "colab": {
     "base_uri": "https://localhost:8080/"
    },
    "executionInfo": {
     "elapsed": 15,
     "status": "ok",
     "timestamp": 1672625077330,
     "user": {
      "displayName": "Pedro Ignacio Saravia",
      "userId": "08573639063922177054"
     },
     "user_tz": 180
    },
    "id": "Ov67kZFx3faG",
    "outputId": "b2ea3415-3e04-48e2-8906-e7cf59dee878"
   },
   "outputs": [
    {
     "data": {
      "text/plain": [
       "CLIENTNUM                     0\n",
       "Attrition_Flag                0\n",
       "Customer_Age                  0\n",
       "Gender                        0\n",
       "Dependent_count               0\n",
       "Education_Level               0\n",
       "Marital_Status                0\n",
       "Income_Category               0\n",
       "Card_Category                 0\n",
       "Months_on_book                0\n",
       "Total_Relationship_Count      0\n",
       "Months_Inactive_12_mon        0\n",
       "Contacts_Count_12_mon         0\n",
       "Credit_Limit                508\n",
       "Total_Revolving_Bal           0\n",
       "Avg_Open_To_Buy               0\n",
       "Total_Amt_Chng_Q4_Q1          0\n",
       "Total_Trans_Amt               0\n",
       "Total_Trans_Ct                0\n",
       "Total_Ct_Chng_Q4_Q1           0\n",
       "Avg_Utilization_Ratio         0\n",
       "dtype: int64"
      ]
     },
     "execution_count": 15,
     "metadata": {},
     "output_type": "execute_result"
    }
   ],
   "source": [
    "# Primero reemplazamos el valor extremo por la etiqueta \"NaN\" para que luego no formen parte del cálculo de la media del campo.\n",
    "df[\"Credit_Limit\"].replace(34516.0, np.nan, inplace=True)\n",
    "\n",
    "# Verificamos que se hayan hecho los reemplazos\n",
    "df.isna().sum()"
   ]
  },
  {
   "cell_type": "code",
   "execution_count": 16,
   "metadata": {
    "colab": {
     "base_uri": "https://localhost:8080/"
    },
    "executionInfo": {
     "elapsed": 14,
     "status": "ok",
     "timestamp": 1672625077331,
     "user": {
      "displayName": "Pedro Ignacio Saravia",
      "userId": "08573639063922177054"
     },
     "user_tz": 180
    },
    "id": "qmFF-hrg44Vk",
    "outputId": "e0030781-53cd-4339-aeee-f114676d0958"
   },
   "outputs": [
    {
     "name": "stdout",
     "output_type": "stream",
     "text": [
      "Average of Credit_Limit: 7264.96175278085\n"
     ]
    }
   ],
   "source": [
    "# Ahora si determinamos la media del campo en cuestión\n",
    "avg_Credit_Limit=df['Credit_Limit'].astype('float').mean(axis=0)\n",
    "print(\"Average of Credit_Limit:\", avg_Credit_Limit)"
   ]
  },
  {
   "cell_type": "code",
   "execution_count": 17,
   "metadata": {
    "executionInfo": {
     "elapsed": 12,
     "status": "ok",
     "timestamp": 1672625077331,
     "user": {
      "displayName": "Pedro Ignacio Saravia",
      "userId": "08573639063922177054"
     },
     "user_tz": 180
    },
    "id": "e5CjHCU14NTk"
   },
   "outputs": [],
   "source": [
    "# Reemplazamos los valores \"NaN\" por la media obtenida\n",
    "df[\"Credit_Limit\"].replace(np.nan, avg_Credit_Limit, inplace=True)"
   ]
  },
  {
   "cell_type": "code",
   "execution_count": 18,
   "metadata": {
    "colab": {
     "base_uri": "https://localhost:8080/"
    },
    "executionInfo": {
     "elapsed": 12,
     "status": "ok",
     "timestamp": 1672625077331,
     "user": {
      "displayName": "Pedro Ignacio Saravia",
      "userId": "08573639063922177054"
     },
     "user_tz": 180
    },
    "id": "_ThRLFMxDbNg",
    "outputId": "6a699ee0-826a-487c-fb6f-538638a83e67"
   },
   "outputs": [
    {
     "data": {
      "text/plain": [
       "7264.961753     508\n",
       "1438.300000     507\n",
       "9959.000000      18\n",
       "15987.000000     18\n",
       "23981.000000     12\n",
       "               ... \n",
       "15340.000000      1\n",
       "34427.000000      1\n",
       "4975.000000       1\n",
       "4129.000000       1\n",
       "3741.000000       1\n",
       "Name: Credit_Limit, Length: 6205, dtype: int64"
      ]
     },
     "execution_count": 18,
     "metadata": {},
     "output_type": "execute_result"
    }
   ],
   "source": [
    "# Verificamos que ya no tenemos el valor extremo repetido y si en cambio el valor de la media obtenida con mayor frecuencia\n",
    "df['Credit_Limit'].value_counts()"
   ]
  },
  {
   "cell_type": "markdown",
   "metadata": {
    "id": "6NNmv7R0D6Ks"
   },
   "source": [
    "Nuestra variable objetivo es la de \"Attrition Flag\", donde se define si el cliente en cuestión es un cliente vigente del banco (Existing Customer) o si abandonó la cuenta (Attrited Customer)."
   ]
  },
  {
   "cell_type": "code",
   "execution_count": 19,
   "metadata": {
    "colab": {
     "base_uri": "https://localhost:8080/"
    },
    "executionInfo": {
     "elapsed": 11,
     "status": "ok",
     "timestamp": 1672625077331,
     "user": {
      "displayName": "Pedro Ignacio Saravia",
      "userId": "08573639063922177054"
     },
     "user_tz": 180
    },
    "id": "cKh6PywiFYEE",
    "outputId": "20947908-0573-444a-e0a9-44c766326ab6"
   },
   "outputs": [
    {
     "data": {
      "text/plain": [
       "0        Existing Customer\n",
       "1        Existing Customer\n",
       "2        Existing Customer\n",
       "3        Existing Customer\n",
       "4        Existing Customer\n",
       "               ...        \n",
       "10122    Existing Customer\n",
       "10123    Attrited Customer\n",
       "10124    Attrited Customer\n",
       "10125    Attrited Customer\n",
       "10126    Attrited Customer\n",
       "Name: Attrition_Flag, Length: 10127, dtype: object"
      ]
     },
     "execution_count": 19,
     "metadata": {},
     "output_type": "execute_result"
    }
   ],
   "source": [
    "df['Attrition_Flag'] "
   ]
  },
  {
   "cell_type": "markdown",
   "metadata": {
    "id": "1mIlyWxmFpUn"
   },
   "source": [
    "Codificaremos a éstas categorías como 0 y 1 respectivamente."
   ]
  },
  {
   "cell_type": "code",
   "execution_count": 20,
   "metadata": {
    "executionInfo": {
     "elapsed": 10,
     "status": "ok",
     "timestamp": 1672625077332,
     "user": {
      "displayName": "Pedro Ignacio Saravia",
      "userId": "08573639063922177054"
     },
     "user_tz": 180
    },
    "id": "UW2LcofcwesY"
   },
   "outputs": [],
   "source": [
    "df['Attrition_Flag_Value'] =  np.where(df['Attrition_Flag']=='Existing Customer', 0, 1)"
   ]
  },
  {
   "cell_type": "code",
   "execution_count": 21,
   "metadata": {
    "colab": {
     "base_uri": "https://localhost:8080/"
    },
    "executionInfo": {
     "elapsed": 327,
     "status": "ok",
     "timestamp": 1672625077649,
     "user": {
      "displayName": "Pedro Ignacio Saravia",
      "userId": "08573639063922177054"
     },
     "user_tz": 180
    },
    "id": "rRdjesVPFHQ6",
    "outputId": "94ff843f-34f6-4564-b026-32f0f0eb6aaf"
   },
   "outputs": [
    {
     "data": {
      "text/plain": [
       "0        0\n",
       "1        0\n",
       "2        0\n",
       "3        0\n",
       "4        0\n",
       "        ..\n",
       "10122    0\n",
       "10123    1\n",
       "10124    1\n",
       "10125    1\n",
       "10126    1\n",
       "Name: Attrition_Flag_Value, Length: 10127, dtype: int32"
      ]
     },
     "execution_count": 21,
     "metadata": {},
     "output_type": "execute_result"
    }
   ],
   "source": [
    "# Verificamos la codificación realizada\n",
    "df['Attrition_Flag_Value'] "
   ]
  },
  {
   "cell_type": "markdown",
   "metadata": {
    "id": "02226SG7FtWU"
   },
   "source": [
    "Dentro de los datos de los clientes tenemos el de su edad. Creamos la variable año de nacimiento (birth_year) para comprobar más adelante como se correlacionan ambos campos con los otros y ver entonces con cual quedarnos al momento de ejecutar el modelo de Machine Learning."
   ]
  },
  {
   "cell_type": "code",
   "execution_count": 22,
   "metadata": {
    "executionInfo": {
     "elapsed": 16,
     "status": "ok",
     "timestamp": 1672625077649,
     "user": {
      "displayName": "Pedro Ignacio Saravia",
      "userId": "08573639063922177054"
     },
     "user_tz": 180
    },
    "id": "IcuP_nflfCJW"
   },
   "outputs": [],
   "source": [
    "# Creamos entonces una variable derivada de año de nacimiento usando la fecha actual menos la variable Customer_Age\n",
    "df['birth_year'] = (datetime.date.today().year - df.Customer_Age).astype(int)  "
   ]
  },
  {
   "cell_type": "code",
   "execution_count": 23,
   "metadata": {
    "colab": {
     "base_uri": "https://localhost:8080/",
     "height": 423
    },
    "executionInfo": {
     "elapsed": 16,
     "status": "ok",
     "timestamp": 1672625077649,
     "user": {
      "displayName": "Pedro Ignacio Saravia",
      "userId": "08573639063922177054"
     },
     "user_tz": 180
    },
    "id": "cjKq57f2G2ke",
    "outputId": "e9021903-1dfb-4041-9100-1603b490d146"
   },
   "outputs": [
    {
     "data": {
      "text/html": [
       "<div>\n",
       "<style scoped>\n",
       "    .dataframe tbody tr th:only-of-type {\n",
       "        vertical-align: middle;\n",
       "    }\n",
       "\n",
       "    .dataframe tbody tr th {\n",
       "        vertical-align: top;\n",
       "    }\n",
       "\n",
       "    .dataframe thead th {\n",
       "        text-align: right;\n",
       "    }\n",
       "</style>\n",
       "<table border=\"1\" class=\"dataframe\">\n",
       "  <thead>\n",
       "    <tr style=\"text-align: right;\">\n",
       "      <th></th>\n",
       "      <th>birth_year</th>\n",
       "      <th>Customer_Age</th>\n",
       "    </tr>\n",
       "  </thead>\n",
       "  <tbody>\n",
       "    <tr>\n",
       "      <th>0</th>\n",
       "      <td>1978</td>\n",
       "      <td>45</td>\n",
       "    </tr>\n",
       "    <tr>\n",
       "      <th>1</th>\n",
       "      <td>1974</td>\n",
       "      <td>49</td>\n",
       "    </tr>\n",
       "    <tr>\n",
       "      <th>2</th>\n",
       "      <td>1972</td>\n",
       "      <td>51</td>\n",
       "    </tr>\n",
       "    <tr>\n",
       "      <th>3</th>\n",
       "      <td>1983</td>\n",
       "      <td>40</td>\n",
       "    </tr>\n",
       "    <tr>\n",
       "      <th>4</th>\n",
       "      <td>1983</td>\n",
       "      <td>40</td>\n",
       "    </tr>\n",
       "    <tr>\n",
       "      <th>...</th>\n",
       "      <td>...</td>\n",
       "      <td>...</td>\n",
       "    </tr>\n",
       "    <tr>\n",
       "      <th>10122</th>\n",
       "      <td>1973</td>\n",
       "      <td>50</td>\n",
       "    </tr>\n",
       "    <tr>\n",
       "      <th>10123</th>\n",
       "      <td>1982</td>\n",
       "      <td>41</td>\n",
       "    </tr>\n",
       "    <tr>\n",
       "      <th>10124</th>\n",
       "      <td>1979</td>\n",
       "      <td>44</td>\n",
       "    </tr>\n",
       "    <tr>\n",
       "      <th>10125</th>\n",
       "      <td>1993</td>\n",
       "      <td>30</td>\n",
       "    </tr>\n",
       "    <tr>\n",
       "      <th>10126</th>\n",
       "      <td>1980</td>\n",
       "      <td>43</td>\n",
       "    </tr>\n",
       "  </tbody>\n",
       "</table>\n",
       "<p>10127 rows × 2 columns</p>\n",
       "</div>"
      ],
      "text/plain": [
       "       birth_year  Customer_Age\n",
       "0            1978            45\n",
       "1            1974            49\n",
       "2            1972            51\n",
       "3            1983            40\n",
       "4            1983            40\n",
       "...           ...           ...\n",
       "10122        1973            50\n",
       "10123        1982            41\n",
       "10124        1979            44\n",
       "10125        1993            30\n",
       "10126        1980            43\n",
       "\n",
       "[10127 rows x 2 columns]"
      ]
     },
     "execution_count": 23,
     "metadata": {},
     "output_type": "execute_result"
    }
   ],
   "source": [
    "# Verificamos la creación del campo\n",
    "df[['birth_year', 'Customer_Age']]"
   ]
  },
  {
   "cell_type": "markdown",
   "metadata": {
    "id": "C2VTHZM6GlWz"
   },
   "source": [
    "Entendemos que la variable \"Nivel de Ingresos\" (Income_Category) puede ser importante para definir el comportamiento de los clientes y la misma, para obtener mejores resultados, debería codificarse de manera que los valores más bajos correspondan a los de menores ingresos y los más altos a los de mayores ingreso. Para ello creamos entonces el campo \"Income_Category_Value\" a continuación:"
   ]
  },
  {
   "cell_type": "code",
   "execution_count": 24,
   "metadata": {
    "colab": {
     "base_uri": "https://localhost:8080/"
    },
    "executionInfo": {
     "elapsed": 17,
     "status": "ok",
     "timestamp": 1672625077650,
     "user": {
      "displayName": "Pedro Ignacio Saravia",
      "userId": "08573639063922177054"
     },
     "user_tz": 180
    },
    "id": "vFX4KDEF6n_E",
    "outputId": "16dde7a2-9cb7-4e81-df91-f9c8283b7ad9"
   },
   "outputs": [
    {
     "data": {
      "text/plain": [
       "array(['$60K - $80K', 'Less than $40K', '$80K - $120K', '$40K - $60K',\n",
       "       '$120K +'], dtype=object)"
      ]
     },
     "execution_count": 24,
     "metadata": {},
     "output_type": "execute_result"
    }
   ],
   "source": [
    "# Identificamos entonces los valores únicos de la variable en cuestión:\n",
    "df.Income_Category.unique()\n"
   ]
  },
  {
   "cell_type": "code",
   "execution_count": 25,
   "metadata": {
    "executionInfo": {
     "elapsed": 14,
     "status": "ok",
     "timestamp": 1672625077650,
     "user": {
      "displayName": "Pedro Ignacio Saravia",
      "userId": "08573639063922177054"
     },
     "user_tz": 180
    },
    "id": "UA09eYD5g2qW"
   },
   "outputs": [],
   "source": [
    "# De acuerdo al nivel de ingresos (Income_Category) asignamos un valor númerico a cada categoría:\n",
    "df['Income_Category_Value'] =  np.where(df['Income_Category']=='Less than $40K', 1, \n",
    "                                np.where(df['Income_Category']=='$40K - $60K', 2,\n",
    "                                np.where(df['Income_Category']=='$60K - $80K', 3,                                \n",
    "                                np.where(df['Income_Category']=='$80K - $120K', 4,5))))"
   ]
  },
  {
   "cell_type": "code",
   "execution_count": 26,
   "metadata": {
    "colab": {
     "base_uri": "https://localhost:8080/",
     "height": 423
    },
    "executionInfo": {
     "elapsed": 13,
     "status": "ok",
     "timestamp": 1672625077650,
     "user": {
      "displayName": "Pedro Ignacio Saravia",
      "userId": "08573639063922177054"
     },
     "user_tz": 180
    },
    "id": "V67usrgr75qE",
    "outputId": "6bbb19e2-253a-416a-b008-f8acf74ab8b8"
   },
   "outputs": [
    {
     "data": {
      "text/html": [
       "<div>\n",
       "<style scoped>\n",
       "    .dataframe tbody tr th:only-of-type {\n",
       "        vertical-align: middle;\n",
       "    }\n",
       "\n",
       "    .dataframe tbody tr th {\n",
       "        vertical-align: top;\n",
       "    }\n",
       "\n",
       "    .dataframe thead th {\n",
       "        text-align: right;\n",
       "    }\n",
       "</style>\n",
       "<table border=\"1\" class=\"dataframe\">\n",
       "  <thead>\n",
       "    <tr style=\"text-align: right;\">\n",
       "      <th></th>\n",
       "      <th>Income_Category</th>\n",
       "      <th>Income_Category_Value</th>\n",
       "    </tr>\n",
       "  </thead>\n",
       "  <tbody>\n",
       "    <tr>\n",
       "      <th>0</th>\n",
       "      <td>$60K - $80K</td>\n",
       "      <td>3</td>\n",
       "    </tr>\n",
       "    <tr>\n",
       "      <th>1</th>\n",
       "      <td>Less than $40K</td>\n",
       "      <td>1</td>\n",
       "    </tr>\n",
       "    <tr>\n",
       "      <th>2</th>\n",
       "      <td>$80K - $120K</td>\n",
       "      <td>4</td>\n",
       "    </tr>\n",
       "    <tr>\n",
       "      <th>3</th>\n",
       "      <td>Less than $40K</td>\n",
       "      <td>1</td>\n",
       "    </tr>\n",
       "    <tr>\n",
       "      <th>4</th>\n",
       "      <td>$60K - $80K</td>\n",
       "      <td>3</td>\n",
       "    </tr>\n",
       "    <tr>\n",
       "      <th>...</th>\n",
       "      <td>...</td>\n",
       "      <td>...</td>\n",
       "    </tr>\n",
       "    <tr>\n",
       "      <th>10122</th>\n",
       "      <td>$40K - $60K</td>\n",
       "      <td>2</td>\n",
       "    </tr>\n",
       "    <tr>\n",
       "      <th>10123</th>\n",
       "      <td>$40K - $60K</td>\n",
       "      <td>2</td>\n",
       "    </tr>\n",
       "    <tr>\n",
       "      <th>10124</th>\n",
       "      <td>Less than $40K</td>\n",
       "      <td>1</td>\n",
       "    </tr>\n",
       "    <tr>\n",
       "      <th>10125</th>\n",
       "      <td>$40K - $60K</td>\n",
       "      <td>2</td>\n",
       "    </tr>\n",
       "    <tr>\n",
       "      <th>10126</th>\n",
       "      <td>Less than $40K</td>\n",
       "      <td>1</td>\n",
       "    </tr>\n",
       "  </tbody>\n",
       "</table>\n",
       "<p>10127 rows × 2 columns</p>\n",
       "</div>"
      ],
      "text/plain": [
       "      Income_Category  Income_Category_Value\n",
       "0         $60K - $80K                      3\n",
       "1      Less than $40K                      1\n",
       "2        $80K - $120K                      4\n",
       "3      Less than $40K                      1\n",
       "4         $60K - $80K                      3\n",
       "...               ...                    ...\n",
       "10122     $40K - $60K                      2\n",
       "10123     $40K - $60K                      2\n",
       "10124  Less than $40K                      1\n",
       "10125     $40K - $60K                      2\n",
       "10126  Less than $40K                      1\n",
       "\n",
       "[10127 rows x 2 columns]"
      ]
     },
     "execution_count": 26,
     "metadata": {},
     "output_type": "execute_result"
    }
   ],
   "source": [
    "# Verificamos ahora que la asignación se haya hecho correctamente\n",
    "df[['Income_Category', 'Income_Category_Value']]"
   ]
  },
  {
   "cell_type": "markdown",
   "metadata": {
    "id": "QbpqujzmkCH1"
   },
   "source": [
    "# Preguntas/Hipótesis\n",
    "A continuacion analizamos los datos usando distintas agrupaciones para darnos una idea de como estan distribuidos los mismos:"
   ]
  },
  {
   "cell_type": "code",
   "execution_count": 27,
   "metadata": {
    "colab": {
     "base_uri": "https://localhost:8080/",
     "height": 242
    },
    "executionInfo": {
     "elapsed": 13,
     "status": "ok",
     "timestamp": 1672625077650,
     "user": {
      "displayName": "Pedro Ignacio Saravia",
      "userId": "08573639063922177054"
     },
     "user_tz": 180
    },
    "id": "JTDidGxFivXt",
    "outputId": "72141158-caed-4e6b-d7ef-d5f9677e4423"
   },
   "outputs": [
    {
     "data": {
      "text/html": [
       "<div>\n",
       "<style scoped>\n",
       "    .dataframe tbody tr th:only-of-type {\n",
       "        vertical-align: middle;\n",
       "    }\n",
       "\n",
       "    .dataframe tbody tr th {\n",
       "        vertical-align: top;\n",
       "    }\n",
       "\n",
       "    .dataframe thead th {\n",
       "        text-align: right;\n",
       "    }\n",
       "</style>\n",
       "<table border=\"1\" class=\"dataframe\">\n",
       "  <thead>\n",
       "    <tr style=\"text-align: right;\">\n",
       "      <th></th>\n",
       "      <th>CLIENTNUM</th>\n",
       "      <th>Customer_Age</th>\n",
       "      <th>Dependent_count</th>\n",
       "      <th>Months_on_book</th>\n",
       "      <th>Total_Relationship_Count</th>\n",
       "      <th>Months_Inactive_12_mon</th>\n",
       "      <th>Contacts_Count_12_mon</th>\n",
       "      <th>Credit_Limit</th>\n",
       "      <th>Total_Revolving_Bal</th>\n",
       "      <th>Avg_Open_To_Buy</th>\n",
       "      <th>Total_Amt_Chng_Q4_Q1</th>\n",
       "      <th>Total_Trans_Amt</th>\n",
       "      <th>Total_Trans_Ct</th>\n",
       "      <th>Total_Ct_Chng_Q4_Q1</th>\n",
       "      <th>Avg_Utilization_Ratio</th>\n",
       "      <th>Attrition_Flag_Value</th>\n",
       "      <th>birth_year</th>\n",
       "      <th>Income_Category_Value</th>\n",
       "    </tr>\n",
       "    <tr>\n",
       "      <th>Attrition_Flag</th>\n",
       "      <th></th>\n",
       "      <th></th>\n",
       "      <th></th>\n",
       "      <th></th>\n",
       "      <th></th>\n",
       "      <th></th>\n",
       "      <th></th>\n",
       "      <th></th>\n",
       "      <th></th>\n",
       "      <th></th>\n",
       "      <th></th>\n",
       "      <th></th>\n",
       "      <th></th>\n",
       "      <th></th>\n",
       "      <th></th>\n",
       "      <th></th>\n",
       "      <th></th>\n",
       "      <th></th>\n",
       "    </tr>\n",
       "  </thead>\n",
       "  <tbody>\n",
       "    <tr>\n",
       "      <th>Attrited Customer</th>\n",
       "      <td>7.352614e+08</td>\n",
       "      <td>46.659496</td>\n",
       "      <td>2.402581</td>\n",
       "      <td>36.178242</td>\n",
       "      <td>3.279656</td>\n",
       "      <td>2.693301</td>\n",
       "      <td>2.972342</td>\n",
       "      <td>6645.355744</td>\n",
       "      <td>672.822987</td>\n",
       "      <td>7463.216472</td>\n",
       "      <td>0.694277</td>\n",
       "      <td>3095.025814</td>\n",
       "      <td>44.933620</td>\n",
       "      <td>0.554386</td>\n",
       "      <td>0.162475</td>\n",
       "      <td>1.0</td>\n",
       "      <td>1976.340504</td>\n",
       "      <td>2.154886</td>\n",
       "    </tr>\n",
       "    <tr>\n",
       "      <th>Existing Customer</th>\n",
       "      <td>7.399272e+08</td>\n",
       "      <td>46.262118</td>\n",
       "      <td>2.335412</td>\n",
       "      <td>35.880588</td>\n",
       "      <td>3.914588</td>\n",
       "      <td>2.273765</td>\n",
       "      <td>2.356353</td>\n",
       "      <td>7383.561632</td>\n",
       "      <td>1256.604118</td>\n",
       "      <td>7470.273400</td>\n",
       "      <td>0.772510</td>\n",
       "      <td>4654.655882</td>\n",
       "      <td>68.672588</td>\n",
       "      <td>0.742434</td>\n",
       "      <td>0.296412</td>\n",
       "      <td>0.0</td>\n",
       "      <td>1976.737882</td>\n",
       "      <td>2.203294</td>\n",
       "    </tr>\n",
       "  </tbody>\n",
       "</table>\n",
       "</div>"
      ],
      "text/plain": [
       "                      CLIENTNUM  Customer_Age  Dependent_count  \\\n",
       "Attrition_Flag                                                   \n",
       "Attrited Customer  7.352614e+08     46.659496         2.402581   \n",
       "Existing Customer  7.399272e+08     46.262118         2.335412   \n",
       "\n",
       "                   Months_on_book  Total_Relationship_Count  \\\n",
       "Attrition_Flag                                                \n",
       "Attrited Customer       36.178242                  3.279656   \n",
       "Existing Customer       35.880588                  3.914588   \n",
       "\n",
       "                   Months_Inactive_12_mon  Contacts_Count_12_mon  \\\n",
       "Attrition_Flag                                                     \n",
       "Attrited Customer                2.693301               2.972342   \n",
       "Existing Customer                2.273765               2.356353   \n",
       "\n",
       "                   Credit_Limit  Total_Revolving_Bal  Avg_Open_To_Buy  \\\n",
       "Attrition_Flag                                                          \n",
       "Attrited Customer   6645.355744           672.822987      7463.216472   \n",
       "Existing Customer   7383.561632          1256.604118      7470.273400   \n",
       "\n",
       "                   Total_Amt_Chng_Q4_Q1  Total_Trans_Amt  Total_Trans_Ct  \\\n",
       "Attrition_Flag                                                             \n",
       "Attrited Customer              0.694277      3095.025814       44.933620   \n",
       "Existing Customer              0.772510      4654.655882       68.672588   \n",
       "\n",
       "                   Total_Ct_Chng_Q4_Q1  Avg_Utilization_Ratio  \\\n",
       "Attrition_Flag                                                  \n",
       "Attrited Customer             0.554386               0.162475   \n",
       "Existing Customer             0.742434               0.296412   \n",
       "\n",
       "                   Attrition_Flag_Value   birth_year  Income_Category_Value  \n",
       "Attrition_Flag                                                               \n",
       "Attrited Customer                   1.0  1976.340504               2.154886  \n",
       "Existing Customer                   0.0  1976.737882               2.203294  "
      ]
     },
     "execution_count": 27,
     "metadata": {},
     "output_type": "execute_result"
    }
   ],
   "source": [
    "# Al ser Attrition_Flag la variable objetivo para Clasificacion procedo a agrupar por ésta obteniendo la media para las otras variables\n",
    "df.groupby(['Attrition_Flag']).mean() "
   ]
  },
  {
   "cell_type": "markdown",
   "metadata": {
    "id": "Ureo3h8PkPCU"
   },
   "source": [
    "Se puede observar que en general para los clientes perdidos (Attrited Customer), se detectan los siguientes valores:\n",
    "- Menor cantidad de productos adquiridos (Total_Relantionship_Count)\n",
    "- Más meses de inactividad en el último año (Months_Inactiva_12_mon)\n",
    "- Mayor cantidad de contactos realizados con el banco (Contacts_Count_12_Mon)\n",
    "- Menor límite de crédito asignado (Credit_Limit)\n",
    "- Tienen un menor \"Revolving Balance\"\n",
    "- Tienen menor cantidad de transacciones y por montos más bajos."
   ]
  },
  {
   "cell_type": "code",
   "execution_count": 28,
   "metadata": {
    "colab": {
     "base_uri": "https://localhost:8080/"
    },
    "executionInfo": {
     "elapsed": 12,
     "status": "ok",
     "timestamp": 1672625077650,
     "user": {
      "displayName": "Pedro Ignacio Saravia",
      "userId": "08573639063922177054"
     },
     "user_tz": 180
    },
    "id": "Lzd7dZSkmKi2",
    "outputId": "4493fb5e-f223-4de3-a7d2-d7d056d7f919"
   },
   "outputs": [
    {
     "name": "stdout",
     "output_type": "stream",
     "text": [
      "Valores absolutos:\n",
      "Existing Customer    8500\n",
      "Attrited Customer    1627\n",
      "Name: Attrition_Flag, dtype: int64\n",
      "Porcentajes:\n",
      "Existing Customer    84.0%\n",
      "Attrited Customer    16.0%\n",
      "Name: Attrition_Flag, dtype: object\n"
     ]
    }
   ],
   "source": [
    "# Determinación de la cantidad de clientes perdidos en relación al total de clientes:\n",
    "serie_ClientePerdido = df_creditcards.Attrition_Flag.value_counts()\n",
    "porcentaje_ClientePerdido = serie_ClientePerdido/len(df_creditcards)*100\n",
    "porcentajes_redondeados = porcentaje_ClientePerdido.round(0)\n",
    "porcentajes_formateado = porcentajes_redondeados.map(lambda x: f\"{x}%\")\n",
    "print(\"Valores absolutos:\")\n",
    "print(serie_ClientePerdido)\n",
    "print(\"Porcentajes:\")\n",
    "print(porcentajes_formateado)"
   ]
  },
  {
   "cell_type": "markdown",
   "metadata": {
    "id": "5g2qX8IKy-Di"
   },
   "source": [
    "De un total de 10.127 clientes, se perdieron 1.627, es decir un 16%."
   ]
  },
  {
   "cell_type": "code",
   "execution_count": 29,
   "metadata": {
    "colab": {
     "base_uri": "https://localhost:8080/"
    },
    "executionInfo": {
     "elapsed": 11,
     "status": "ok",
     "timestamp": 1672625077651,
     "user": {
      "displayName": "Pedro Ignacio Saravia",
      "userId": "08573639063922177054"
     },
     "user_tz": 180
    },
    "id": "6t05j-wzprPS",
    "outputId": "6cbaec44-b441-4d7e-fa33-0b94995000df"
   },
   "outputs": [
    {
     "name": "stdout",
     "output_type": "stream",
     "text": [
      "Porcentajes:\n",
      "Attrition_Flag     Education_Level\n",
      "Attrited Customer  College             9.0%\n",
      "                   Doctorate           6.0%\n",
      "                   Graduate           46.0%\n",
      "                   High School        19.0%\n",
      "                   Post-Graduate       6.0%\n",
      "                   Uneducated         15.0%\n",
      "Existing Customer  College            10.0%\n",
      "                   Doctorate           4.0%\n",
      "                   Graduate           46.0%\n",
      "                   High School        20.0%\n",
      "                   Post-Graduate       5.0%\n",
      "                   Uneducated         15.0%\n",
      "dtype: object\n"
     ]
    }
   ],
   "source": [
    "# Agrupamos los clientes en función a su \"Atrittion Flag\" por nivel de educación y estado civil y calculamos los porcentajes de frecuencia de \n",
    "# cada categoría para cada estado del cliente.\n",
    "groupby_education = df.groupby(['Attrition_Flag', 'Education_Level'])[\"CLIENTNUM\"].count()\n",
    "porcentajes_education = groupby_education / df.groupby(\"Attrition_Flag\").size() * 100\n",
    "porcentajes_educ_round = porcentajes_education.round(0)\n",
    "porcentajes_educ_format = porcentajes_educ_round.map(lambda x: f\"{x}%\")\n",
    "print(\"Porcentajes:\")\n",
    "print(porcentajes_educ_format)"
   ]
  },
  {
   "cell_type": "code",
   "execution_count": 30,
   "metadata": {
    "colab": {
     "base_uri": "https://localhost:8080/"
    },
    "executionInfo": {
     "elapsed": 9,
     "status": "ok",
     "timestamp": 1672625077651,
     "user": {
      "displayName": "Pedro Ignacio Saravia",
      "userId": "08573639063922177054"
     },
     "user_tz": 180
    },
    "id": "BAZkG02Ss7qC",
    "outputId": "40d83fc0-81bb-408b-bc19-45d59ca8410b"
   },
   "outputs": [
    {
     "name": "stdout",
     "output_type": "stream",
     "text": [
      "Porcentajes:\n",
      "Attrition_Flag     Marital_Status\n",
      "Attrited Customer  Divorced           7.0%\n",
      "                   Married           52.0%\n",
      "                   Single            41.0%\n",
      "Existing Customer  Divorced           7.0%\n",
      "                   Married           54.0%\n",
      "                   Single            39.0%\n",
      "dtype: object\n"
     ]
    }
   ],
   "source": [
    "groupby_marstatus = df.groupby(['Attrition_Flag', 'Marital_Status'])[\"CLIENTNUM\"].count()\n",
    "porcentajes_marstatus = groupby_marstatus / df.groupby(\"Attrition_Flag\").size() * 100\n",
    "porcentajes_marstatus_round = porcentajes_marstatus.round(0)\n",
    "porcentajes_marstatus_format = porcentajes_marstatus_round.map(lambda x: f\"{x}%\")\n",
    "print(\"Porcentajes:\")\n",
    "print(porcentajes_marstatus_format)"
   ]
  },
  {
   "cell_type": "markdown",
   "metadata": {
    "id": "Q6yKDQb0vyWH"
   },
   "source": [
    "### Hipótesis: Existe una correlación positiva entre la cantidad de veces que el cliente se contactó con la entidad y si resultó ser un cliente perdido (Attrited customer)"
   ]
  },
  {
   "cell_type": "code",
   "execution_count": 31,
   "metadata": {
    "executionInfo": {
     "elapsed": 7,
     "status": "ok",
     "timestamp": 1672625077651,
     "user": {
      "displayName": "Pedro Ignacio Saravia",
      "userId": "08573639063922177054"
     },
     "user_tz": 180
    },
    "id": "y9m-weCOwBe-"
   },
   "outputs": [],
   "source": [
    "dfcorr = df.corr()"
   ]
  },
  {
   "cell_type": "code",
   "execution_count": 32,
   "metadata": {
    "colab": {
     "base_uri": "https://localhost:8080/",
     "height": 820
    },
    "executionInfo": {
     "elapsed": 1997,
     "status": "ok",
     "timestamp": 1672625079641,
     "user": {
      "displayName": "Pedro Ignacio Saravia",
      "userId": "08573639063922177054"
     },
     "user_tz": 180
    },
    "id": "zVTy7_i8Y0WO",
    "outputId": "490068fb-e1f4-4b56-c921-1cc1626407d9"
   },
   "outputs": [
    {
     "data": {
      "image/png": "[encoded data removed]",
      "text/plain": [
       "<Figure size 1080x864 with 2 Axes>"
      ]
     },
     "metadata": {
      "needs_background": "light"
     },
     "output_type": "display_data"
    }
   ],
   "source": [
    "plt.figure(figsize=(15, 12))\n",
    "sns.heatmap(dfcorr, annot=True)\n",
    "plt.show()"
   ]
  },
  {
   "cell_type": "markdown",
   "metadata": {
    "id": "lv_-pXrhzHbO"
   },
   "source": [
    "De acuerdo a la matriz de correlación podemos observar que existe una correlación positiva, pero solo del 20%, es decir más bien baja. De todas formas continuamos el análisis de ésta variable para sacar mejores conclusiones con un gráfico de barras:"
   ]
  },
  {
   "cell_type": "code",
   "execution_count": 33,
   "metadata": {
    "colab": {
     "base_uri": "https://localhost:8080/",
     "height": 299
    },
    "executionInfo": {
     "elapsed": 621,
     "status": "ok",
     "timestamp": 1672625080254,
     "user": {
      "displayName": "Pedro Ignacio Saravia",
      "userId": "08573639063922177054"
     },
     "user_tz": 180
    },
    "id": "M4OlmqoOlqld",
    "outputId": "19d89717-de2e-4ed2-9ea9-b51b13326414"
   },
   "outputs": [
    {
     "data": {
      "text/plain": [
       "<AxesSubplot:xlabel='Contacts_Count_12_mon', ylabel='Count'>"
      ]
     },
     "execution_count": 33,
     "metadata": {},
     "output_type": "execute_result"
    },
    {
     "data": {
      "image/png": "[encoded data removed]",
      "text/plain": [
       "<Figure size 432x288 with 1 Axes>"
      ]
     },
     "metadata": {
      "needs_background": "light"
     },
     "output_type": "display_data"
    }
   ],
   "source": [
    "sns.histplot(data=df, x=\"Contacts_Count_12_mon\", hue=\"Attrition_Flag\", multiple=\"stack\")"
   ]
  },
  {
   "cell_type": "markdown",
   "metadata": {
    "id": "rbJglne4sLcj"
   },
   "source": [
    "Daría la impresión que al incrementarse la cantidad de contactos realizados por el cliente se eleva el porcentaje de clientes perdidos. Confirmaremos esto viendo los porcentajes para cada valor:"
   ]
  },
  {
   "cell_type": "code",
   "execution_count": 34,
   "metadata": {
    "colab": {
     "base_uri": "https://localhost:8080/"
    },
    "executionInfo": {
     "elapsed": 9,
     "status": "ok",
     "timestamp": 1672625080255,
     "user": {
      "displayName": "Pedro Ignacio Saravia",
      "userId": "08573639063922177054"
     },
     "user_tz": 180
    },
    "id": "B4xqKVQFjGo6",
    "outputId": "7052584f-1ad8-4d47-9aad-0e6e0cfc206b"
   },
   "outputs": [
    {
     "name": "stdout",
     "output_type": "stream",
     "text": [
      "Porcentajes:\n",
      "Contacts_Count_12_mon  Attrition_Flag   \n",
      "0                      Attrited Customer      2.0%\n",
      "                       Existing Customer     98.0%\n",
      "1                      Attrited Customer      7.0%\n",
      "                       Existing Customer     93.0%\n",
      "2                      Attrited Customer     12.0%\n",
      "                       Existing Customer     88.0%\n",
      "3                      Attrited Customer     20.0%\n",
      "                       Existing Customer     80.0%\n",
      "4                      Attrited Customer     23.0%\n",
      "                       Existing Customer     77.0%\n",
      "5                      Attrited Customer     34.0%\n",
      "                       Existing Customer     66.0%\n",
      "6                      Attrited Customer    100.0%\n",
      "dtype: object\n"
     ]
    }
   ],
   "source": [
    "groupby_Contacts_Count = df.groupby(['Contacts_Count_12_mon', 'Attrition_Flag'])[\"CLIENTNUM\"].count()\n",
    "porcentajes_Contacts_Count = groupby_Contacts_Count / df.groupby(\"Contacts_Count_12_mon\").size() * 100\n",
    "porcentajes_Contacts_Count_round = porcentajes_Contacts_Count.round(0)\n",
    "porcentajes_Contacts_Count_format = porcentajes_Contacts_Count_round.map(lambda x: f\"{x}%\")\n",
    "print(\"Porcentajes:\")\n",
    "print(porcentajes_Contacts_Count_format)"
   ]
  },
  {
   "cell_type": "markdown",
   "metadata": {
    "id": "y5AalH43kjDp"
   },
   "source": [
    "Podemos ver entonces que en la medida que aumenta la cantidad contactos realizados por el cliente, aumenta el porcentaje de clientes pérdidos llegando incluso a un 100% de attrition cuando la cantidad de contactos realizados es de 6 veces en los últimos 12 meses. Se confirma la hipótesis nula."
   ]
  },
  {
   "cell_type": "markdown",
   "metadata": {
    "id": "7ATbmoWnzRIe"
   },
   "source": [
    "### Hipótesis: Se pierden clientes de ingresos altos por no asignarles una tarjeta de mayor categoría (gold o platinum)."
   ]
  },
  {
   "cell_type": "markdown",
   "metadata": {
    "id": "igzo2rCzlV5k"
   },
   "source": [
    "Para corroborar ésta hipótesis realizaremos primero un gráfico de barras con la frecuencia del tipo de tarjeta para cada nivel de ingresos de los clientes:"
   ]
  },
  {
   "cell_type": "code",
   "execution_count": 35,
   "metadata": {
    "colab": {
     "base_uri": "https://localhost:8080/",
     "height": 291
    },
    "executionInfo": {
     "elapsed": 1142,
     "status": "ok",
     "timestamp": 1672625081391,
     "user": {
      "displayName": "Pedro Ignacio Saravia",
      "userId": "08573639063922177054"
     },
     "user_tz": 180
    },
    "id": "TFWonv_PraJi",
    "outputId": "33af043d-3a16-4d39-a27f-7785062a4443"
   },
   "outputs": [
    {
     "data": {
      "text/plain": [
       "<seaborn.axisgrid.FacetGrid at 0x2c1a3f89b20>"
      ]
     },
     "execution_count": 35,
     "metadata": {},
     "output_type": "execute_result"
    },
    {
     "data": {
      "image/png": "[encoded data removed]",
      "text/plain": [
       "<Figure size 1927.12x360 with 5 Axes>"
      ]
     },
     "metadata": {
      "needs_background": "light"
     },
     "output_type": "display_data"
    }
   ],
   "source": [
    "sns.displot(data=df , x=\"Card_Category\", hue=\"Attrition_Flag\", col=\"Income_Category\")"
   ]
  },
  {
   "cell_type": "markdown",
   "metadata": {
    "id": "cQ2Wp52E9kVm"
   },
   "source": [
    "En general, para los distintos niveles de ingresos se ve un porcentaje similar de pérdida de clientes para aquellos a los que no se les ofreció una tarjeta de mayor categoría a la tarjeta Blue, que es la de menor categoría, por lo que se rechaza la hipótesis planteada. Llama la atención igualmente, que haya tantos clientes con ingresos mayores a 80 y a 120 mil dólares anuales con tarjetas de categoría Blue, lo que nos invita a realizar otro gráfico para profundizar sobre este comportamiento:"
   ]
  },
  {
   "cell_type": "code",
   "execution_count": 36,
   "metadata": {
    "colab": {
     "base_uri": "https://localhost:8080/",
     "height": 298
    },
    "executionInfo": {
     "elapsed": 8,
     "status": "ok",
     "timestamp": 1672625081391,
     "user": {
      "displayName": "Pedro Ignacio Saravia",
      "userId": "08573639063922177054"
     },
     "user_tz": 180
    },
    "id": "J0WAWNU-3YxR",
    "outputId": "bba477e2-5174-4c31-9de6-dfc6da075182"
   },
   "outputs": [
    {
     "data": {
      "text/plain": [
       "<AxesSubplot:xlabel='Card_Category', ylabel='Income_Category_Value'>"
      ]
     },
     "execution_count": 36,
     "metadata": {},
     "output_type": "execute_result"
    },
    {
     "data": {
      "image/png": "[encoded data removed]",
      "text/plain": [
       "<Figure size 432x288 with 1 Axes>"
      ]
     },
     "metadata": {
      "needs_background": "light"
     },
     "output_type": "display_data"
    }
   ],
   "source": [
    "sns.violinplot(data=df, x=\"Card_Category\", y=\"Income_Category_Value\", hue=\"Attrition_Flag\", split=True, cut=1)"
   ]
  },
  {
   "cell_type": "markdown",
   "metadata": {
    "id": "kKHa80h3uXJQ"
   },
   "source": [
    "El violin plot refleja algo curioso que es el hecho de que dentro de los usuarios de ingresos bajos y que se les asignó una tarjeta platinum, hay mucha deserción. Esto podría deberse a que los beneficios aportados por este tipo de tarjeta seguramente no puedan ser aprovechados por clientes de este segmento."
   ]
  },
  {
   "cell_type": "markdown",
   "metadata": {
    "id": "RZLjqM-cvUEA"
   },
   "source": [
    "### Hipótesis: Existe una correlación positiva entre los meses de inactividad del cliente y si resultó ser un cliente perdido."
   ]
  },
  {
   "cell_type": "code",
   "execution_count": 37,
   "metadata": {
    "colab": {
     "base_uri": "https://localhost:8080/",
     "height": 300
    },
    "executionInfo": {
     "elapsed": 587,
     "status": "ok",
     "timestamp": 1672625081975,
     "user": {
      "displayName": "Pedro Ignacio Saravia",
      "userId": "08573639063922177054"
     },
     "user_tz": 180
    },
    "id": "kHv3Mo4Kvb0P",
    "outputId": "3eece7c7-0c38-41b3-928e-16dd322d812a"
   },
   "outputs": [
    {
     "data": {
      "text/plain": [
       "<AxesSubplot:xlabel='Months_Inactive_12_mon', ylabel='Count'>"
      ]
     },
     "execution_count": 37,
     "metadata": {},
     "output_type": "execute_result"
    },
    {
     "data": {
      "image/png": "[encoded data removed]",
      "text/plain": [
       "<Figure size 432x288 with 1 Axes>"
      ]
     },
     "metadata": {
      "needs_background": "light"
     },
     "output_type": "display_data"
    }
   ],
   "source": [
    "sns.histplot(data=df, x=\"Months_Inactive_12_mon\", hue=\"Attrition_Flag\", multiple=\"stack\")"
   ]
  },
  {
   "cell_type": "markdown",
   "metadata": {
    "id": "6RTveVUHwfW2"
   },
   "source": [
    "En este caso no se ve una correlación entre la cantidad de meses de inactividad y la tasa de abandono, confirmando los valores que se podían ver en la matriz de correlación que indicaba que era positiva pero muy baja (15%), por lo que se rechaza la hipótesis planteada"
   ]
  },
  {
   "cell_type": "markdown",
   "metadata": {
    "id": "R-FXRmlR2IVN"
   },
   "source": [
    "### Hipótesis: Existe una correlación entre la cantidad de productos adquiridos (Total_Relationship_Count) y su permanencia como clientes"
   ]
  },
  {
   "cell_type": "code",
   "execution_count": 38,
   "metadata": {
    "colab": {
     "base_uri": "https://localhost:8080/",
     "height": 298
    },
    "executionInfo": {
     "elapsed": 404,
     "status": "ok",
     "timestamp": 1672625082373,
     "user": {
      "displayName": "Pedro Ignacio Saravia",
      "userId": "08573639063922177054"
     },
     "user_tz": 180
    },
    "id": "jnqnz9aW0TLF",
    "outputId": "85567493-faff-4723-9760-7c13ee478825"
   },
   "outputs": [
    {
     "data": {
      "text/plain": [
       "<AxesSubplot:xlabel='Total_Relationship_Count', ylabel='Count'>"
      ]
     },
     "execution_count": 38,
     "metadata": {},
     "output_type": "execute_result"
    },
    {
     "data": {
      "image/png": "[encoded data removed]",
      "text/plain": [
       "<Figure size 432x288 with 1 Axes>"
      ]
     },
     "metadata": {
      "needs_background": "light"
     },
     "output_type": "display_data"
    }
   ],
   "source": [
    "sns.histplot(data=df, x=\"Total_Relationship_Count\", hue=\"Attrition_Flag\", multiple=\"stack\")"
   ]
  },
  {
   "cell_type": "markdown",
   "metadata": {
    "id": "l2GlwWuC0xxp"
   },
   "source": [
    "Se puede apreciar que para los clientes a los que solo se les vendió 1 o 2 productos, el porcentaje de abandono es más alto que el de aquellos que adquirieron 3 o más productos con el banco. Confirmaremos lo dicho mirando los porcentajes en cuestión:"
   ]
  },
  {
   "cell_type": "code",
   "execution_count": 39,
   "metadata": {
    "colab": {
     "base_uri": "https://localhost:8080/"
    },
    "executionInfo": {
     "elapsed": 12,
     "status": "ok",
     "timestamp": 1672625082374,
     "user": {
      "displayName": "Pedro Ignacio Saravia",
      "userId": "08573639063922177054"
     },
     "user_tz": 180
    },
    "id": "lseyHL9Wm246",
    "outputId": "0e505227-c5cf-4bb9-ee99-064d28be3694"
   },
   "outputs": [
    {
     "name": "stdout",
     "output_type": "stream",
     "text": [
      "Porcentajes:\n",
      "Total_Relationship_Count  Attrition_Flag   \n",
      "1                         Attrited Customer    26.0%\n",
      "                          Existing Customer    74.0%\n",
      "2                         Attrited Customer    28.0%\n",
      "                          Existing Customer    72.0%\n",
      "3                         Attrited Customer    17.0%\n",
      "                          Existing Customer    83.0%\n",
      "4                         Attrited Customer    12.0%\n",
      "                          Existing Customer    88.0%\n",
      "5                         Attrited Customer    12.0%\n",
      "                          Existing Customer    88.0%\n",
      "6                         Attrited Customer    11.0%\n",
      "                          Existing Customer    89.0%\n",
      "dtype: object\n"
     ]
    }
   ],
   "source": [
    "groupby_Total_Relationship = df.groupby(['Total_Relationship_Count', 'Attrition_Flag'])[\"CLIENTNUM\"].count()\n",
    "porcentajes_Total_Relationship = groupby_Total_Relationship / df.groupby(\"Total_Relationship_Count\").size() * 100\n",
    "porcentajes_Total_Relationship_round = porcentajes_Total_Relationship.round(0)\n",
    "porcentajes_Total_Relationship_format = porcentajes_Total_Relationship_round.map(lambda x: f\"{x}%\")\n",
    "print(\"Porcentajes:\")\n",
    "print(porcentajes_Total_Relationship_format)"
   ]
  },
  {
   "cell_type": "markdown",
   "metadata": {
    "id": "rrd4OO0dnbv4"
   },
   "source": [
    " Efectivamente, a medida que aumenta la cantidad de productos adquiridos, el porcentaje de abandono baja, del 26% cuando solo adquirió 1 producto, al 11% cuando adquirió 6 productos. Podemos dar por válida la hipótesis planteada."
   ]
  },
  {
   "cell_type": "markdown",
   "metadata": {
    "id": "AWqIwOyj1zYw"
   },
   "source": [
    "# Insights y Recomendaciones\n",
    "En base a las observaciones realizadas al demostrar la validez o rechazo de las hipótesis planteadas, podemos realizar las siguientes recomendaciones al equipo de marketing del banco:\n",
    "\n",
    "1)\tDada la alta correlación entre la cantidad de contactos realizados por el cliente con la institución y la tasa de abandono, se recomienda investigar a qué corresponden dichos contactos, esto es, si se tratan de reclamos, consultas, pedido de mejora o de adquisición de algún nuevo producto por ejemplo y prestar suma atención en la resolución de dichos “reclamos/consultas” cuando la cantidad de contactos realizados por el cliente supere las 3 veces.\n",
    "\n",
    "2)\tEstá claro que la fidelidad del cliente aumenta en la medida que más productos del banco adquiere, por lo que se recomienda realizar campañas de promoción para adquirir nuevos productos, no solo a los clientes detectados de acuerdo al punto anterior para evitar su abandono sino también a aquellos de mayores ingresos y/o con muchos meses de inactividad para fidelizarlos a largo plazo e incentivar un mayor nivel de consumo.\n",
    "\n",
    "3) Si bien no se pudo demostrar que el no elevar de categoría de tarjeta a los clientes de mayores ingresos significara una mayor tasa de abandono, llama la atención que practicamente no hubiera diferencias entre los tipos de tarjetas asignados a cada segmento. Asignar tarjetas de mayor valor percibido por el cliente, bien podría ser una de las campañas mencionadas en el punto anterior con foco en los clientes de mayores ingresos.\n",
    "\n",
    "4) En contraste con lo mencionado en el punto anterior, parecería que asignar tarjetas de mayor categoría a los clientes de menores ingresos podría resultar en una mayor tasa de abandono de los mismos."
   ]
  },
  {
   "cell_type": "markdown",
   "metadata": {
    "id": "1rTxbWoplPBZ"
   },
   "source": [
    "## Avances"
   ]
  },
  {
   "cell_type": "markdown",
   "metadata": {
    "id": "M47IfE6PlPWq"
   },
   "source": [
    "- Definicion de objetivo: Clasificacion de si es probable que un cliente abandone el banco. \n",
    "- Contexto Comercial:\n",
    "- Problema Comercial:\n",
    "- Contexto Analitico:\n",
    "- Exploratory Data Analisis:"
   ]
  },
  {
   "cell_type": "markdown",
   "metadata": {
    "id": "Xj4YT8wTamav"
   },
   "source": [
    "# Modelos de Machine Learning"
   ]
  },
  {
   "cell_type": "markdown",
   "metadata": {
    "id": "pGwtwR40oscf"
   },
   "source": [
    "A continuación trabajaremos sobre las variables del dataset para adaptarlo y prepararlo para correr distintos modelos de Machine Learning y finalmente evaluar cuál es el que mejor podría predecir posibles casos de abandono de clientes y así brindar al equipo de marketing del banco una eficiente herramienta de predicción automatizada."
   ]
  },
  {
   "cell_type": "markdown",
   "metadata": {
    "id": "mbw4YRJXvXe0"
   },
   "source": [
    "## Feature Engineering\n"
   ]
  },
  {
   "cell_type": "markdown",
   "metadata": {
    "id": "7WWiuxoXp6m4"
   },
   "source": [
    "En este apartado modificaremos los valores de los campos de nivel de educación y categoría de tarjeta de forma que tengan menos valores únicos, sin perder representatividad, y así otorgarle más eficiencia a los modelos de ML que ejecutaremos."
   ]
  },
  {
   "cell_type": "code",
   "execution_count": 40,
   "metadata": {
    "colab": {
     "base_uri": "https://localhost:8080/",
     "height": 423
    },
    "executionInfo": {
     "elapsed": 10,
     "status": "ok",
     "timestamp": 1672625082374,
     "user": {
      "displayName": "Pedro Ignacio Saravia",
      "userId": "08573639063922177054"
     },
     "user_tz": 180
    },
    "id": "Z4m7XZ4IvZ97",
    "outputId": "f703c560-bc28-4b4e-8b92-b96d2889cf74"
   },
   "outputs": [
    {
     "data": {
      "text/html": [
       "<div>\n",
       "<style scoped>\n",
       "    .dataframe tbody tr th:only-of-type {\n",
       "        vertical-align: middle;\n",
       "    }\n",
       "\n",
       "    .dataframe tbody tr th {\n",
       "        vertical-align: top;\n",
       "    }\n",
       "\n",
       "    .dataframe thead th {\n",
       "        text-align: right;\n",
       "    }\n",
       "</style>\n",
       "<table border=\"1\" class=\"dataframe\">\n",
       "  <thead>\n",
       "    <tr style=\"text-align: right;\">\n",
       "      <th></th>\n",
       "      <th>Education_Level</th>\n",
       "      <th>Card_Category</th>\n",
       "    </tr>\n",
       "  </thead>\n",
       "  <tbody>\n",
       "    <tr>\n",
       "      <th>0</th>\n",
       "      <td>High School</td>\n",
       "      <td>Blue</td>\n",
       "    </tr>\n",
       "    <tr>\n",
       "      <th>1</th>\n",
       "      <td>Graduate</td>\n",
       "      <td>Blue</td>\n",
       "    </tr>\n",
       "    <tr>\n",
       "      <th>2</th>\n",
       "      <td>Graduate</td>\n",
       "      <td>Blue</td>\n",
       "    </tr>\n",
       "    <tr>\n",
       "      <th>3</th>\n",
       "      <td>High School</td>\n",
       "      <td>Blue</td>\n",
       "    </tr>\n",
       "    <tr>\n",
       "      <th>4</th>\n",
       "      <td>Uneducated</td>\n",
       "      <td>Blue</td>\n",
       "    </tr>\n",
       "    <tr>\n",
       "      <th>...</th>\n",
       "      <td>...</td>\n",
       "      <td>...</td>\n",
       "    </tr>\n",
       "    <tr>\n",
       "      <th>10122</th>\n",
       "      <td>Graduate</td>\n",
       "      <td>Blue</td>\n",
       "    </tr>\n",
       "    <tr>\n",
       "      <th>10123</th>\n",
       "      <td>Graduate</td>\n",
       "      <td>Blue</td>\n",
       "    </tr>\n",
       "    <tr>\n",
       "      <th>10124</th>\n",
       "      <td>High School</td>\n",
       "      <td>Blue</td>\n",
       "    </tr>\n",
       "    <tr>\n",
       "      <th>10125</th>\n",
       "      <td>Graduate</td>\n",
       "      <td>Blue</td>\n",
       "    </tr>\n",
       "    <tr>\n",
       "      <th>10126</th>\n",
       "      <td>Graduate</td>\n",
       "      <td>Silver</td>\n",
       "    </tr>\n",
       "  </tbody>\n",
       "</table>\n",
       "<p>10127 rows × 2 columns</p>\n",
       "</div>"
      ],
      "text/plain": [
       "      Education_Level Card_Category\n",
       "0         High School          Blue\n",
       "1            Graduate          Blue\n",
       "2            Graduate          Blue\n",
       "3         High School          Blue\n",
       "4          Uneducated          Blue\n",
       "...               ...           ...\n",
       "10122        Graduate          Blue\n",
       "10123        Graduate          Blue\n",
       "10124     High School          Blue\n",
       "10125        Graduate          Blue\n",
       "10126        Graduate        Silver\n",
       "\n",
       "[10127 rows x 2 columns]"
      ]
     },
     "execution_count": 40,
     "metadata": {},
     "output_type": "execute_result"
    }
   ],
   "source": [
    "df[[\"Education_Level\", \"Card_Category\"]]"
   ]
  },
  {
   "cell_type": "code",
   "execution_count": 41,
   "metadata": {
    "executionInfo": {
     "elapsed": 9,
     "status": "ok",
     "timestamp": 1672625082374,
     "user": {
      "displayName": "Pedro Ignacio Saravia",
      "userId": "08573639063922177054"
     },
     "user_tz": 180
    },
    "id": "eeVOWOwkTGge"
   },
   "outputs": [],
   "source": [
    "# Agruparemos en menos categorías las correspondientes al nivel de educación (Education_Level) para una segmentación más eficiente de los clientes\n",
    "df['Education_Level_Grouped'] =  np.where(df['Education_Level']=='Uneducated', 'Uneducated', \n",
    "                                np.where(df['Education_Level']=='High School', \"High School\",\"Graduate or Superior level\"))"
   ]
  },
  {
   "cell_type": "code",
   "execution_count": 42,
   "metadata": {
    "executionInfo": {
     "elapsed": 9,
     "status": "ok",
     "timestamp": 1672625082374,
     "user": {
      "displayName": "Pedro Ignacio Saravia",
      "userId": "08573639063922177054"
     },
     "user_tz": 180
    },
    "id": "mygxopPWIM46"
   },
   "outputs": [],
   "source": [
    "# Agruparemos también en menos categorías las correspondientes al tipo de tarjeta de crédito asignada (Card_Category) para una segmentación más eficiente de los clientes\n",
    "df['Card_Category_Grouped'] =  np.where(df['Card_Category']=='Blue', 'Standar', \n",
    "                                np.where(df['Card_Category']=='Silver', \"Standar\",\"Premium\"))"
   ]
  },
  {
   "cell_type": "code",
   "execution_count": 43,
   "metadata": {
    "colab": {
     "base_uri": "https://localhost:8080/",
     "height": 423
    },
    "executionInfo": {
     "elapsed": 10,
     "status": "ok",
     "timestamp": 1672625082375,
     "user": {
      "displayName": "Pedro Ignacio Saravia",
      "userId": "08573639063922177054"
     },
     "user_tz": 180
    },
    "id": "wmGGEwaervxV",
    "outputId": "f030b9fc-ee5f-4411-da31-e1930c855bd2"
   },
   "outputs": [
    {
     "data": {
      "text/html": [
       "<div>\n",
       "<style scoped>\n",
       "    .dataframe tbody tr th:only-of-type {\n",
       "        vertical-align: middle;\n",
       "    }\n",
       "\n",
       "    .dataframe tbody tr th {\n",
       "        vertical-align: top;\n",
       "    }\n",
       "\n",
       "    .dataframe thead th {\n",
       "        text-align: right;\n",
       "    }\n",
       "</style>\n",
       "<table border=\"1\" class=\"dataframe\">\n",
       "  <thead>\n",
       "    <tr style=\"text-align: right;\">\n",
       "      <th></th>\n",
       "      <th>Education_Level</th>\n",
       "      <th>Education_Level_Grouped</th>\n",
       "      <th>Card_Category</th>\n",
       "      <th>Card_Category_Grouped</th>\n",
       "    </tr>\n",
       "  </thead>\n",
       "  <tbody>\n",
       "    <tr>\n",
       "      <th>0</th>\n",
       "      <td>High School</td>\n",
       "      <td>High School</td>\n",
       "      <td>Blue</td>\n",
       "      <td>Standar</td>\n",
       "    </tr>\n",
       "    <tr>\n",
       "      <th>1</th>\n",
       "      <td>Graduate</td>\n",
       "      <td>Graduate or Superior level</td>\n",
       "      <td>Blue</td>\n",
       "      <td>Standar</td>\n",
       "    </tr>\n",
       "    <tr>\n",
       "      <th>2</th>\n",
       "      <td>Graduate</td>\n",
       "      <td>Graduate or Superior level</td>\n",
       "      <td>Blue</td>\n",
       "      <td>Standar</td>\n",
       "    </tr>\n",
       "    <tr>\n",
       "      <th>3</th>\n",
       "      <td>High School</td>\n",
       "      <td>High School</td>\n",
       "      <td>Blue</td>\n",
       "      <td>Standar</td>\n",
       "    </tr>\n",
       "    <tr>\n",
       "      <th>4</th>\n",
       "      <td>Uneducated</td>\n",
       "      <td>Uneducated</td>\n",
       "      <td>Blue</td>\n",
       "      <td>Standar</td>\n",
       "    </tr>\n",
       "    <tr>\n",
       "      <th>...</th>\n",
       "      <td>...</td>\n",
       "      <td>...</td>\n",
       "      <td>...</td>\n",
       "      <td>...</td>\n",
       "    </tr>\n",
       "    <tr>\n",
       "      <th>10122</th>\n",
       "      <td>Graduate</td>\n",
       "      <td>Graduate or Superior level</td>\n",
       "      <td>Blue</td>\n",
       "      <td>Standar</td>\n",
       "    </tr>\n",
       "    <tr>\n",
       "      <th>10123</th>\n",
       "      <td>Graduate</td>\n",
       "      <td>Graduate or Superior level</td>\n",
       "      <td>Blue</td>\n",
       "      <td>Standar</td>\n",
       "    </tr>\n",
       "    <tr>\n",
       "      <th>10124</th>\n",
       "      <td>High School</td>\n",
       "      <td>High School</td>\n",
       "      <td>Blue</td>\n",
       "      <td>Standar</td>\n",
       "    </tr>\n",
       "    <tr>\n",
       "      <th>10125</th>\n",
       "      <td>Graduate</td>\n",
       "      <td>Graduate or Superior level</td>\n",
       "      <td>Blue</td>\n",
       "      <td>Standar</td>\n",
       "    </tr>\n",
       "    <tr>\n",
       "      <th>10126</th>\n",
       "      <td>Graduate</td>\n",
       "      <td>Graduate or Superior level</td>\n",
       "      <td>Silver</td>\n",
       "      <td>Standar</td>\n",
       "    </tr>\n",
       "  </tbody>\n",
       "</table>\n",
       "<p>10127 rows × 4 columns</p>\n",
       "</div>"
      ],
      "text/plain": [
       "      Education_Level     Education_Level_Grouped Card_Category  \\\n",
       "0         High School                 High School          Blue   \n",
       "1            Graduate  Graduate or Superior level          Blue   \n",
       "2            Graduate  Graduate or Superior level          Blue   \n",
       "3         High School                 High School          Blue   \n",
       "4          Uneducated                  Uneducated          Blue   \n",
       "...               ...                         ...           ...   \n",
       "10122        Graduate  Graduate or Superior level          Blue   \n",
       "10123        Graduate  Graduate or Superior level          Blue   \n",
       "10124     High School                 High School          Blue   \n",
       "10125        Graduate  Graduate or Superior level          Blue   \n",
       "10126        Graduate  Graduate or Superior level        Silver   \n",
       "\n",
       "      Card_Category_Grouped  \n",
       "0                   Standar  \n",
       "1                   Standar  \n",
       "2                   Standar  \n",
       "3                   Standar  \n",
       "4                   Standar  \n",
       "...                     ...  \n",
       "10122               Standar  \n",
       "10123               Standar  \n",
       "10124               Standar  \n",
       "10125               Standar  \n",
       "10126               Standar  \n",
       "\n",
       "[10127 rows x 4 columns]"
      ]
     },
     "execution_count": 43,
     "metadata": {},
     "output_type": "execute_result"
    }
   ],
   "source": [
    "# Comprobamos que se hayan hecho los agrupamientos\n",
    "df[[\"Education_Level\", 'Education_Level_Grouped', \"Card_Category\", 'Card_Category_Grouped']]"
   ]
  },
  {
   "cell_type": "markdown",
   "metadata": {
    "id": "FP5qcgqDVaP2"
   },
   "source": [
    "## Encoding"
   ]
  },
  {
   "cell_type": "markdown",
   "metadata": {
    "id": "cdO0fhiosWvw"
   },
   "source": [
    "A continuación realizaremos el encoding de las variables con datos categóricos y eliminaremos las columnas contrastantes cuando fueron variable de dos valores y aquellas para las cuales ya se habían creado columnas tipo interger:"
   ]
  },
  {
   "cell_type": "code",
   "execution_count": 44,
   "metadata": {
    "colab": {
     "base_uri": "https://localhost:8080/",
     "height": 317
    },
    "executionInfo": {
     "elapsed": 9,
     "status": "ok",
     "timestamp": 1672625082375,
     "user": {
      "displayName": "Pedro Ignacio Saravia",
      "userId": "08573639063922177054"
     },
     "user_tz": 180
    },
    "id": "M6iSeY9Tvfxc",
    "outputId": "c392758f-a316-48c2-830b-dec5ad718a7e"
   },
   "outputs": [
    {
     "data": {
      "text/html": [
       "<div>\n",
       "<style scoped>\n",
       "    .dataframe tbody tr th:only-of-type {\n",
       "        vertical-align: middle;\n",
       "    }\n",
       "\n",
       "    .dataframe tbody tr th {\n",
       "        vertical-align: top;\n",
       "    }\n",
       "\n",
       "    .dataframe thead th {\n",
       "        text-align: right;\n",
       "    }\n",
       "</style>\n",
       "<table border=\"1\" class=\"dataframe\">\n",
       "  <thead>\n",
       "    <tr style=\"text-align: right;\">\n",
       "      <th></th>\n",
       "      <th>Dependent_count</th>\n",
       "      <th>Months_on_book</th>\n",
       "      <th>Total_Relationship_Count</th>\n",
       "      <th>Months_Inactive_12_mon</th>\n",
       "      <th>Contacts_Count_12_mon</th>\n",
       "      <th>Credit_Limit</th>\n",
       "      <th>Total_Revolving_Bal</th>\n",
       "      <th>Avg_Open_To_Buy</th>\n",
       "      <th>Total_Amt_Chng_Q4_Q1</th>\n",
       "      <th>Total_Trans_Amt</th>\n",
       "      <th>...</th>\n",
       "      <th>birth_year</th>\n",
       "      <th>Income_Category_Value</th>\n",
       "      <th>Education_Level_Grouped_Graduate or Superior level</th>\n",
       "      <th>Education_Level_Grouped_High School</th>\n",
       "      <th>Education_Level_Grouped_Uneducated</th>\n",
       "      <th>Marital_Status_Divorced</th>\n",
       "      <th>Marital_Status_Married</th>\n",
       "      <th>Marital_Status_Single</th>\n",
       "      <th>Gender_M</th>\n",
       "      <th>Card_Category_Grouped_Premium</th>\n",
       "    </tr>\n",
       "  </thead>\n",
       "  <tbody>\n",
       "    <tr>\n",
       "      <th>0</th>\n",
       "      <td>3</td>\n",
       "      <td>39</td>\n",
       "      <td>5</td>\n",
       "      <td>1</td>\n",
       "      <td>3</td>\n",
       "      <td>12691.0</td>\n",
       "      <td>777</td>\n",
       "      <td>11914.0</td>\n",
       "      <td>1.335</td>\n",
       "      <td>1144</td>\n",
       "      <td>...</td>\n",
       "      <td>1978</td>\n",
       "      <td>3</td>\n",
       "      <td>0</td>\n",
       "      <td>1</td>\n",
       "      <td>0</td>\n",
       "      <td>0</td>\n",
       "      <td>1</td>\n",
       "      <td>0</td>\n",
       "      <td>1</td>\n",
       "      <td>0</td>\n",
       "    </tr>\n",
       "    <tr>\n",
       "      <th>1</th>\n",
       "      <td>5</td>\n",
       "      <td>44</td>\n",
       "      <td>6</td>\n",
       "      <td>1</td>\n",
       "      <td>2</td>\n",
       "      <td>8256.0</td>\n",
       "      <td>864</td>\n",
       "      <td>7392.0</td>\n",
       "      <td>1.541</td>\n",
       "      <td>1291</td>\n",
       "      <td>...</td>\n",
       "      <td>1974</td>\n",
       "      <td>1</td>\n",
       "      <td>1</td>\n",
       "      <td>0</td>\n",
       "      <td>0</td>\n",
       "      <td>0</td>\n",
       "      <td>0</td>\n",
       "      <td>1</td>\n",
       "      <td>0</td>\n",
       "      <td>0</td>\n",
       "    </tr>\n",
       "    <tr>\n",
       "      <th>2</th>\n",
       "      <td>3</td>\n",
       "      <td>36</td>\n",
       "      <td>4</td>\n",
       "      <td>1</td>\n",
       "      <td>0</td>\n",
       "      <td>3418.0</td>\n",
       "      <td>0</td>\n",
       "      <td>3418.0</td>\n",
       "      <td>2.594</td>\n",
       "      <td>1887</td>\n",
       "      <td>...</td>\n",
       "      <td>1972</td>\n",
       "      <td>4</td>\n",
       "      <td>1</td>\n",
       "      <td>0</td>\n",
       "      <td>0</td>\n",
       "      <td>0</td>\n",
       "      <td>1</td>\n",
       "      <td>0</td>\n",
       "      <td>1</td>\n",
       "      <td>0</td>\n",
       "    </tr>\n",
       "    <tr>\n",
       "      <th>3</th>\n",
       "      <td>4</td>\n",
       "      <td>34</td>\n",
       "      <td>3</td>\n",
       "      <td>4</td>\n",
       "      <td>1</td>\n",
       "      <td>3313.0</td>\n",
       "      <td>2517</td>\n",
       "      <td>796.0</td>\n",
       "      <td>1.405</td>\n",
       "      <td>1171</td>\n",
       "      <td>...</td>\n",
       "      <td>1983</td>\n",
       "      <td>1</td>\n",
       "      <td>0</td>\n",
       "      <td>1</td>\n",
       "      <td>0</td>\n",
       "      <td>0</td>\n",
       "      <td>1</td>\n",
       "      <td>0</td>\n",
       "      <td>0</td>\n",
       "      <td>0</td>\n",
       "    </tr>\n",
       "    <tr>\n",
       "      <th>4</th>\n",
       "      <td>3</td>\n",
       "      <td>21</td>\n",
       "      <td>5</td>\n",
       "      <td>1</td>\n",
       "      <td>0</td>\n",
       "      <td>4716.0</td>\n",
       "      <td>0</td>\n",
       "      <td>4716.0</td>\n",
       "      <td>2.175</td>\n",
       "      <td>816</td>\n",
       "      <td>...</td>\n",
       "      <td>1983</td>\n",
       "      <td>3</td>\n",
       "      <td>0</td>\n",
       "      <td>0</td>\n",
       "      <td>1</td>\n",
       "      <td>0</td>\n",
       "      <td>1</td>\n",
       "      <td>0</td>\n",
       "      <td>1</td>\n",
       "      <td>0</td>\n",
       "    </tr>\n",
       "  </tbody>\n",
       "</table>\n",
       "<p>5 rows × 24 columns</p>\n",
       "</div>"
      ],
      "text/plain": [
       "   Dependent_count  Months_on_book  Total_Relationship_Count  \\\n",
       "0                3              39                         5   \n",
       "1                5              44                         6   \n",
       "2                3              36                         4   \n",
       "3                4              34                         3   \n",
       "4                3              21                         5   \n",
       "\n",
       "   Months_Inactive_12_mon  Contacts_Count_12_mon  Credit_Limit  \\\n",
       "0                       1                      3       12691.0   \n",
       "1                       1                      2        8256.0   \n",
       "2                       1                      0        3418.0   \n",
       "3                       4                      1        3313.0   \n",
       "4                       1                      0        4716.0   \n",
       "\n",
       "   Total_Revolving_Bal  Avg_Open_To_Buy  Total_Amt_Chng_Q4_Q1  \\\n",
       "0                  777          11914.0                 1.335   \n",
       "1                  864           7392.0                 1.541   \n",
       "2                    0           3418.0                 2.594   \n",
       "3                 2517            796.0                 1.405   \n",
       "4                    0           4716.0                 2.175   \n",
       "\n",
       "   Total_Trans_Amt  ...  birth_year  Income_Category_Value  \\\n",
       "0             1144  ...        1978                      3   \n",
       "1             1291  ...        1974                      1   \n",
       "2             1887  ...        1972                      4   \n",
       "3             1171  ...        1983                      1   \n",
       "4              816  ...        1983                      3   \n",
       "\n",
       "   Education_Level_Grouped_Graduate or Superior level  \\\n",
       "0                                                  0    \n",
       "1                                                  1    \n",
       "2                                                  1    \n",
       "3                                                  0    \n",
       "4                                                  0    \n",
       "\n",
       "   Education_Level_Grouped_High School  Education_Level_Grouped_Uneducated  \\\n",
       "0                                    1                                   0   \n",
       "1                                    0                                   0   \n",
       "2                                    0                                   0   \n",
       "3                                    1                                   0   \n",
       "4                                    0                                   1   \n",
       "\n",
       "   Marital_Status_Divorced  Marital_Status_Married  Marital_Status_Single  \\\n",
       "0                        0                       1                      0   \n",
       "1                        0                       0                      1   \n",
       "2                        0                       1                      0   \n",
       "3                        0                       1                      0   \n",
       "4                        0                       1                      0   \n",
       "\n",
       "   Gender_M  Card_Category_Grouped_Premium  \n",
       "0         1                              0  \n",
       "1         0                              0  \n",
       "2         1                              0  \n",
       "3         0                              0  \n",
       "4         1                              0  \n",
       "\n",
       "[5 rows x 24 columns]"
      ]
     },
     "execution_count": 44,
     "metadata": {},
     "output_type": "execute_result"
    }
   ],
   "source": [
    "df_Clasificacion = pd.get_dummies(df, columns=['Education_Level_Grouped', 'Marital_Status', 'Gender', 'Card_Category_Grouped'])\n",
    "df_Clasificacion.drop(columns=['CLIENTNUM','Education_Level', 'Attrition_Flag', 'Income_Category','Card_Category', 'Card_Category_Grouped_Standar', 'Gender_F', 'Customer_Age'], inplace=True)  \n",
    "df_Clasificacion.head()"
   ]
  },
  {
   "cell_type": "code",
   "execution_count": 45,
   "metadata": {
    "colab": {
     "base_uri": "https://localhost:8080/"
    },
    "executionInfo": {
     "elapsed": 302,
     "status": "ok",
     "timestamp": 1672625082668,
     "user": {
      "displayName": "Pedro Ignacio Saravia",
      "userId": "08573639063922177054"
     },
     "user_tz": 180
    },
    "id": "MejfwuDkyWlT",
    "outputId": "5daffa47-0c27-45d1-837e-f89766a746d5"
   },
   "outputs": [
    {
     "name": "stdout",
     "output_type": "stream",
     "text": [
      "<class 'pandas.core.frame.DataFrame'>\n",
      "RangeIndex: 10127 entries, 0 to 10126\n",
      "Data columns (total 24 columns):\n",
      " #   Column                                              Non-Null Count  Dtype  \n",
      "---  ------                                              --------------  -----  \n",
      " 0   Dependent_count                                     10127 non-null  int64  \n",
      " 1   Months_on_book                                      10127 non-null  int64  \n",
      " 2   Total_Relationship_Count                            10127 non-null  int64  \n",
      " 3   Months_Inactive_12_mon                              10127 non-null  int64  \n",
      " 4   Contacts_Count_12_mon                               10127 non-null  int64  \n",
      " 5   Credit_Limit                                        10127 non-null  float64\n",
      " 6   Total_Revolving_Bal                                 10127 non-null  int64  \n",
      " 7   Avg_Open_To_Buy                                     10127 non-null  float64\n",
      " 8   Total_Amt_Chng_Q4_Q1                                10127 non-null  float64\n",
      " 9   Total_Trans_Amt                                     10127 non-null  int64  \n",
      " 10  Total_Trans_Ct                                      10127 non-null  int64  \n",
      " 11  Total_Ct_Chng_Q4_Q1                                 10127 non-null  float64\n",
      " 12  Avg_Utilization_Ratio                               10127 non-null  float64\n",
      " 13  Attrition_Flag_Value                                10127 non-null  int32  \n",
      " 14  birth_year                                          10127 non-null  int32  \n",
      " 15  Income_Category_Value                               10127 non-null  int32  \n",
      " 16  Education_Level_Grouped_Graduate or Superior level  10127 non-null  uint8  \n",
      " 17  Education_Level_Grouped_High School                 10127 non-null  uint8  \n",
      " 18  Education_Level_Grouped_Uneducated                  10127 non-null  uint8  \n",
      " 19  Marital_Status_Divorced                             10127 non-null  uint8  \n",
      " 20  Marital_Status_Married                              10127 non-null  uint8  \n",
      " 21  Marital_Status_Single                               10127 non-null  uint8  \n",
      " 22  Gender_M                                            10127 non-null  uint8  \n",
      " 23  Card_Category_Grouped_Premium                       10127 non-null  uint8  \n",
      "dtypes: float64(5), int32(3), int64(8), uint8(8)\n",
      "memory usage: 1.2 MB\n"
     ]
    }
   ],
   "source": [
    "df_Clasificacion.info()"
   ]
  },
  {
   "cell_type": "markdown",
   "metadata": {
    "id": "BrfkDyfIzSSr"
   },
   "source": [
    "## Feature Selection"
   ]
  },
  {
   "cell_type": "markdown",
   "metadata": {
    "id": "JReRgGoDbMxs"
   },
   "source": [
    "### A continuación procederemos a realizar la selección de las variables más efectivas para nuestro modelo y de esta forma descartar aquellas que no le aportan resultados significativos con el fin de hacerlo más eficiente y evitar también problemas de sobre entrenamiento de los datos (over fitting). Dado que no estamos tratando con un volumen de características sobredimensionado, entendemos que utilizar el método de eliminación bidireccional (stepwise) puede ser la mejor solución:"
   ]
  },
  {
   "cell_type": "code",
   "execution_count": 46,
   "metadata": {
    "executionInfo": {
     "elapsed": 5,
     "status": "ok",
     "timestamp": 1672625082668,
     "user": {
      "displayName": "Pedro Ignacio Saravia",
      "userId": "08573639063922177054"
     },
     "user_tz": 180
    },
    "id": "p6hkZ0ETOLPR"
   },
   "outputs": [],
   "source": [
    "X=df_Clasificacion.drop(['Attrition_Flag_Value'],axis=1) #seleccionamos el dataset excepto la variable target Attrition_Flag_Value\n",
    "y=df_Clasificacion['Attrition_Flag_Value'] #seleccionamos solo la variable target Attrition_Flag_Value"
   ]
  },
  {
   "cell_type": "code",
   "execution_count": 47,
   "metadata": {
    "executionInfo": {
     "elapsed": 1115,
     "status": "ok",
     "timestamp": 1672625312582,
     "user": {
      "displayName": "Pedro Ignacio Saravia",
      "userId": "08573639063922177054"
     },
     "user_tz": 180
    },
    "id": "hQ52Q2mcbL0v"
   },
   "outputs": [],
   "source": [
    "# Creamos una función para que realice este proceso.\n",
    "# la función necesita cuatro parametros y minimamente dos, data y target\n",
    "# el tercero y cuarto es opcional, si no se da se toman los valores predefinidos\n",
    "\n",
    "import statsmodels.api as sm\n",
    "\n",
    "def stepwise_selection(data, target,SL_in=0.05,SL_out = 0.05):\n",
    "    initial_features = data.columns.tolist()\n",
    "    best_features = []\n",
    "    while (len(initial_features)>0):\n",
    "        remaining_features = list(set(initial_features)-set(best_features))\n",
    "        new_pval = pd.Series(index=remaining_features)\n",
    "        for new_column in remaining_features:\n",
    "            model = sm.OLS(target, sm.add_constant(data[best_features+[new_column]])).fit()\n",
    "            new_pval[new_column] = model.pvalues[new_column]\n",
    "        min_p_value = new_pval.min()\n",
    "        if(min_p_value<SL_in):\n",
    "            best_features.append(new_pval.idxmin())\n",
    "            while(len(best_features)>0):\n",
    "                best_features_with_constant = sm.add_constant(data[best_features])\n",
    "                p_values = sm.OLS(target, best_features_with_constant).fit().pvalues[1:]\n",
    "                max_p_value = p_values.max()\n",
    "                if(max_p_value >= SL_out):\n",
    "                    excluded_feature = p_values.idxmax()\n",
    "                    best_features.remove(excluded_feature)\n",
    "                else:\n",
    "                    break \n",
    "        else:\n",
    "            break\n",
    "    return best_features"
   ]
  },
  {
   "cell_type": "code",
   "execution_count": 48,
   "metadata": {
    "colab": {
     "base_uri": "https://localhost:8080/"
    },
    "executionInfo": {
     "elapsed": 3593,
     "status": "ok",
     "timestamp": 1672625318861,
     "user": {
      "displayName": "Pedro Ignacio Saravia",
      "userId": "08573639063922177054"
     },
     "user_tz": 180
    },
    "id": "x5dLqxF9bdoZ",
    "outputId": "20145de4-9cc2-436a-ce85-ea0107ff84dc"
   },
   "outputs": [
    {
     "name": "stderr",
     "output_type": "stream",
     "text": [
      "<ipython-input-47-c881b63c1ead>:12: DeprecationWarning: The default dtype for empty Series will be 'object' instead of 'float64' in a future version. Specify a dtype explicitly to silence this warning.\n",
      "  new_pval = pd.Series(index=remaining_features)\n",
      "<ipython-input-47-c881b63c1ead>:12: DeprecationWarning: The default dtype for empty Series will be 'object' instead of 'float64' in a future version. Specify a dtype explicitly to silence this warning.\n",
      "  new_pval = pd.Series(index=remaining_features)\n",
      "<ipython-input-47-c881b63c1ead>:12: DeprecationWarning: The default dtype for empty Series will be 'object' instead of 'float64' in a future version. Specify a dtype explicitly to silence this warning.\n",
      "  new_pval = pd.Series(index=remaining_features)\n",
      "<ipython-input-47-c881b63c1ead>:12: DeprecationWarning: The default dtype for empty Series will be 'object' instead of 'float64' in a future version. Specify a dtype explicitly to silence this warning.\n",
      "  new_pval = pd.Series(index=remaining_features)\n",
      "<ipython-input-47-c881b63c1ead>:12: DeprecationWarning: The default dtype for empty Series will be 'object' instead of 'float64' in a future version. Specify a dtype explicitly to silence this warning.\n",
      "  new_pval = pd.Series(index=remaining_features)\n",
      "<ipython-input-47-c881b63c1ead>:12: DeprecationWarning: The default dtype for empty Series will be 'object' instead of 'float64' in a future version. Specify a dtype explicitly to silence this warning.\n",
      "  new_pval = pd.Series(index=remaining_features)\n",
      "<ipython-input-47-c881b63c1ead>:12: DeprecationWarning: The default dtype for empty Series will be 'object' instead of 'float64' in a future version. Specify a dtype explicitly to silence this warning.\n",
      "  new_pval = pd.Series(index=remaining_features)\n",
      "<ipython-input-47-c881b63c1ead>:12: DeprecationWarning: The default dtype for empty Series will be 'object' instead of 'float64' in a future version. Specify a dtype explicitly to silence this warning.\n",
      "  new_pval = pd.Series(index=remaining_features)\n",
      "<ipython-input-47-c881b63c1ead>:12: DeprecationWarning: The default dtype for empty Series will be 'object' instead of 'float64' in a future version. Specify a dtype explicitly to silence this warning.\n",
      "  new_pval = pd.Series(index=remaining_features)\n",
      "<ipython-input-47-c881b63c1ead>:12: DeprecationWarning: The default dtype for empty Series will be 'object' instead of 'float64' in a future version. Specify a dtype explicitly to silence this warning.\n",
      "  new_pval = pd.Series(index=remaining_features)\n",
      "<ipython-input-47-c881b63c1ead>:12: DeprecationWarning: The default dtype for empty Series will be 'object' instead of 'float64' in a future version. Specify a dtype explicitly to silence this warning.\n",
      "  new_pval = pd.Series(index=remaining_features)\n",
      "<ipython-input-47-c881b63c1ead>:12: DeprecationWarning: The default dtype for empty Series will be 'object' instead of 'float64' in a future version. Specify a dtype explicitly to silence this warning.\n",
      "  new_pval = pd.Series(index=remaining_features)\n",
      "<ipython-input-47-c881b63c1ead>:12: DeprecationWarning: The default dtype for empty Series will be 'object' instead of 'float64' in a future version. Specify a dtype explicitly to silence this warning.\n",
      "  new_pval = pd.Series(index=remaining_features)\n",
      "<ipython-input-47-c881b63c1ead>:12: DeprecationWarning: The default dtype for empty Series will be 'object' instead of 'float64' in a future version. Specify a dtype explicitly to silence this warning.\n",
      "  new_pval = pd.Series(index=remaining_features)\n",
      "<ipython-input-47-c881b63c1ead>:12: DeprecationWarning: The default dtype for empty Series will be 'object' instead of 'float64' in a future version. Specify a dtype explicitly to silence this warning.\n",
      "  new_pval = pd.Series(index=remaining_features)\n"
     ]
    },
    {
     "data": {
      "text/plain": [
       "['Total_Trans_Ct',\n",
       " 'Total_Ct_Chng_Q4_Q1',\n",
       " 'Total_Relationship_Count',\n",
       " 'Total_Revolving_Bal',\n",
       " 'Total_Trans_Amt',\n",
       " 'Contacts_Count_12_mon',\n",
       " 'Months_Inactive_12_mon',\n",
       " 'Gender_M',\n",
       " 'Marital_Status_Married',\n",
       " 'Dependent_count',\n",
       " 'Total_Amt_Chng_Q4_Q1',\n",
       " 'Credit_Limit',\n",
       " 'Income_Category_Value',\n",
       " 'Card_Category_Grouped_Premium']"
      ]
     },
     "execution_count": 48,
     "metadata": {},
     "output_type": "execute_result"
    }
   ],
   "source": [
    "stepwise_selection(X,y)"
   ]
  },
  {
   "cell_type": "markdown",
   "metadata": {
    "id": "lBYH0i-qNAyf"
   },
   "source": [
    "Las mejores características para el modelo según el método aplicado entonces son:\n",
    "'Total_Trans_Ct',\n",
    " 'Total_Ct_Chng_Q4_Q1',\n",
    " 'Total_Relationship_Count',\n",
    " 'Total_Revolving_Bal',\n",
    " 'Total_Trans_Amt',\n",
    " 'Contacts_Count_12_mon',\n",
    " 'Months_Inactive_12_mon',\n",
    " 'Gender_M',\n",
    " 'Marital_Status_Married',\n",
    " 'Dependent_count',\n",
    " 'Total_Amt_Chng_Q4_Q1',\n",
    " 'Credit_Limit',\n",
    " 'Income_Category_Value',\n",
    " 'Card_Category_Grouped_Premium'"
   ]
  },
  {
   "cell_type": "code",
   "execution_count": 49,
   "metadata": {
    "executionInfo": {
     "elapsed": 263,
     "status": "ok",
     "timestamp": 1672626090602,
     "user": {
      "displayName": "Pedro Ignacio Saravia",
      "userId": "08573639063922177054"
     },
     "user_tz": 180
    },
    "id": "MW2hkwg6Raq-"
   },
   "outputs": [],
   "source": [
    "# Definimos las variables a conservar:\n",
    "Variables_a_conservar = ['Total_Trans_Ct', 'Total_Ct_Chng_Q4_Q1', 'Total_Relationship_Count', 'Total_Revolving_Bal', 'Total_Trans_Amt', 'Contacts_Count_12_mon',\n",
    "                     'Months_Inactive_12_mon', 'Gender_M', 'Marital_Status_Married', 'Dependent_count', 'Total_Amt_Chng_Q4_Q1', 'Credit_Limit', 'Income_Category_Value',\n",
    "                     'Card_Category_Grouped_Premium']\n",
    "\n",
    "# Eliminamos el resto de las variables:\n",
    "X = X.drop([col for col in X.columns if col not in Variables_a_conservar], axis=1)\n"
   ]
  },
  {
   "cell_type": "code",
   "execution_count": 50,
   "metadata": {
    "colab": {
     "base_uri": "https://localhost:8080/"
    },
    "executionInfo": {
     "elapsed": 293,
     "status": "ok",
     "timestamp": 1672626413327,
     "user": {
      "displayName": "Pedro Ignacio Saravia",
      "userId": "08573639063922177054"
     },
     "user_tz": 180
    },
    "id": "O1hcPvl-SL8Z",
    "outputId": "f29e818e-9c1b-43a7-f297-d0a37b414699"
   },
   "outputs": [
    {
     "data": {
      "text/plain": [
       "Index(['Dependent_count', 'Total_Relationship_Count', 'Months_Inactive_12_mon',\n",
       "       'Contacts_Count_12_mon', 'Credit_Limit', 'Total_Revolving_Bal',\n",
       "       'Total_Amt_Chng_Q4_Q1', 'Total_Trans_Amt', 'Total_Trans_Ct',\n",
       "       'Total_Ct_Chng_Q4_Q1', 'Income_Category_Value',\n",
       "       'Marital_Status_Married', 'Gender_M', 'Card_Category_Grouped_Premium'],\n",
       "      dtype='object')"
      ]
     },
     "execution_count": 50,
     "metadata": {},
     "output_type": "execute_result"
    }
   ],
   "source": [
    "# Verificamos que solo queden las mejores características\n",
    "X.columns"
   ]
  },
  {
   "cell_type": "markdown",
   "metadata": {
    "id": "effdN4ZTy3eZ"
   },
   "source": [
    "## Splitting de dataset"
   ]
  },
  {
   "cell_type": "markdown",
   "metadata": {
    "id": "Lk1kJZ-uzfff"
   },
   "source": [
    "En este apartado realizaremos lo que se denomina el Split del dataset, esto es, dividirlo en datos para entrenamiento y en datos para validación de los resultados obtenidos con dicho entrenamiento. Dado que el dataset incluye solo un 16% de casos de clientes clasificados como perdidos, antes de realizar el split realizaremos un oversampling para balancear la cantidad de datos clasificados como existentes y como perdidos."
   ]
  },
  {
   "cell_type": "code",
   "execution_count": 51,
   "metadata": {
    "executionInfo": {
     "elapsed": 313,
     "status": "ok",
     "timestamp": 1672626464390,
     "user": {
      "displayName": "Pedro Ignacio Saravia",
      "userId": "08573639063922177054"
     },
     "user_tz": 180
    },
    "id": "fGzD18E_yf0a"
   },
   "outputs": [
    {
     "ename": "ModuleNotFoundError",
     "evalue": "No module named 'imblearn'",
     "output_type": "error",
     "traceback": [
      "\u001b[1;31m---------------------------------------------------------------------------\u001b[0m",
      "\u001b[1;31mModuleNotFoundError\u001b[0m                       Traceback (most recent call last)",
      "\u001b[1;32m<ipython-input-51-569a9c9bed1d>\u001b[0m in \u001b[0;36m<module>\u001b[1;34m\u001b[0m\n\u001b[0;32m      1\u001b[0m \u001b[1;31m# Primero importamos la función que nos permitirá hacer el oversampling\u001b[0m\u001b[1;33m\u001b[0m\u001b[1;33m\u001b[0m\u001b[1;33m\u001b[0m\u001b[0m\n\u001b[1;32m----> 2\u001b[1;33m \u001b[1;32mfrom\u001b[0m \u001b[0mimblearn\u001b[0m\u001b[1;33m.\u001b[0m\u001b[0mover_sampling\u001b[0m \u001b[1;32mimport\u001b[0m \u001b[0mRandomOverSampler\u001b[0m\u001b[1;33m\u001b[0m\u001b[1;33m\u001b[0m\u001b[0m\n\u001b[0m\u001b[0;32m      3\u001b[0m \u001b[1;33m\u001b[0m\u001b[0m\n\u001b[0;32m      4\u001b[0m \u001b[1;31m# Hacemos un oversampling para balancear la cantidad de datos target de Attrition_Flag_Value\u001b[0m\u001b[1;33m\u001b[0m\u001b[1;33m\u001b[0m\u001b[1;33m\u001b[0m\u001b[0m\n\u001b[0;32m      5\u001b[0m \u001b[0moversample\u001b[0m \u001b[1;33m=\u001b[0m \u001b[0mRandomOverSampler\u001b[0m\u001b[1;33m(\u001b[0m\u001b[0msampling_strategy\u001b[0m\u001b[1;33m=\u001b[0m\u001b[1;34m'minority'\u001b[0m\u001b[1;33m)\u001b[0m\u001b[1;33m\u001b[0m\u001b[1;33m\u001b[0m\u001b[0m\n",
      "\u001b[1;31mModuleNotFoundError\u001b[0m: No module named 'imblearn'"
     ]
    }
   ],
   "source": [
    "# Primero importamos la función que nos permitirá hacer el oversampling\n",
    "from imblearn.over_sampling import RandomOverSampler\n",
    "\n",
    "# Hacemos un oversampling para balancear la cantidad de datos target de Attrition_Flag_Value\n",
    "oversample = RandomOverSampler(sampling_strategy='minority')\n",
    "X_over, y_over = oversample.fit_resample(X, y) #realizamos el oversampling del dataset para balancear los datos"
   ]
  },
  {
   "cell_type": "markdown",
   "metadata": {
    "id": "YRPHtjfd1C-O"
   },
   "source": [
    "Ahora si podemos proceder a realizar el Split:"
   ]
  },
  {
   "cell_type": "code",
   "execution_count": null,
   "metadata": {
    "colab": {
     "base_uri": "https://localhost:8080/"
    },
    "executionInfo": {
     "elapsed": 341,
     "status": "ok",
     "timestamp": 1672626476469,
     "user": {
      "displayName": "Pedro Ignacio Saravia",
      "userId": "08573639063922177054"
     },
     "user_tz": 180
    },
    "id": "94TvJs3iy9Vy",
    "outputId": "45f306ef-2bea-42ad-ed03-94554a0005c9"
   },
   "outputs": [],
   "source": [
    "from sklearn.model_selection import train_test_split, RandomizedSearchCV\n",
    "X_train, X_test, y_train, y_test = train_test_split(X_over, y_over, test_size= 0.2, random_state= 42) #hacemos el spliting de training y test\n",
    "print(y_train.value_counts())\n",
    "print(y_test.value_counts())"
   ]
  },
  {
   "cell_type": "markdown",
   "metadata": {
    "id": "xEblVDo4f_0W"
   },
   "source": [
    "## Modelado de Machine Learning"
   ]
  },
  {
   "cell_type": "markdown",
   "metadata": {
    "id": "PUgZ8AdQZzIE"
   },
   "source": [
    "A continuación probaremos distintos modelos de Machine Learnig para problemas de clasificación para luego evaluar con cual obtenemos los mejores resultados. Para ello primero importaremos la librería de Scikit-Learn"
   ]
  },
  {
   "cell_type": "code",
   "execution_count": null,
   "metadata": {
    "colab": {
     "base_uri": "https://localhost:8080/"
    },
    "executionInfo": {
     "elapsed": 3318,
     "status": "ok",
     "timestamp": 1672626485962,
     "user": {
      "displayName": "Pedro Ignacio Saravia",
      "userId": "08573639063922177054"
     },
     "user_tz": 180
    },
    "id": "UMt6H5M1gDql",
    "outputId": "d716bad8-1e9a-487f-ebb9-84b541bfef43"
   },
   "outputs": [],
   "source": [
    "!pip install scikit-plot"
   ]
  },
  {
   "cell_type": "code",
   "execution_count": null,
   "metadata": {
    "executionInfo": {
     "elapsed": 5,
     "status": "ok",
     "timestamp": 1672626490235,
     "user": {
      "displayName": "Pedro Ignacio Saravia",
      "userId": "08573639063922177054"
     },
     "user_tz": 180
    },
    "id": "hmjVAX15gIBt"
   },
   "outputs": [],
   "source": [
    "import scikitplot as skplt\n",
    "from sklearn.metrics import accuracy_score, roc_auc_score, roc_curve, classification_report"
   ]
  },
  {
   "cell_type": "markdown",
   "metadata": {
    "id": "0Yaz9axxgLnO"
   },
   "source": [
    "### KNN\n",
    "\n",
    "El primer modelo que probaremos es el de K vecinos más cercanos o KNN por sus siglas en inglés (K Nearest Neighbors)."
   ]
  },
  {
   "cell_type": "code",
   "execution_count": null,
   "metadata": {
    "executionInfo": {
     "elapsed": 685,
     "status": "ok",
     "timestamp": 1672626503714,
     "user": {
      "displayName": "Pedro Ignacio Saravia",
      "userId": "08573639063922177054"
     },
     "user_tz": 180
    },
    "id": "qVi9_MrYgMyn"
   },
   "outputs": [],
   "source": [
    "# Importamos el algoritmo de SKLearn\n",
    "from sklearn.neighbors import KNeighborsClassifier\n",
    "\n",
    "# Asignamos a knn el algoritmo de KNeighborsClassifier\n",
    "knn = KNeighborsClassifier(n_neighbors = 2) \n",
    "\n",
    "# Entrenanoms el modelo knn con las variables en X_train y la variable target en Y_train\n",
    "knn.fit(X_train,y_train)\n",
    "\n",
    "# Obtenemos los casos clasificados de X_test con el modelo \n",
    "y_pred_knn = knn.predict(X_test) \n",
    "y_pred_prob_knn = knn.predict_proba(X_test)[:, 1]"
   ]
  },
  {
   "cell_type": "code",
   "execution_count": null,
   "metadata": {
    "colab": {
     "base_uri": "https://localhost:8080/",
     "height": 396
    },
    "executionInfo": {
     "elapsed": 327,
     "status": "ok",
     "timestamp": 1672626513860,
     "user": {
      "displayName": "Pedro Ignacio Saravia",
      "userId": "08573639063922177054"
     },
     "user_tz": 180
    },
    "id": "HWNUfChGm_V1",
    "outputId": "ffde2486-02c5-4ace-d2f8-98460aca3631"
   },
   "outputs": [],
   "source": [
    "# Graficamos matriz de confusion con 'Y testing' y 'Y_prediccion_knn'\n",
    "skplt.metrics.plot_confusion_matrix(y_test, y_pred_knn, figsize=(6,6), cmap= 'YlGnBu');\n",
    "\n",
    "print('Accuracy:', accuracy_score(y_test, y_pred_knn))\n",
    "print('ROC AUC Score:', roc_auc_score(y_test, y_pred_prob_knn)) "
   ]
  },
  {
   "cell_type": "code",
   "execution_count": null,
   "metadata": {
    "colab": {
     "base_uri": "https://localhost:8080/"
    },
    "executionInfo": {
     "elapsed": 341,
     "status": "ok",
     "timestamp": 1672626538797,
     "user": {
      "displayName": "Pedro Ignacio Saravia",
      "userId": "08573639063922177054"
     },
     "user_tz": 180
    },
    "id": "tzikGfgnnH5j",
    "outputId": "228f0084-dd44-469c-d42c-f3149c1ce83c"
   },
   "outputs": [],
   "source": [
    "from sklearn import metrics # vamos a medir el desempeño\n",
    "print(metrics.classification_report(y_test, y_pred_knn)) #obtenemos las metricas de clasificacion"
   ]
  },
  {
   "cell_type": "markdown",
   "metadata": {
    "id": "pEDhDoCbqJKm"
   },
   "source": [
    "### Decision Tree\n",
    "\n",
    "Ahora pasaremos a probar el algoritmo de árbol de decisión o Decisión Tree por su denominación en inglés."
   ]
  },
  {
   "cell_type": "code",
   "execution_count": null,
   "metadata": {
    "colab": {
     "base_uri": "https://localhost:8080/",
     "height": 396
    },
    "executionInfo": {
     "elapsed": 308,
     "status": "ok",
     "timestamp": 1672626544614,
     "user": {
      "displayName": "Pedro Ignacio Saravia",
      "userId": "08573639063922177054"
     },
     "user_tz": 180
    },
    "id": "BzxwLtaRqKDJ",
    "outputId": "20e887b5-b3be-4b8a-d89b-8f0eaf47b826"
   },
   "outputs": [],
   "source": [
    "# Importamos el algoritmo de SKLearn\n",
    "from sklearn.tree import DecisionTreeClassifier, plot_tree\n",
    "\n",
    "# Creamos el modelo dtc con el algoritmo de DecisionTreeClassifier\n",
    "dtc = DecisionTreeClassifier(criterion='entropy', max_depth=3) \n",
    "dtc.fit(X_train,y_train)\n",
    "\n",
    "# Obtenemos los casos clasificados de X_test con el modelo\n",
    "y_pred_dtc = dtc.predict(X_test)  \n",
    "y_pred_prob_dtc = dtc.predict_proba(X_test)[:, 1]\n",
    "\n",
    "skplt.metrics.plot_confusion_matrix(y_test, y_pred_dtc, figsize=(6,6), cmap= 'YlGnBu');\n",
    "print('Accuracy:', accuracy_score(y_test, y_pred_dtc))\n",
    "print('ROC AUC Score:', roc_auc_score(y_test, y_pred_prob_dtc))"
   ]
  },
  {
   "cell_type": "code",
   "execution_count": null,
   "metadata": {
    "colab": {
     "base_uri": "https://localhost:8080/"
    },
    "executionInfo": {
     "elapsed": 359,
     "status": "ok",
     "timestamp": 1672626573762,
     "user": {
      "displayName": "Pedro Ignacio Saravia",
      "userId": "08573639063922177054"
     },
     "user_tz": 180
    },
    "id": "XfHcoB9xqSXi",
    "outputId": "d57a0304-a302-4daa-e1e5-0e57f36402cf"
   },
   "outputs": [],
   "source": [
    "from sklearn import metrics # vamos a medir el desempeño\n",
    "print(metrics.classification_report(y_test, y_pred_dtc)) #obtenemos las metricas de clasificacion"
   ]
  },
  {
   "cell_type": "code",
   "execution_count": null,
   "metadata": {
    "colab": {
     "base_uri": "https://localhost:8080/"
    },
    "executionInfo": {
     "elapsed": 275,
     "status": "ok",
     "timestamp": 1672626586342,
     "user": {
      "displayName": "Pedro Ignacio Saravia",
      "userId": "08573639063922177054"
     },
     "user_tz": 180
    },
    "id": "JpExOE5ZqvkW",
    "outputId": "b5c83e45-dd01-4c58-c148-89c766aa3a10"
   },
   "outputs": [],
   "source": [
    "feature_names = X_test.columns # obtenemos el nombre de las variables que estan en el dataset de training\n",
    "feature_names"
   ]
  },
  {
   "cell_type": "code",
   "execution_count": null,
   "metadata": {
    "colab": {
     "base_uri": "https://localhost:8080/",
     "height": 490
    },
    "executionInfo": {
     "elapsed": 1402,
     "status": "ok",
     "timestamp": 1672626593479,
     "user": {
      "displayName": "Pedro Ignacio Saravia",
      "userId": "08573639063922177054"
     },
     "user_tz": 180
    },
    "id": "m5Fwki3Bq2xS",
    "outputId": "98f28f33-4402-4888-8524-87b261040ce3"
   },
   "outputs": [],
   "source": [
    "plt.figure(figsize=(12, 4), dpi=200)\n",
    "plot_tree(dtc, feature_names=feature_names, filled=True) #graficamos el árbol del modelo dtc con los feature names obtenidos\n",
    "plt.show()"
   ]
  },
  {
   "cell_type": "markdown",
   "metadata": {
    "id": "T18EK_VpoFD7"
   },
   "source": [
    "### Random Forest\n",
    "\n",
    "Finalmente probaremos el algoritmo de Random Forest o bosques aleatorios en español."
   ]
  },
  {
   "cell_type": "code",
   "execution_count": null,
   "metadata": {
    "colab": {
     "base_uri": "https://localhost:8080/",
     "height": 396
    },
    "executionInfo": {
     "elapsed": 2249,
     "status": "ok",
     "timestamp": 1672627751591,
     "user": {
      "displayName": "Pedro Ignacio Saravia",
      "userId": "08573639063922177054"
     },
     "user_tz": 180
    },
    "id": "WUz-8MBtoJF8",
    "outputId": "294fd6c4-c92a-412a-8e11-6aab4fd87cb2"
   },
   "outputs": [],
   "source": [
    "# Importamos el algoritmo de SKLearn\n",
    "from sklearn.ensemble import RandomForestClassifier\n",
    "\n",
    "# asignamos a rf el algoritmo de RandomForestClassifier\n",
    "rf = RandomForestClassifier(n_estimators= 100)\n",
    "\n",
    "# Entrenamos el modelo rf con las variables en X_train y la variable target en Y_train\n",
    "rf.fit(X_train,y_train)\n",
    "\n",
    "# Obtenemos los casos clasificados de X_test con el modelo\n",
    "y_pred_rf = rf.predict(X_test)  \n",
    "y_pred_prob_rf = rf.predict_proba(X_test)[:, 1]\n",
    "\n",
    "skplt.metrics.plot_confusion_matrix(y_test, y_pred_rf, figsize=(6,6), cmap= 'YlGnBu');\n",
    "print('Accuracy:', accuracy_score(y_test, y_pred_rf))\n",
    "print('ROC AUC Score:', roc_auc_score(y_test, y_pred_prob_rf))"
   ]
  },
  {
   "cell_type": "code",
   "execution_count": null,
   "metadata": {
    "colab": {
     "base_uri": "https://localhost:8080/"
    },
    "executionInfo": {
     "elapsed": 263,
     "status": "ok",
     "timestamp": 1672627758242,
     "user": {
      "displayName": "Pedro Ignacio Saravia",
      "userId": "08573639063922177054"
     },
     "user_tz": 180
    },
    "id": "kuOUJjSyqEnR",
    "outputId": "888ebe7d-edec-408d-cb31-fa2cde7dcb49"
   },
   "outputs": [],
   "source": [
    "from sklearn import metrics # vamos a medir el desempeño\n",
    "print(metrics.classification_report(y_test, y_pred_rf)) #obtenemos las metricas de clasificacion"
   ]
  },
  {
   "cell_type": "markdown",
   "metadata": {
    "id": "Ja7NY1UDdGv0"
   },
   "source": [
    "Las métricas obtenidas con este último modelo son demasiado altas, de lo que se desprende que hay un posible sobre ajuste (over fitting) del set de entrenamiento. Trabajaremos a continuación con el análisis de componentes principales (PCA) e hiperparámetros para ver si podemos corregir éste problema."
   ]
  },
  {
   "cell_type": "markdown",
   "metadata": {
    "id": "M4OOrC8U3CCx"
   },
   "source": [
    "##Análisis de Componentes Principales (PCA)"
   ]
  },
  {
   "cell_type": "code",
   "execution_count": null,
   "metadata": {
    "executionInfo": {
     "elapsed": 275,
     "status": "ok",
     "timestamp": 1672627763092,
     "user": {
      "displayName": "Pedro Ignacio Saravia",
      "userId": "08573639063922177054"
     },
     "user_tz": 180
    },
    "id": "brhsFpXy3Bc6"
   },
   "outputs": [],
   "source": [
    "#Importamos las librerías pertinentes\n",
    "from sklearn.decomposition import PCA\n",
    "from sklearn.pipeline import Pipeline\n",
    "from sklearn.impute import SimpleImputer\n",
    "import numpy as np\n",
    "\n",
    "Imputer = SimpleImputer(missing_values=np.nan, strategy='mean')"
   ]
  },
  {
   "cell_type": "code",
   "execution_count": null,
   "metadata": {
    "executionInfo": {
     "elapsed": 262,
     "status": "ok",
     "timestamp": 1672627765885,
     "user": {
      "displayName": "Pedro Ignacio Saravia",
      "userId": "08573639063922177054"
     },
     "user_tz": 180
    },
    "id": "0qc3JofM40RX"
   },
   "outputs": [],
   "source": [
    "pipeline = Pipeline(steps = [('imputer', Imputer), ('pca', PCA())])"
   ]
  },
  {
   "cell_type": "code",
   "execution_count": null,
   "metadata": {
    "executionInfo": {
     "elapsed": 279,
     "status": "ok",
     "timestamp": 1672627769343,
     "user": {
      "displayName": "Pedro Ignacio Saravia",
      "userId": "08573639063922177054"
     },
     "user_tz": 180
    },
    "id": "Ny0SYs1W6gIt"
   },
   "outputs": [],
   "source": [
    "#Estandarizamos los datos de test y entrenamiento\n",
    "train_pca = pipeline.fit_transform(X_train)\n",
    "test_pca = pipeline.transform(X_test)"
   ]
  },
  {
   "cell_type": "code",
   "execution_count": null,
   "metadata": {
    "executionInfo": {
     "elapsed": 288,
     "status": "ok",
     "timestamp": 1672627774701,
     "user": {
      "displayName": "Pedro Ignacio Saravia",
      "userId": "08573639063922177054"
     },
     "user_tz": 180
    },
    "id": "vxFPIgbR7IkN"
   },
   "outputs": [],
   "source": [
    "# Extracción del objeto pca\n",
    "pca = pipeline.named_steps['pca']"
   ]
  },
  {
   "cell_type": "code",
   "execution_count": null,
   "metadata": {
    "colab": {
     "base_uri": "https://localhost:8080/",
     "height": 351
    },
    "executionInfo": {
     "elapsed": 317,
     "status": "ok",
     "timestamp": 1672627778722,
     "user": {
      "displayName": "Pedro Ignacio Saravia",
      "userId": "08573639063922177054"
     },
     "user_tz": 180
    },
    "id": "BxD3kylv7OFr",
    "outputId": "d44d78f3-6fe4-4dd1-a696-9e52764cc3fa"
   },
   "outputs": [],
   "source": [
    "# Graficamos la Varianza acumulada explicada por PCA´s\n",
    "plt.figure(figsize = (10, 5))\n",
    "plt.plot(list(range(X_train.shape[1])), np.cumsum(pca.explained_variance_ratio_), 'r-')\n",
    "plt.xlabel('Número de Componentes Principales'); plt.ylabel('Varianza acumulada explicada por PCA´s');\n",
    "plt.title('Varianza acumulada explicada por PCA´s');"
   ]
  },
  {
   "cell_type": "code",
   "execution_count": null,
   "metadata": {
    "colab": {
     "base_uri": "https://localhost:8080/",
     "height": 802
    },
    "executionInfo": {
     "elapsed": 1278,
     "status": "ok",
     "timestamp": 1672627792276,
     "user": {
      "displayName": "Pedro Ignacio Saravia",
      "userId": "08573639063922177054"
     },
     "user_tz": 180
    },
    "id": "Sj5BRGNdTC1u",
    "outputId": "ba20cb2e-8c4e-463f-a4cb-29b57e155ec3"
   },
   "outputs": [],
   "source": [
    "pca_df = pd.DataFrame({'pc_1': train_pca[:, 0], 'pc_2': train_pca[:, 2], 'Objetivo': y_train})\n",
    "\n",
    "# Graficamos PC2 vs PC1 coloreado por valores objetivo (Atrittion_Flag_Value)\n",
    "sns.lmplot('pc_1', 'pc_2', data = pca_df, hue = 'Objetivo', fit_reg=False, height = 10)\n",
    "plt.title('PC2 vs PC1 por Objetivo');"
   ]
  },
  {
   "cell_type": "code",
   "execution_count": null,
   "metadata": {
    "colab": {
     "base_uri": "https://localhost:8080/"
    },
    "executionInfo": {
     "elapsed": 274,
     "status": "ok",
     "timestamp": 1672627803381,
     "user": {
      "displayName": "Pedro Ignacio Saravia",
      "userId": "08573639063922177054"
     },
     "user_tz": 180
    },
    "id": "7lix2oW5L5y7",
    "outputId": "ea298ca5-1164-4929-c153-dfb0ae025f62"
   },
   "outputs": [],
   "source": [
    "print('2 Componentes Principales explican el {:.4f}% de la varianza.'.format(100 * np.sum(pca.explained_variance_ratio_[:2])))"
   ]
  },
  {
   "cell_type": "markdown",
   "metadata": {
    "id": "Ml4uSw01OKRI"
   },
   "source": [
    "## Cross Validation con GridSearch para el Modelo de Random Forest"
   ]
  },
  {
   "cell_type": "markdown",
   "metadata": {
    "id": "TxUSJbPH8qoT"
   },
   "source": [
    "### Feature Importances"
   ]
  },
  {
   "cell_type": "code",
   "execution_count": null,
   "metadata": {
    "colab": {
     "base_uri": "https://localhost:8080/",
     "height": 265
    },
    "executionInfo": {
     "elapsed": 338,
     "status": "ok",
     "timestamp": 1672627814915,
     "user": {
      "displayName": "Pedro Ignacio Saravia",
      "userId": "08573639063922177054"
     },
     "user_tz": 180
    },
    "id": "O63SXGJa8syS",
    "outputId": "b5c13276-c671-4ab0-f38f-fbdc97485dc4"
   },
   "outputs": [],
   "source": [
    "# Seleccion de Feature importances del modelo de Random Forest\n",
    "importances = rf.feature_importances_\n",
    "indices = np.argsort(importances)\n",
    "\n",
    "fig, ax = plt.subplots()\n",
    "ax.barh(range(len(importances)), importances[indices])\n",
    "ax.set_yticks(range(len(importances)))\n",
    "_ = ax.set_yticklabels(np.array(X_train.columns)[indices])"
   ]
  },
  {
   "cell_type": "markdown",
   "metadata": {
    "id": "yeBbQrWw9H7P"
   },
   "source": [
    "### Hyperparametros para Random Forest (Nuevo accuracy:92%)"
   ]
  },
  {
   "cell_type": "code",
   "execution_count": null,
   "metadata": {
    "colab": {
     "base_uri": "https://localhost:8080/"
    },
    "executionInfo": {
     "elapsed": 278,
     "status": "ok",
     "timestamp": 1672627830279,
     "user": {
      "displayName": "Pedro Ignacio Saravia",
      "userId": "08573639063922177054"
     },
     "user_tz": 180
    },
    "id": "hz5cJ3qQ9Dug",
    "outputId": "739163f7-24f2-43af-d9c3-ea3e5cfc7e1f"
   },
   "outputs": [],
   "source": [
    "rf.get_params()  # comenzamos obteniendo los parametros que podriamos ajustar"
   ]
  },
  {
   "cell_type": "code",
   "execution_count": null,
   "metadata": {
    "colab": {
     "base_uri": "https://localhost:8080/"
    },
    "executionInfo": {
     "elapsed": 92824,
     "status": "ok",
     "timestamp": 1672627936536,
     "user": {
      "displayName": "Pedro Ignacio Saravia",
      "userId": "08573639063922177054"
     },
     "user_tz": 180
    },
    "id": "T-5TJmZS9agw",
    "outputId": "f3e1db90-0ae0-4185-acd9-59fc07dac4cb"
   },
   "outputs": [],
   "source": [
    "from sklearn.model_selection import GridSearchCV #importamos el metodo de GridSearch Cross Validation en donde vemos con que grupo de hyperparametros vamos a probar distintos modelos\n",
    "\n",
    "parametros = {\"criterion\":(\"gini\",\"entropy\"),\n",
    "              \"n_estimators\":(100, 200, 300),\n",
    "              \"max_samples\":(1/3, 2/3)              \n",
    "              }\n",
    "\n",
    "GridSearch = GridSearchCV(rf, parametros, scoring=\"accuracy\")\n",
    "\n",
    "GridSearch.fit(X, y)"
   ]
  },
  {
   "cell_type": "code",
   "execution_count": null,
   "metadata": {
    "colab": {
     "base_uri": "https://localhost:8080/"
    },
    "executionInfo": {
     "elapsed": 291,
     "status": "ok",
     "timestamp": 1672627952069,
     "user": {
      "displayName": "Pedro Ignacio Saravia",
      "userId": "08573639063922177054"
     },
     "user_tz": 180
    },
    "id": "KJjlYkav9stY",
    "outputId": "ca3a3a53-19ba-43fe-ff56-7f3ea9efca68"
   },
   "outputs": [],
   "source": [
    "sorted(GridSearch.cv_results_.keys())"
   ]
  },
  {
   "cell_type": "code",
   "execution_count": null,
   "metadata": {
    "colab": {
     "base_uri": "https://localhost:8080/"
    },
    "executionInfo": {
     "elapsed": 340,
     "status": "ok",
     "timestamp": 1672627963370,
     "user": {
      "displayName": "Pedro Ignacio Saravia",
      "userId": "08573639063922177054"
     },
     "user_tz": 180
    },
    "id": "_jfSvVHc9tYC",
    "outputId": "635bdd2f-bf0a-4d8f-fe09-524b5ed7cf58"
   },
   "outputs": [],
   "source": [
    "GridSearch.cv_results_[\"params\"]"
   ]
  },
  {
   "cell_type": "code",
   "execution_count": null,
   "metadata": {
    "colab": {
     "base_uri": "https://localhost:8080/"
    },
    "executionInfo": {
     "elapsed": 266,
     "status": "ok",
     "timestamp": 1672627967815,
     "user": {
      "displayName": "Pedro Ignacio Saravia",
      "userId": "08573639063922177054"
     },
     "user_tz": 180
    },
    "id": "uJBBXpxn94Gw",
    "outputId": "1818a7c7-ceb9-4885-b31a-e5a2fa6e7e90"
   },
   "outputs": [],
   "source": [
    "print(GridSearch.cv_results_[\"rank_test_score\"])\n",
    "print(GridSearch.cv_results_[\"mean_test_score\"])\n",
    "print('Mejor Accuracy Obtenido:', GridSearch.best_score_ ) # obtenemos el valor del mejor score de ACCURACY que obtendriamos con los hyperparametros que probamos\n",
    "print('Mejores Parametros', GridSearch.best_params_) # obtenemos la combinación de los mejores hyperparametros para nuestro modelos"
   ]
  },
  {
   "cell_type": "markdown",
   "metadata": {
    "id": "J81G6toyfH5T"
   },
   "source": [
    "El nuevo accuracy obtenido de 92% resulta más razonable que el obtenido sin ajustar los hyperparámetros."
   ]
  },
  {
   "cell_type": "markdown",
   "metadata": {
    "id": "i88cMZY4g5M7"
   },
   "source": [
    "En resumen, estos son los valores que obtuvimos con los distintos modelos probados:\n",
    "\n",
    "![image.png](data:image/png;base64,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)"
   ]
  },
  {
   "cell_type": "markdown",
   "metadata": {
    "id": "CBKGredwkZ16"
   },
   "source": [
    "A simple vista las mejores métricas las tiene el modelo de Random Forest sin ajustar, pero claramente ello obedece a una situación de over fitting de los datos. Una vez ajustado el modelo de Random Forest el accuracy está por debajo del modelo KNN que a su vez también supera en el conjunto de métricas al modelo de Decision Tree. Por lo que en conclusión nos quedaríamos con el modelo KNN para predecir los posibles casos de abandono de clientes."
   ]
  },
  {
   "cell_type": "markdown",
   "metadata": {
    "id": "342wrlY0qmqQ"
   },
   "source": [
    "# Líneas Futuras\n",
    "Si bien se ha logrado obtener modelos predictivos del attrition de clientes con muy buenas métricas, sería recomendable avanzar con el entendimiento de ciertos comportamientos de los mismos como podrían ser las razones por las cuales se contactan repetidamente algunos de éstos hasta terminar dejando de ser cliente. Ampliar la información del dataset desagregando las razones de dichos contactos en, por ejemplo, \"Contactos por Reclamos\", \"Contactos para adquirir nuevos productos\" o \"Contactos por consultas\", podría no solo mejorar las predicciones del modelo sino también ayudar a elegir qué estrategia convendría utilizar con cada cliente para su fidelización."
   ]
  },
  {
   "cell_type": "markdown",
   "metadata": {
    "id": "342wrlY0qmqQ"
   },
   "source": [
    "# Conclusiones\n",
    "El análisis del dataset nos ha permitido conocer como se distribuyen los clientes del banco en función de sus características demográficas (edad, género, estado civil, nivel de educación, nivel de ingresos, etc.) y de su interacción con la compañía (antigüedad del cliente, cantidad de productos adquiridos, nivel de consumo, límite de crédito, etc.). Han sido ésta últimas variables las que han demostrado ser más efectivas a la hora de predecir el attrition de los clientes, sobre todo las que se refieren al saldo de revolving y al monto total y a la cantidad de transacciones realizadas por los clientes.\n",
    "Dado que del total de la cartera de clientes solo el 16% entraba en la categoría de attrited, se tuvo que proceder a utilizar la técnica de oversampling para balancear los datos y evitar de esta forma caer en un error de sesgo de clase a la hora de ejecutar los modelos de predicción.\n",
    "Del análisis de las métricas obtenidas de cada modelo de machine learnig ejecutado concluímos que, si bien los modelos de Árbol de Decisión (Decision Tree) y de Bosques Aleatorios (Random Forest) lograron buenos resultados, es el de K Vecinos más Cercanos (KNN) el que recomendamos aplicar al banco dado que obtuvo una exactitud (accuracy) del 94%, una precisión del 91%, esto es, 9,1 veces de cada 10 casos fueron bien predichos y una sensibilidad (recall) del 98%, es decir, casi la totalidad de los casos de atrittion fueron bien predichos por éste modelo. Ësta última es en definitiva la mejor métrica para evaluar que modelo recomendar al banco, ya que, dado el objetivo perseguido de evitar la pérdidad de clientes, es preferible perder precisión, o sea, no clasificar perfectamente los casos que no son potenciales clientes perdidos, en pos de obtener mejores predicciones de los casos positivos de atrittion."
   ]
  }
 ],
 "metadata": {
  "colab": {
   "collapsed_sections": [
    "qXd1-m0mzxo9",
    "q9d0hGDIZE4w",
    "JReRgGoDbMxs"
   ],
   "provenance": []
  },
  "kernelspec": {
   "display_name": "Python 3",
   "language": "python",
   "name": "python3"
  },
  "language_info": {
   "codemirror_mode": {
    "name": "ipython",
    "version": 3
   },
   "file_extension": ".py",
   "mimetype": "text/x-python",
   "name": "python",
   "nbconvert_exporter": "python",
   "pygments_lexer": "ipython3",
   "version": "3.8.8"
  }
 },
 "nbformat": 4,
 "nbformat_minor": 1
}
